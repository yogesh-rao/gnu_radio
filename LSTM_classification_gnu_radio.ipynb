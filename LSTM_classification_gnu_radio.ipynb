{
  "nbformat": 4,
  "nbformat_minor": 0,
  "metadata": {
    "colab": {
      "name": "LSTM_classification_gnu-radio.ipynb",
      "provenance": [],
      "collapsed_sections": []
    },
    "kernelspec": {
      "name": "python2",
      "display_name": "Python 2"
    },
    "accelerator": "GPU"
  },
  "cells": [
    {
      "cell_type": "code",
      "metadata": {
        "id": "xta5PJwkGl_a",
        "colab_type": "code",
        "colab": {
          "base_uri": "https://localhost:8080/",
          "height": 305
        },
        "outputId": "5a7e51f5-e12a-4f67-a0f5-fc6ffd8f5da2"
      },
      "source": [
        "import gnuradio"
      ],
      "execution_count": null,
      "outputs": [
        {
          "output_type": "error",
          "ename": "ImportError",
          "evalue": "ignored",
          "traceback": [
            "\u001b[0;31m\u001b[0m",
            "\u001b[0;31mImportError\u001b[0mTraceback (most recent call last)",
            "\u001b[0;32m<ipython-input-3-9dfe3f3e2626>\u001b[0m in \u001b[0;36m<module>\u001b[0;34m()\u001b[0m\n\u001b[0;32m----> 1\u001b[0;31m \u001b[0;32mimport\u001b[0m \u001b[0mgnuradio\u001b[0m\u001b[0;34m\u001b[0m\u001b[0m\n\u001b[0m",
            "\u001b[0;31mImportError\u001b[0m: No module named gnuradio",
            "",
            "\u001b[0;31m---------------------------------------------------------------------------\u001b[0;32m\nNOTE: If your import is failing due to a missing package, you can\nmanually install dependencies using either !pip or !apt.\n\nTo view examples of installing some common dependencies, click the\n\"Open Examples\" button below.\n\u001b[0;31m---------------------------------------------------------------------------\u001b[0m\n"
          ]
        }
      ]
    },
    {
      "cell_type": "code",
      "metadata": {
        "id": "tW5QBeSzGpu3",
        "colab_type": "code",
        "colab": {
          "base_uri": "https://localhost:8080/",
          "height": 124
        },
        "outputId": "a1b18cf9-6ac6-4884-9882-e1bbd3d0b150"
      },
      "source": [
        "from google.colab import drive\n",
        "drive.mount('/gdrive')"
      ],
      "execution_count": null,
      "outputs": [
        {
          "output_type": "stream",
          "text": [
            "Go to this URL in a browser: https://accounts.google.com/o/oauth2/auth?client_id=947318989803-6bn6qk8qdgf4n4g3pfee6491hc0brc4i.apps.googleusercontent.com&redirect_uri=urn%3aietf%3awg%3aoauth%3a2.0%3aoob&response_type=code&scope=email%20https%3a%2f%2fwww.googleapis.com%2fauth%2fdocs.test%20https%3a%2f%2fwww.googleapis.com%2fauth%2fdrive%20https%3a%2f%2fwww.googleapis.com%2fauth%2fdrive.photos.readonly%20https%3a%2f%2fwww.googleapis.com%2fauth%2fpeopleapi.readonly\n",
            "\n",
            "Enter your authorization code:\n",
            "··········\n",
            "Mounted at /gdrive\n"
          ],
          "name": "stdout"
        }
      ]
    },
    {
      "cell_type": "code",
      "metadata": {
        "id": "P-zbCLmwKuyT",
        "colab_type": "code",
        "colab": {
          "base_uri": "https://localhost:8080/",
          "height": 305
        },
        "outputId": "22a49587-d81b-4ce2-9739-3aea25fdb55f"
      },
      "source": [
        "import gnuradio"
      ],
      "execution_count": null,
      "outputs": [
        {
          "output_type": "error",
          "ename": "ImportError",
          "evalue": "ignored",
          "traceback": [
            "\u001b[0;31m\u001b[0m",
            "\u001b[0;31mImportError\u001b[0mTraceback (most recent call last)",
            "\u001b[0;32m<ipython-input-2-9dfe3f3e2626>\u001b[0m in \u001b[0;36m<module>\u001b[0;34m()\u001b[0m\n\u001b[0;32m----> 1\u001b[0;31m \u001b[0;32mimport\u001b[0m \u001b[0mgnuradio\u001b[0m\u001b[0;34m\u001b[0m\u001b[0;34m\u001b[0m\u001b[0m\n\u001b[0m",
            "\u001b[0;31mImportError\u001b[0m: No module named gnuradio",
            "",
            "\u001b[0;31m---------------------------------------------------------------------------\u001b[0;32m\nNOTE: If your import is failing due to a missing package, you can\nmanually install dependencies using either !pip or !apt.\n\nTo view examples of installing some common dependencies, click the\n\"Open Examples\" button below.\n\u001b[0;31m---------------------------------------------------------------------------\u001b[0m\n"
          ]
        }
      ]
    },
    {
      "cell_type": "code",
      "metadata": {
        "id": "KWqaVF0r_CgO",
        "colab_type": "code",
        "colab": {
          "base_uri": "https://localhost:8080/",
          "height": 1000
        },
        "outputId": "ac308226-ba24-4642-902c-c3cf798492f0"
      },
      "source": [
        "!apt-get update\n",
        "!pip install scikit-commpy\n",
        "#!apt-get install python-qt4\n",
        "!apt install gnuradio\n",
        "!pip install mapper\n",
        "!pip install cmappertools\n",
        "!apt install swig\n",
        "!pip install fastcluster\n",
        "import os\n",
        "!sudo git clone https://github.com/gr-vt/gr-mapper.git\n",
        "os.chdir('gr-mapper')\n",
        "#cd gr-mapper\n",
        "\n",
        "!sudo mkdir build\n",
        "\n",
        "os.chdir('build')\n",
        "\n",
        "!sudo cmake ..\n",
        "\n",
        "!sudo make\n",
        "\n",
        "!sudo make install\n",
        "\n",
        "!sudo ldconfig"
      ],
      "execution_count": null,
      "outputs": [
        {
          "output_type": "stream",
          "text": [
            "\r0% [Working]\r            \rHit:1 http://security.ubuntu.com/ubuntu bionic-security InRelease\n",
            "\r0% [Connecting to archive.ubuntu.com (91.189.88.173)] [Connecting to cloud.r-pr\r                                                                               \rHit:2 http://ppa.launchpad.net/graphics-drivers/ppa/ubuntu bionic InRelease\n",
            "\r0% [Waiting for headers] [Connecting to cloud.r-project.org] [Connected to deve\r0% [1 InRelease gpgv 88.7 kB] [Waiting for headers] [Connecting to cloud.r-proj\r                                                                               \rHit:3 http://archive.ubuntu.com/ubuntu bionic InRelease\n",
            "\r0% [1 InRelease gpgv 88.7 kB] [Waiting for headers] [Connecting to cloud.r-proj\r                                                                               \rHit:4 http://ppa.launchpad.net/marutter/c2d4u3.5/ubuntu bionic InRelease\n",
            "\r0% [1 InRelease gpgv 88.7 kB] [Waiting for headers] [Connecting to cloud.r-proj\r                                                                               \rHit:5 http://archive.ubuntu.com/ubuntu bionic-updates InRelease\n",
            "\r0% [1 InRelease gpgv 88.7 kB] [Waiting for headers] [Connecting to cloud.r-proj\r                                                                               \rHit:6 http://archive.ubuntu.com/ubuntu bionic-backports InRelease\n",
            "\r0% [1 InRelease gpgv 88.7 kB] [Connecting to cloud.r-project.org] [Waiting for \r                                                                               \rHit:7 https://cloud.r-project.org/bin/linux/ubuntu bionic-cran35/ InRelease\n",
            "\r                                                                               \r0% [1 InRelease gpgv 88.7 kB] [Waiting for headers]\r                                                   \rIgn:8 https://developer.download.nvidia.com/compute/cuda/repos/ubuntu1804/x86_64  InRelease\n",
            "\r0% [1 InRelease gpgv 88.7 kB] [Waiting for headers]\r                                                   \r0% [Waiting for headers]\r0% [2 InRelease gpgv 21.3 kB] [Waiting for headers]\r                                                   \rIgn:9 https://developer.download.nvidia.com/compute/machine-learning/repos/ubuntu1804/x86_64  InRelease\n",
            "\r                                                   \r0% [2 InRelease gpgv 21.3 kB]\r                             \rHit:10 https://developer.download.nvidia.com/compute/cuda/repos/ubuntu1804/x86_64  Release\n",
            "Hit:11 https://developer.download.nvidia.com/compute/machine-learning/repos/ubuntu1804/x86_64  Release\n",
            "Reading package lists... Done\n",
            "Collecting scikit-commpy\n",
            "  Downloading https://files.pythonhosted.org/packages/55/b2/175afee1e40820f8f60d6721abfaed79bcdedc557dfe81ec6e7918b937f8/scikit_commpy-0.4.0-py2-none-any.whl\n",
            "Requirement already satisfied: scipy in /usr/local/lib/python2.7/dist-packages (from scikit-commpy) (1.2.2)\n",
            "Requirement already satisfied: numpy in /usr/local/lib/python2.7/dist-packages (from scikit-commpy) (1.16.4)\n",
            "Requirement already satisfied: matplotlib in /usr/local/lib/python2.7/dist-packages (from scikit-commpy) (2.2.4)\n",
            "Requirement already satisfied: cycler>=0.10 in /usr/local/lib/python2.7/dist-packages (from matplotlib->scikit-commpy) (0.10.0)\n",
            "Requirement already satisfied: backports.functools-lru-cache in /usr/local/lib/python2.7/dist-packages (from matplotlib->scikit-commpy) (1.5)\n",
            "Requirement already satisfied: subprocess32 in /usr/local/lib/python2.7/dist-packages (from matplotlib->scikit-commpy) (3.5.4)\n",
            "Requirement already satisfied: kiwisolver>=1.0.1 in /usr/local/lib/python2.7/dist-packages (from matplotlib->scikit-commpy) (1.1.0)\n",
            "Requirement already satisfied: pytz in /usr/local/lib/python2.7/dist-packages (from matplotlib->scikit-commpy) (2018.9)\n",
            "Requirement already satisfied: six>=1.10 in /usr/local/lib/python2.7/dist-packages (from matplotlib->scikit-commpy) (1.12.0)\n",
            "Requirement already satisfied: python-dateutil>=2.1 in /usr/local/lib/python2.7/dist-packages (from matplotlib->scikit-commpy) (2.5.3)\n",
            "Requirement already satisfied: pyparsing!=2.0.4,!=2.1.2,!=2.1.6,>=2.0.1 in /usr/local/lib/python2.7/dist-packages (from matplotlib->scikit-commpy) (2.4.0)\n",
            "Requirement already satisfied: setuptools in /usr/local/lib/python2.7/dist-packages (from kiwisolver>=1.0.1->matplotlib->scikit-commpy) (42.0.2)\n",
            "Installing collected packages: scikit-commpy\n",
            "Successfully installed scikit-commpy-0.4.0\n",
            "Reading package lists... Done\n",
            "Building dependency tree       \n",
            "Reading state information... Done\n",
            "The following package was automatically installed and is no longer required:\n",
            "  libnvidia-common-430\n",
            "Use 'apt autoremove' to remove it.\n",
            "The following additional packages will be installed:\n",
            "  fonts-lyx gnuradio-dev javascript-common libcodec2-0.7 libcomedi0\n",
            "  libcppunit-1.14-0 libcppunit-dev libfftw3-bin libfftw3-dev libfftw3-long3\n",
            "  libfftw3-quad3 libfftw3-single3 libgnuradio-analog3.7.11\n",
            "  libgnuradio-atsc3.7.11 libgnuradio-audio3.7.11 libgnuradio-blocks3.7.11\n",
            "  libgnuradio-channels3.7.11 libgnuradio-comedi3.7.11\n",
            "  libgnuradio-digital3.7.11 libgnuradio-dtv3.7.11 libgnuradio-fcd3.7.11\n",
            "  libgnuradio-fec3.7.11 libgnuradio-fft3.7.11 libgnuradio-filter3.7.11\n",
            "  libgnuradio-noaa3.7.11 libgnuradio-pager3.7.11 libgnuradio-pmt3.7.11\n",
            "  libgnuradio-qtgui3.7.11 libgnuradio-runtime3.7.11 libgnuradio-trellis3.7.11\n",
            "  libgnuradio-uhd3.7.11 libgnuradio-video-sdl3.7.11 libgnuradio-vocoder3.7.11\n",
            "  libgnuradio-wavelet3.7.11 libgnuradio-wxgui3.7.11 libgnuradio-zeromq3.7.11\n",
            "  libgsl23 libgslcblas0 libjs-jquery-ui liblog4cpp5-dev liblog4cpp5v5\n",
            "  libnotify4 liborc-0.4-0 libportaudio2 libqt5designer5 libqt5help5\n",
            "  libqt5opengl5 libqt5svg5 libqwt-qt5-6 librtlsdr0 libsdl1.2debian\n",
            "  libuhd003.010.003 libvolk1-bin libvolk1-dev libvolk1.3 libwxbase3.0-0v5\n",
            "  libwxgtk3.0-gtk3-0v5 notification-daemon python-asn1crypto\n",
            "  python-backports.functools-lru-cache python-bs4 python-cairo python-certifi\n",
            "  python-cffi-backend python-chardet python-cheetah python-cryptography\n",
            "  python-cycler python-dateutil python-decorator python-enum34\n",
            "  python-gobject-2 python-gtk2 python-html5lib python-idna python-ipaddress\n",
            "  python-lxml python-matplotlib python-matplotlib-data python-networkx\n",
            "  python-olefile python-opengl python-openssl python-pil python-pkg-resources\n",
            "  python-pyparsing python-pyqt5 python-requests python-scipy python-sip\n",
            "  python-six python-subprocess32 python-tz python-urllib3 python-webencodings\n",
            "  python-wxgtk3.0 python-wxversion python-yaml python-zmq rtl-sdr\n",
            "  ttf-bitstream-vera uhd-host\n",
            "Suggested packages:\n",
            "  gr-fosphor gr-osmosdr libqwt-qt5-dev swig apache2 | lighttpd | httpd\n",
            "  libcppunit-doc libfftw3-doc gsl-ref-psdoc | gsl-doc-pdf | gsl-doc-info\n",
            "  | gsl-ref-html libjs-jquery-ui-docs python-markdown python-pygments\n",
            "  python-memcache python-cryptography-doc python-cryptography-vectors\n",
            "  python-cycler-doc python-enum34-doc python-gobject-2-dbg python-gtk2-doc\n",
            "  python-genshi python-lxml-dbg python-lxml-doc dvipng gir1.2-gtk-3.0\n",
            "  ghostscript inkscape ipython python-cairocffi python-configobj\n",
            "  python-excelerator python-gobject python-matplotlib-doc python-nose\n",
            "  python-qt4 python-tornado python-traits texlive-extra-utils\n",
            "  texlive-latex-extra ttf-staypuft python-pydotplus python-pygraphviz\n",
            "  | python-pydot libgle3 python-openssl-doc python-openssl-dbg python-pil-doc\n",
            "  python-pil-dbg python-setuptools python-pyparsing-doc python-pyqt5-dbg\n",
            "  python-socks python-scipy-doc python-ntlm wx3.0-doc\n",
            "Recommended packages:\n",
            "  python-qwt-qt5\n",
            "The following NEW packages will be installed:\n",
            "  fonts-lyx gnuradio gnuradio-dev javascript-common libcodec2-0.7 libcomedi0\n",
            "  libcppunit-1.14-0 libcppunit-dev libfftw3-bin libfftw3-dev libfftw3-long3\n",
            "  libfftw3-quad3 libfftw3-single3 libgnuradio-analog3.7.11\n",
            "  libgnuradio-atsc3.7.11 libgnuradio-audio3.7.11 libgnuradio-blocks3.7.11\n",
            "  libgnuradio-channels3.7.11 libgnuradio-comedi3.7.11\n",
            "  libgnuradio-digital3.7.11 libgnuradio-dtv3.7.11 libgnuradio-fcd3.7.11\n",
            "  libgnuradio-fec3.7.11 libgnuradio-fft3.7.11 libgnuradio-filter3.7.11\n",
            "  libgnuradio-noaa3.7.11 libgnuradio-pager3.7.11 libgnuradio-pmt3.7.11\n",
            "  libgnuradio-qtgui3.7.11 libgnuradio-runtime3.7.11 libgnuradio-trellis3.7.11\n",
            "  libgnuradio-uhd3.7.11 libgnuradio-video-sdl3.7.11 libgnuradio-vocoder3.7.11\n",
            "  libgnuradio-wavelet3.7.11 libgnuradio-wxgui3.7.11 libgnuradio-zeromq3.7.11\n",
            "  libgsl23 libgslcblas0 libjs-jquery-ui liblog4cpp5-dev liblog4cpp5v5\n",
            "  libnotify4 liborc-0.4-0 libportaudio2 libqt5designer5 libqt5help5\n",
            "  libqt5opengl5 libqt5svg5 libqwt-qt5-6 librtlsdr0 libsdl1.2debian\n",
            "  libuhd003.010.003 libvolk1-bin libvolk1-dev libvolk1.3 libwxbase3.0-0v5\n",
            "  libwxgtk3.0-gtk3-0v5 notification-daemon python-asn1crypto\n",
            "  python-backports.functools-lru-cache python-bs4 python-cairo python-certifi\n",
            "  python-cffi-backend python-chardet python-cheetah python-cryptography\n",
            "  python-cycler python-dateutil python-decorator python-enum34\n",
            "  python-gobject-2 python-gtk2 python-html5lib python-idna python-ipaddress\n",
            "  python-lxml python-matplotlib python-matplotlib-data python-networkx\n",
            "  python-olefile python-opengl python-openssl python-pil python-pkg-resources\n",
            "  python-pyparsing python-pyqt5 python-requests python-scipy python-sip\n",
            "  python-six python-subprocess32 python-tz python-urllib3 python-webencodings\n",
            "  python-wxgtk3.0 python-wxversion python-yaml python-zmq rtl-sdr\n",
            "  ttf-bitstream-vera uhd-host\n",
            "0 upgraded, 103 newly installed, 0 to remove and 19 not upgraded.\n",
            "Need to get 62.6 MB of archives.\n",
            "After this operation, 344 MB of additional disk space will be used.\n",
            "Get:1 http://archive.ubuntu.com/ubuntu bionic/main amd64 libqt5svg5 amd64 5.9.5-0ubuntu1 [128 kB]\n",
            "Get:2 http://archive.ubuntu.com/ubuntu bionic-updates/universe amd64 fonts-lyx all 2.2.4-0ubuntu0.18.04.1 [155 kB]\n",
            "Get:3 http://archive.ubuntu.com/ubuntu bionic/main amd64 liborc-0.4-0 amd64 1:0.4.28-1 [137 kB]\n",
            "Get:4 http://archive.ubuntu.com/ubuntu bionic/universe amd64 libvolk1.3 amd64 1.3-3 [198 kB]\n",
            "Get:5 http://archive.ubuntu.com/ubuntu bionic/universe amd64 libvolk1-bin amd64 1.3-3 [182 kB]\n",
            "Get:6 http://archive.ubuntu.com/ubuntu bionic/universe amd64 python-cheetah amd64 2.4.4-4 [144 kB]\n",
            "Get:7 http://archive.ubuntu.com/ubuntu bionic/main amd64 python-cairo amd64 1.16.2-1 [56.4 kB]\n",
            "Get:8 http://archive.ubuntu.com/ubuntu bionic/universe amd64 python-gobject-2 amd64 2.28.6-12ubuntu3 [180 kB]\n",
            "Get:9 http://archive.ubuntu.com/ubuntu bionic/universe amd64 python-gtk2 amd64 2.24.0-5.1ubuntu2 [619 kB]\n",
            "Get:10 http://archive.ubuntu.com/ubuntu bionic-updates/main amd64 python-lxml amd64 4.2.1-1ubuntu0.1 [1,075 kB]\n",
            "Get:11 http://archive.ubuntu.com/ubuntu bionic/universe amd64 python-opengl all 3.1.0+dfsg-1 [496 kB]\n",
            "Get:12 http://archive.ubuntu.com/ubuntu bionic/universe amd64 libqt5designer5 amd64 5.9.5-0ubuntu1 [2,761 kB]\n",
            "Get:13 http://archive.ubuntu.com/ubuntu bionic/universe amd64 libqt5help5 amd64 5.9.5-0ubuntu1 [133 kB]\n",
            "Get:14 http://archive.ubuntu.com/ubuntu bionic/universe amd64 python-sip amd64 4.19.7+dfsg-1 [75.4 kB]\n",
            "Get:15 http://archive.ubuntu.com/ubuntu bionic/universe amd64 python-pyqt5 amd64 5.10.1+dfsg-1ubuntu2 [2,125 kB]\n",
            "Get:16 http://archive.ubuntu.com/ubuntu bionic/universe amd64 python-wxversion all 3.0.2.0+dfsg-7 [12.4 kB]\n",
            "Get:17 http://archive.ubuntu.com/ubuntu bionic/universe amd64 libwxbase3.0-0v5 amd64 3.0.4+dfsg-3 [954 kB]\n",
            "Get:18 http://archive.ubuntu.com/ubuntu bionic/main amd64 libnotify4 amd64 0.7.7-3 [17.3 kB]\n",
            "Get:19 http://archive.ubuntu.com/ubuntu bionic/universe amd64 libwxgtk3.0-gtk3-0v5 amd64 3.0.4+dfsg-3 [4,154 kB]\n",
            "Get:20 http://archive.ubuntu.com/ubuntu bionic/universe amd64 python-wxgtk3.0 amd64 3.0.2.0+dfsg-7 [5,072 kB]\n",
            "Get:21 http://archive.ubuntu.com/ubuntu bionic/universe amd64 python-zmq amd64 16.0.2-2build2 [235 kB]\n",
            "Get:22 http://archive.ubuntu.com/ubuntu bionic/universe amd64 libcodec2-0.7 amd64 0.7-1 [202 kB]\n",
            "Get:23 http://archive.ubuntu.com/ubuntu bionic/universe amd64 libgnuradio-pmt3.7.11 amd64 3.7.11-10 [86.5 kB]\n",
            "Get:24 http://archive.ubuntu.com/ubuntu bionic/universe amd64 liblog4cpp5v5 amd64 1.1.1-3 [76.5 kB]\n",
            "Get:25 http://archive.ubuntu.com/ubuntu bionic/universe amd64 libgnuradio-runtime3.7.11 amd64 3.7.11-10 [284 kB]\n",
            "Get:26 http://archive.ubuntu.com/ubuntu bionic/universe amd64 libgnuradio-blocks3.7.11 amd64 3.7.11-10 [487 kB]\n",
            "Get:27 http://archive.ubuntu.com/ubuntu bionic/main amd64 libfftw3-single3 amd64 3.3.7-1 [764 kB]\n",
            "Get:28 http://archive.ubuntu.com/ubuntu bionic/universe amd64 libgnuradio-fft3.7.11 amd64 3.7.11-10 [58.8 kB]\n",
            "Get:29 http://archive.ubuntu.com/ubuntu bionic/universe amd64 libgnuradio-analog3.7.11 amd64 3.7.11-10 [114 kB]\n",
            "Get:30 http://archive.ubuntu.com/ubuntu bionic/universe amd64 libgslcblas0 amd64 2.4+dfsg-6 [79.7 kB]\n",
            "Get:31 http://archive.ubuntu.com/ubuntu bionic/universe amd64 libgsl23 amd64 2.4+dfsg-6 [823 kB]\n",
            "Get:32 http://archive.ubuntu.com/ubuntu bionic/universe amd64 libgnuradio-fec3.7.11 amd64 3.7.11-10 [183 kB]\n",
            "Get:33 http://archive.ubuntu.com/ubuntu bionic/universe amd64 libgnuradio-filter3.7.11 amd64 3.7.11-10 [162 kB]\n",
            "Get:34 http://archive.ubuntu.com/ubuntu bionic/universe amd64 libgnuradio-atsc3.7.11 amd64 3.7.11-10 [68.8 kB]\n",
            "Get:35 http://archive.ubuntu.com/ubuntu bionic/universe amd64 libportaudio2 amd64 19.6.0-1 [64.6 kB]\n",
            "Get:36 http://archive.ubuntu.com/ubuntu bionic/universe amd64 libgnuradio-audio3.7.11 amd64 3.7.11-10 [91.8 kB]\n",
            "Get:37 http://archive.ubuntu.com/ubuntu bionic/universe amd64 libgnuradio-channels3.7.11 amd64 3.7.11-10 [62.6 kB]\n",
            "Get:38 http://archive.ubuntu.com/ubuntu bionic/universe amd64 libcomedi0 amd64 0.10.2-4build7 [123 kB]\n",
            "Get:39 http://archive.ubuntu.com/ubuntu bionic/universe amd64 libgnuradio-comedi3.7.11 amd64 3.7.11-10 [28.0 kB]\n",
            "Get:40 http://archive.ubuntu.com/ubuntu bionic/universe amd64 libgnuradio-digital3.7.11 amd64 3.7.11-10 [279 kB]\n",
            "Get:41 http://archive.ubuntu.com/ubuntu bionic/universe amd64 libgnuradio-dtv3.7.11 amd64 3.7.11-10 [277 kB]\n",
            "Get:42 http://archive.ubuntu.com/ubuntu bionic/universe amd64 libgnuradio-fcd3.7.11 amd64 3.7.11-10 [35.7 kB]\n",
            "Get:43 http://archive.ubuntu.com/ubuntu bionic/universe amd64 libgnuradio-noaa3.7.11 amd64 3.7.11-10 [28.3 kB]\n",
            "Get:44 http://archive.ubuntu.com/ubuntu bionic/universe amd64 libgnuradio-pager3.7.11 amd64 3.7.11-10 [32.7 kB]\n",
            "Get:45 http://archive.ubuntu.com/ubuntu bionic-updates/main amd64 libqt5opengl5 amd64 5.9.5+dfsg-0ubuntu2.4 [132 kB]\n",
            "Get:46 http://archive.ubuntu.com/ubuntu bionic/universe amd64 libqwt-qt5-6 amd64 6.1.3-1 [418 kB]\n",
            "Get:47 http://archive.ubuntu.com/ubuntu bionic/universe amd64 libgnuradio-qtgui3.7.11 amd64 3.7.11-10 [330 kB]\n",
            "Get:48 http://archive.ubuntu.com/ubuntu bionic/universe amd64 libgnuradio-trellis3.7.11 amd64 3.7.11-10 [135 kB]\n",
            "Get:49 http://archive.ubuntu.com/ubuntu bionic/universe amd64 libuhd003.010.003 amd64 3.10.3.0-2 [2,226 kB]\n",
            "Get:50 http://archive.ubuntu.com/ubuntu bionic/universe amd64 libgnuradio-uhd3.7.11 amd64 3.7.11-10 [93.2 kB]\n",
            "Get:51 http://archive.ubuntu.com/ubuntu bionic-updates/main amd64 libsdl1.2debian amd64 1.2.15+dfsg2-0.1ubuntu0.1 [175 kB]\n",
            "Get:52 http://archive.ubuntu.com/ubuntu bionic/universe amd64 libgnuradio-video-sdl3.7.11 amd64 3.7.11-10 [29.0 kB]\n",
            "Get:53 http://archive.ubuntu.com/ubuntu bionic/universe amd64 libgnuradio-vocoder3.7.11 amd64 3.7.11-10 [48.9 kB]\n",
            "Get:54 http://archive.ubuntu.com/ubuntu bionic/universe amd64 libgnuradio-wavelet3.7.11 amd64 3.7.11-10 [28.6 kB]\n",
            "Get:55 http://archive.ubuntu.com/ubuntu bionic/universe amd64 libgnuradio-wxgui3.7.11 amd64 3.7.11-10 [39.8 kB]\n",
            "Get:56 http://archive.ubuntu.com/ubuntu bionic/universe amd64 libgnuradio-zeromq3.7.11 amd64 3.7.11-10 [69.1 kB]\n",
            "Get:57 http://archive.ubuntu.com/ubuntu bionic/universe amd64 gnuradio amd64 3.7.11-10 [8,448 kB]\n",
            "Get:58 http://archive.ubuntu.com/ubuntu bionic/universe amd64 libcppunit-1.14-0 amd64 1.14.0-3 [77.3 kB]\n",
            "Get:59 http://archive.ubuntu.com/ubuntu bionic/universe amd64 libcppunit-dev amd64 1.14.0-3 [132 kB]\n",
            "Get:60 http://archive.ubuntu.com/ubuntu bionic/main amd64 libfftw3-long3 amd64 3.3.7-1 [308 kB]\n",
            "Get:61 http://archive.ubuntu.com/ubuntu bionic/main amd64 libfftw3-quad3 amd64 3.3.7-1 [552 kB]\n",
            "Get:62 http://archive.ubuntu.com/ubuntu bionic/main amd64 libfftw3-bin amd64 3.3.7-1 [32.7 kB]\n",
            "Get:63 http://archive.ubuntu.com/ubuntu bionic/main amd64 libfftw3-dev amd64 3.3.7-1 [2,108 kB]\n",
            "Get:64 http://archive.ubuntu.com/ubuntu bionic/universe amd64 liblog4cpp5-dev amd64 1.1.1-3 [119 kB]\n",
            "Get:65 http://archive.ubuntu.com/ubuntu bionic/universe amd64 libvolk1-dev amd64 1.3-3 [91.8 kB]\n",
            "Get:66 http://archive.ubuntu.com/ubuntu bionic/universe amd64 gnuradio-dev amd64 3.7.11-10 [381 kB]\n",
            "Get:67 http://archive.ubuntu.com/ubuntu bionic/main amd64 javascript-common all 11 [6,066 B]\n",
            "Get:68 http://archive.ubuntu.com/ubuntu bionic/universe amd64 libjs-jquery-ui all 1.12.1+dfsg-5 [232 kB]\n",
            "Get:69 http://archive.ubuntu.com/ubuntu bionic/main amd64 notification-daemon amd64 3.20.0-3 [36.9 kB]\n",
            "Get:70 http://archive.ubuntu.com/ubuntu bionic/main amd64 python-asn1crypto all 0.24.0-1 [72.7 kB]\n",
            "Get:71 http://archive.ubuntu.com/ubuntu bionic/universe amd64 python-backports.functools-lru-cache all 1.4-2 [5,960 B]\n",
            "Get:72 http://archive.ubuntu.com/ubuntu bionic/main amd64 python-bs4 all 4.6.0-1 [67.9 kB]\n",
            "Get:73 http://archive.ubuntu.com/ubuntu bionic/main amd64 python-certifi all 2018.1.18-2 [144 kB]\n",
            "Get:74 http://archive.ubuntu.com/ubuntu bionic/main amd64 python-cffi-backend amd64 1.11.5-1 [63.4 kB]\n",
            "Get:75 http://archive.ubuntu.com/ubuntu bionic/main amd64 python-pkg-resources all 39.0.1-2 [128 kB]\n",
            "Get:76 http://archive.ubuntu.com/ubuntu bionic/main amd64 python-chardet all 3.0.4-1 [80.3 kB]\n",
            "Get:77 http://archive.ubuntu.com/ubuntu bionic/main amd64 python-enum34 all 1.1.6-2 [34.8 kB]\n",
            "Get:78 http://archive.ubuntu.com/ubuntu bionic/main amd64 python-idna all 2.6-1 [32.4 kB]\n",
            "Get:79 http://archive.ubuntu.com/ubuntu bionic/main amd64 python-ipaddress all 1.0.17-1 [18.2 kB]\n",
            "Get:80 http://archive.ubuntu.com/ubuntu bionic/main amd64 python-six all 1.11.0-2 [11.3 kB]\n",
            "Get:81 http://archive.ubuntu.com/ubuntu bionic-updates/main amd64 python-cryptography amd64 2.1.4-1ubuntu1.3 [221 kB]\n",
            "Get:82 http://archive.ubuntu.com/ubuntu bionic/universe amd64 python-cycler all 0.10.0-1 [7,520 B]\n",
            "Get:83 http://archive.ubuntu.com/ubuntu bionic/main amd64 python-dateutil all 2.6.1-1 [60.6 kB]\n",
            "Get:84 http://archive.ubuntu.com/ubuntu bionic/main amd64 python-decorator all 4.1.2-1 [9,300 B]\n",
            "Get:85 http://archive.ubuntu.com/ubuntu bionic/main amd64 python-webencodings all 0.5-2 [10.3 kB]\n",
            "Get:86 http://archive.ubuntu.com/ubuntu bionic/main amd64 python-html5lib all 0.999999999-1 [83.6 kB]\n",
            "Get:87 http://archive.ubuntu.com/ubuntu bionic/universe amd64 ttf-bitstream-vera all 1.10-8 [352 kB]\n",
            "Get:88 http://archive.ubuntu.com/ubuntu bionic/universe amd64 python-matplotlib-data all 2.1.1-2ubuntu3 [3,774 kB]\n",
            "Get:89 http://archive.ubuntu.com/ubuntu bionic/main amd64 python-pyparsing all 2.2.0+dfsg1-2 [52.1 kB]\n",
            "Get:90 http://archive.ubuntu.com/ubuntu bionic/main amd64 python-tz all 2018.3-2 [31.6 kB]\n",
            "Get:91 http://archive.ubuntu.com/ubuntu bionic/universe amd64 python-subprocess32 amd64 3.2.7-3 [27.2 kB]\n",
            "Get:92 http://archive.ubuntu.com/ubuntu bionic/universe amd64 python-matplotlib amd64 2.1.1-2ubuntu3 [3,901 kB]\n",
            "Get:93 http://archive.ubuntu.com/ubuntu bionic-updates/main amd64 python-networkx all 1.11-1ubuntu3 [804 kB]\n",
            "Get:94 http://archive.ubuntu.com/ubuntu bionic/main amd64 python-olefile all 0.45.1-1 [33.2 kB]\n",
            "Get:95 http://archive.ubuntu.com/ubuntu bionic/main amd64 python-openssl all 17.5.0-1ubuntu1 [41.3 kB]\n",
            "Get:96 http://archive.ubuntu.com/ubuntu bionic/main amd64 python-pil amd64 5.1.0-1 [328 kB]\n",
            "Get:97 http://archive.ubuntu.com/ubuntu bionic-updates/main amd64 python-urllib3 all 1.22-1ubuntu0.18.04.1 [85.9 kB]\n",
            "Get:98 http://archive.ubuntu.com/ubuntu bionic-updates/main amd64 python-requests all 2.18.4-2ubuntu0.1 [58.5 kB]\n",
            "Get:99 http://archive.ubuntu.com/ubuntu bionic/main amd64 python-yaml amd64 3.12-1build2 [115 kB]\n",
            "Get:100 http://archive.ubuntu.com/ubuntu bionic/universe amd64 uhd-host amd64 3.10.3.0-2 [2,562 kB]\n",
            "Get:101 http://archive.ubuntu.com/ubuntu bionic/universe amd64 librtlsdr0 amd64 0.5.3-13 [28.2 kB]\n",
            "Get:102 http://archive.ubuntu.com/ubuntu bionic/universe amd64 python-scipy amd64 0.19.1-2ubuntu1 [9,689 kB]\n",
            "Get:103 http://archive.ubuntu.com/ubuntu bionic/universe amd64 rtl-sdr amd64 0.5.3-13 [55.2 kB]\n",
            "Fetched 62.6 MB in 1s (47.6 MB/s)\n",
            "Extracting templates from packages: 100%\n",
            "Selecting previously unselected package libqt5svg5:amd64.\n",
            "(Reading database ... 145674 files and directories currently installed.)\n",
            "Preparing to unpack .../000-libqt5svg5_5.9.5-0ubuntu1_amd64.deb ...\n",
            "Unpacking libqt5svg5:amd64 (5.9.5-0ubuntu1) ...\n",
            "Selecting previously unselected package fonts-lyx.\n",
            "Preparing to unpack .../001-fonts-lyx_2.2.4-0ubuntu0.18.04.1_all.deb ...\n",
            "Unpacking fonts-lyx (2.2.4-0ubuntu0.18.04.1) ...\n",
            "Selecting previously unselected package liborc-0.4-0:amd64.\n",
            "Preparing to unpack .../002-liborc-0.4-0_1%3a0.4.28-1_amd64.deb ...\n",
            "Unpacking liborc-0.4-0:amd64 (1:0.4.28-1) ...\n",
            "Selecting previously unselected package libvolk1.3:amd64.\n",
            "Preparing to unpack .../003-libvolk1.3_1.3-3_amd64.deb ...\n",
            "Unpacking libvolk1.3:amd64 (1.3-3) ...\n",
            "Selecting previously unselected package libvolk1-bin.\n",
            "Preparing to unpack .../004-libvolk1-bin_1.3-3_amd64.deb ...\n",
            "Unpacking libvolk1-bin (1.3-3) ...\n",
            "Selecting previously unselected package python-cheetah.\n",
            "Preparing to unpack .../005-python-cheetah_2.4.4-4_amd64.deb ...\n",
            "Unpacking python-cheetah (2.4.4-4) ...\n",
            "Selecting previously unselected package python-cairo:amd64.\n",
            "Preparing to unpack .../006-python-cairo_1.16.2-1_amd64.deb ...\n",
            "Unpacking python-cairo:amd64 (1.16.2-1) ...\n",
            "Selecting previously unselected package python-gobject-2.\n",
            "Preparing to unpack .../007-python-gobject-2_2.28.6-12ubuntu3_amd64.deb ...\n",
            "Unpacking python-gobject-2 (2.28.6-12ubuntu3) ...\n",
            "Selecting previously unselected package python-gtk2.\n",
            "Preparing to unpack .../008-python-gtk2_2.24.0-5.1ubuntu2_amd64.deb ...\n",
            "Unpacking python-gtk2 (2.24.0-5.1ubuntu2) ...\n",
            "Selecting previously unselected package python-lxml:amd64.\n",
            "Preparing to unpack .../009-python-lxml_4.2.1-1ubuntu0.1_amd64.deb ...\n",
            "Unpacking python-lxml:amd64 (4.2.1-1ubuntu0.1) ...\n",
            "Selecting previously unselected package python-opengl.\n",
            "Preparing to unpack .../010-python-opengl_3.1.0+dfsg-1_all.deb ...\n",
            "Unpacking python-opengl (3.1.0+dfsg-1) ...\n",
            "Selecting previously unselected package libqt5designer5:amd64.\n",
            "Preparing to unpack .../011-libqt5designer5_5.9.5-0ubuntu1_amd64.deb ...\n",
            "Unpacking libqt5designer5:amd64 (5.9.5-0ubuntu1) ...\n",
            "Selecting previously unselected package libqt5help5:amd64.\n",
            "Preparing to unpack .../012-libqt5help5_5.9.5-0ubuntu1_amd64.deb ...\n",
            "Unpacking libqt5help5:amd64 (5.9.5-0ubuntu1) ...\n",
            "Selecting previously unselected package python-sip.\n",
            "Preparing to unpack .../013-python-sip_4.19.7+dfsg-1_amd64.deb ...\n",
            "Unpacking python-sip (4.19.7+dfsg-1) ...\n",
            "Selecting previously unselected package python-pyqt5.\n",
            "Preparing to unpack .../014-python-pyqt5_5.10.1+dfsg-1ubuntu2_amd64.deb ...\n",
            "Unpacking python-pyqt5 (5.10.1+dfsg-1ubuntu2) ...\n",
            "Selecting previously unselected package python-wxversion.\n",
            "Preparing to unpack .../015-python-wxversion_3.0.2.0+dfsg-7_all.deb ...\n",
            "Unpacking python-wxversion (3.0.2.0+dfsg-7) ...\n",
            "Selecting previously unselected package libwxbase3.0-0v5:amd64.\n",
            "Preparing to unpack .../016-libwxbase3.0-0v5_3.0.4+dfsg-3_amd64.deb ...\n",
            "Unpacking libwxbase3.0-0v5:amd64 (3.0.4+dfsg-3) ...\n",
            "Selecting previously unselected package libnotify4:amd64.\n",
            "Preparing to unpack .../017-libnotify4_0.7.7-3_amd64.deb ...\n",
            "Unpacking libnotify4:amd64 (0.7.7-3) ...\n",
            "Selecting previously unselected package libwxgtk3.0-gtk3-0v5:amd64.\n",
            "Preparing to unpack .../018-libwxgtk3.0-gtk3-0v5_3.0.4+dfsg-3_amd64.deb ...\n",
            "Unpacking libwxgtk3.0-gtk3-0v5:amd64 (3.0.4+dfsg-3) ...\n",
            "Selecting previously unselected package python-wxgtk3.0.\n",
            "Preparing to unpack .../019-python-wxgtk3.0_3.0.2.0+dfsg-7_amd64.deb ...\n",
            "Unpacking python-wxgtk3.0 (3.0.2.0+dfsg-7) ...\n",
            "Selecting previously unselected package python-zmq.\n",
            "Preparing to unpack .../020-python-zmq_16.0.2-2build2_amd64.deb ...\n",
            "Unpacking python-zmq (16.0.2-2build2) ...\n",
            "Selecting previously unselected package libcodec2-0.7:amd64.\n",
            "Preparing to unpack .../021-libcodec2-0.7_0.7-1_amd64.deb ...\n",
            "Unpacking libcodec2-0.7:amd64 (0.7-1) ...\n",
            "Selecting previously unselected package libgnuradio-pmt3.7.11:amd64.\n",
            "Preparing to unpack .../022-libgnuradio-pmt3.7.11_3.7.11-10_amd64.deb ...\n",
            "Unpacking libgnuradio-pmt3.7.11:amd64 (3.7.11-10) ...\n",
            "Selecting previously unselected package liblog4cpp5v5.\n",
            "Preparing to unpack .../023-liblog4cpp5v5_1.1.1-3_amd64.deb ...\n",
            "Unpacking liblog4cpp5v5 (1.1.1-3) ...\n",
            "Selecting previously unselected package libgnuradio-runtime3.7.11:amd64.\n",
            "Preparing to unpack .../024-libgnuradio-runtime3.7.11_3.7.11-10_amd64.deb ...\n",
            "Unpacking libgnuradio-runtime3.7.11:amd64 (3.7.11-10) ...\n",
            "Selecting previously unselected package libgnuradio-blocks3.7.11:amd64.\n",
            "Preparing to unpack .../025-libgnuradio-blocks3.7.11_3.7.11-10_amd64.deb ...\n",
            "Unpacking libgnuradio-blocks3.7.11:amd64 (3.7.11-10) ...\n",
            "Selecting previously unselected package libfftw3-single3:amd64.\n",
            "Preparing to unpack .../026-libfftw3-single3_3.3.7-1_amd64.deb ...\n",
            "Unpacking libfftw3-single3:amd64 (3.3.7-1) ...\n",
            "Selecting previously unselected package libgnuradio-fft3.7.11:amd64.\n",
            "Preparing to unpack .../027-libgnuradio-fft3.7.11_3.7.11-10_amd64.deb ...\n",
            "Unpacking libgnuradio-fft3.7.11:amd64 (3.7.11-10) ...\n",
            "Selecting previously unselected package libgnuradio-analog3.7.11:amd64.\n",
            "Preparing to unpack .../028-libgnuradio-analog3.7.11_3.7.11-10_amd64.deb ...\n",
            "Unpacking libgnuradio-analog3.7.11:amd64 (3.7.11-10) ...\n",
            "Selecting previously unselected package libgslcblas0:amd64.\n",
            "Preparing to unpack .../029-libgslcblas0_2.4+dfsg-6_amd64.deb ...\n",
            "Unpacking libgslcblas0:amd64 (2.4+dfsg-6) ...\n",
            "Selecting previously unselected package libgsl23:amd64.\n",
            "Preparing to unpack .../030-libgsl23_2.4+dfsg-6_amd64.deb ...\n",
            "Unpacking libgsl23:amd64 (2.4+dfsg-6) ...\n",
            "Selecting previously unselected package libgnuradio-fec3.7.11:amd64.\n",
            "Preparing to unpack .../031-libgnuradio-fec3.7.11_3.7.11-10_amd64.deb ...\n",
            "Unpacking libgnuradio-fec3.7.11:amd64 (3.7.11-10) ...\n",
            "Selecting previously unselected package libgnuradio-filter3.7.11:amd64.\n",
            "Preparing to unpack .../032-libgnuradio-filter3.7.11_3.7.11-10_amd64.deb ...\n",
            "Unpacking libgnuradio-filter3.7.11:amd64 (3.7.11-10) ...\n",
            "Selecting previously unselected package libgnuradio-atsc3.7.11:amd64.\n",
            "Preparing to unpack .../033-libgnuradio-atsc3.7.11_3.7.11-10_amd64.deb ...\n",
            "Unpacking libgnuradio-atsc3.7.11:amd64 (3.7.11-10) ...\n",
            "Selecting previously unselected package libportaudio2:amd64.\n",
            "Preparing to unpack .../034-libportaudio2_19.6.0-1_amd64.deb ...\n",
            "Unpacking libportaudio2:amd64 (19.6.0-1) ...\n",
            "Selecting previously unselected package libgnuradio-audio3.7.11:amd64.\n",
            "Preparing to unpack .../035-libgnuradio-audio3.7.11_3.7.11-10_amd64.deb ...\n",
            "Unpacking libgnuradio-audio3.7.11:amd64 (3.7.11-10) ...\n",
            "Selecting previously unselected package libgnuradio-channels3.7.11:amd64.\n",
            "Preparing to unpack .../036-libgnuradio-channels3.7.11_3.7.11-10_amd64.deb ...\n",
            "Unpacking libgnuradio-channels3.7.11:amd64 (3.7.11-10) ...\n",
            "Selecting previously unselected package libcomedi0.\n",
            "Preparing to unpack .../037-libcomedi0_0.10.2-4build7_amd64.deb ...\n",
            "Unpacking libcomedi0 (0.10.2-4build7) ...\n",
            "Selecting previously unselected package libgnuradio-comedi3.7.11:amd64.\n",
            "Preparing to unpack .../038-libgnuradio-comedi3.7.11_3.7.11-10_amd64.deb ...\n",
            "Unpacking libgnuradio-comedi3.7.11:amd64 (3.7.11-10) ...\n",
            "Selecting previously unselected package libgnuradio-digital3.7.11:amd64.\n",
            "Preparing to unpack .../039-libgnuradio-digital3.7.11_3.7.11-10_amd64.deb ...\n",
            "Unpacking libgnuradio-digital3.7.11:amd64 (3.7.11-10) ...\n",
            "Selecting previously unselected package libgnuradio-dtv3.7.11:amd64.\n",
            "Preparing to unpack .../040-libgnuradio-dtv3.7.11_3.7.11-10_amd64.deb ...\n",
            "Unpacking libgnuradio-dtv3.7.11:amd64 (3.7.11-10) ...\n",
            "Selecting previously unselected package libgnuradio-fcd3.7.11:amd64.\n",
            "Preparing to unpack .../041-libgnuradio-fcd3.7.11_3.7.11-10_amd64.deb ...\n",
            "Unpacking libgnuradio-fcd3.7.11:amd64 (3.7.11-10) ...\n",
            "Selecting previously unselected package libgnuradio-noaa3.7.11:amd64.\n",
            "Preparing to unpack .../042-libgnuradio-noaa3.7.11_3.7.11-10_amd64.deb ...\n",
            "Unpacking libgnuradio-noaa3.7.11:amd64 (3.7.11-10) ...\n",
            "Selecting previously unselected package libgnuradio-pager3.7.11:amd64.\n",
            "Preparing to unpack .../043-libgnuradio-pager3.7.11_3.7.11-10_amd64.deb ...\n",
            "Unpacking libgnuradio-pager3.7.11:amd64 (3.7.11-10) ...\n",
            "Selecting previously unselected package libqt5opengl5:amd64.\n",
            "Preparing to unpack .../044-libqt5opengl5_5.9.5+dfsg-0ubuntu2.4_amd64.deb ...\n",
            "Unpacking libqt5opengl5:amd64 (5.9.5+dfsg-0ubuntu2.4) ...\n",
            "Selecting previously unselected package libqwt-qt5-6.\n",
            "Preparing to unpack .../045-libqwt-qt5-6_6.1.3-1_amd64.deb ...\n",
            "Unpacking libqwt-qt5-6 (6.1.3-1) ...\n",
            "Selecting previously unselected package libgnuradio-qtgui3.7.11:amd64.\n",
            "Preparing to unpack .../046-libgnuradio-qtgui3.7.11_3.7.11-10_amd64.deb ...\n",
            "Unpacking libgnuradio-qtgui3.7.11:amd64 (3.7.11-10) ...\n",
            "Selecting previously unselected package libgnuradio-trellis3.7.11:amd64.\n",
            "Preparing to unpack .../047-libgnuradio-trellis3.7.11_3.7.11-10_amd64.deb ...\n",
            "Unpacking libgnuradio-trellis3.7.11:amd64 (3.7.11-10) ...\n",
            "Selecting previously unselected package libuhd003.010.003:amd64.\n",
            "Preparing to unpack .../048-libuhd003.010.003_3.10.3.0-2_amd64.deb ...\n",
            "Unpacking libuhd003.010.003:amd64 (3.10.3.0-2) ...\n",
            "Selecting previously unselected package libgnuradio-uhd3.7.11:amd64.\n",
            "Preparing to unpack .../049-libgnuradio-uhd3.7.11_3.7.11-10_amd64.deb ...\n",
            "Unpacking libgnuradio-uhd3.7.11:amd64 (3.7.11-10) ...\n",
            "Selecting previously unselected package libsdl1.2debian:amd64.\n",
            "Preparing to unpack .../050-libsdl1.2debian_1.2.15+dfsg2-0.1ubuntu0.1_amd64.deb ...\n",
            "Unpacking libsdl1.2debian:amd64 (1.2.15+dfsg2-0.1ubuntu0.1) ...\n",
            "Selecting previously unselected package libgnuradio-video-sdl3.7.11:amd64.\n",
            "Preparing to unpack .../051-libgnuradio-video-sdl3.7.11_3.7.11-10_amd64.deb ...\n",
            "Unpacking libgnuradio-video-sdl3.7.11:amd64 (3.7.11-10) ...\n",
            "Selecting previously unselected package libgnuradio-vocoder3.7.11:amd64.\n",
            "Preparing to unpack .../052-libgnuradio-vocoder3.7.11_3.7.11-10_amd64.deb ...\n",
            "Unpacking libgnuradio-vocoder3.7.11:amd64 (3.7.11-10) ...\n",
            "Selecting previously unselected package libgnuradio-wavelet3.7.11:amd64.\n",
            "Preparing to unpack .../053-libgnuradio-wavelet3.7.11_3.7.11-10_amd64.deb ...\n",
            "Unpacking libgnuradio-wavelet3.7.11:amd64 (3.7.11-10) ...\n",
            "Selecting previously unselected package libgnuradio-wxgui3.7.11:amd64.\n",
            "Preparing to unpack .../054-libgnuradio-wxgui3.7.11_3.7.11-10_amd64.deb ...\n",
            "Unpacking libgnuradio-wxgui3.7.11:amd64 (3.7.11-10) ...\n",
            "Selecting previously unselected package libgnuradio-zeromq3.7.11:amd64.\n",
            "Preparing to unpack .../055-libgnuradio-zeromq3.7.11_3.7.11-10_amd64.deb ...\n",
            "Unpacking libgnuradio-zeromq3.7.11:amd64 (3.7.11-10) ...\n",
            "Selecting previously unselected package gnuradio.\n",
            "Preparing to unpack .../056-gnuradio_3.7.11-10_amd64.deb ...\n",
            "Unpacking gnuradio (3.7.11-10) ...\n",
            "Selecting previously unselected package libcppunit-1.14-0:amd64.\n",
            "Preparing to unpack .../057-libcppunit-1.14-0_1.14.0-3_amd64.deb ...\n",
            "Unpacking libcppunit-1.14-0:amd64 (1.14.0-3) ...\n",
            "Selecting previously unselected package libcppunit-dev.\n",
            "Preparing to unpack .../058-libcppunit-dev_1.14.0-3_amd64.deb ...\n",
            "Unpacking libcppunit-dev (1.14.0-3) ...\n",
            "Selecting previously unselected package libfftw3-long3:amd64.\n",
            "Preparing to unpack .../059-libfftw3-long3_3.3.7-1_amd64.deb ...\n",
            "Unpacking libfftw3-long3:amd64 (3.3.7-1) ...\n",
            "Selecting previously unselected package libfftw3-quad3:amd64.\n",
            "Preparing to unpack .../060-libfftw3-quad3_3.3.7-1_amd64.deb ...\n",
            "Unpacking libfftw3-quad3:amd64 (3.3.7-1) ...\n",
            "Selecting previously unselected package libfftw3-bin.\n",
            "Preparing to unpack .../061-libfftw3-bin_3.3.7-1_amd64.deb ...\n",
            "Unpacking libfftw3-bin (3.3.7-1) ...\n",
            "Selecting previously unselected package libfftw3-dev:amd64.\n",
            "Preparing to unpack .../062-libfftw3-dev_3.3.7-1_amd64.deb ...\n",
            "Unpacking libfftw3-dev:amd64 (3.3.7-1) ...\n",
            "Selecting previously unselected package liblog4cpp5-dev.\n",
            "Preparing to unpack .../063-liblog4cpp5-dev_1.1.1-3_amd64.deb ...\n",
            "Unpacking liblog4cpp5-dev (1.1.1-3) ...\n",
            "Selecting previously unselected package libvolk1-dev:amd64.\n",
            "Preparing to unpack .../064-libvolk1-dev_1.3-3_amd64.deb ...\n",
            "Unpacking libvolk1-dev:amd64 (1.3-3) ...\n",
            "Selecting previously unselected package gnuradio-dev:amd64.\n",
            "Preparing to unpack .../065-gnuradio-dev_3.7.11-10_amd64.deb ...\n",
            "Unpacking gnuradio-dev:amd64 (3.7.11-10) ...\n",
            "Selecting previously unselected package javascript-common.\n",
            "Preparing to unpack .../066-javascript-common_11_all.deb ...\n",
            "Unpacking javascript-common (11) ...\n",
            "Selecting previously unselected package libjs-jquery-ui.\n",
            "Preparing to unpack .../067-libjs-jquery-ui_1.12.1+dfsg-5_all.deb ...\n",
            "Unpacking libjs-jquery-ui (1.12.1+dfsg-5) ...\n",
            "Selecting previously unselected package notification-daemon.\n",
            "Preparing to unpack .../068-notification-daemon_3.20.0-3_amd64.deb ...\n",
            "Unpacking notification-daemon (3.20.0-3) ...\n",
            "Selecting previously unselected package python-asn1crypto.\n",
            "Preparing to unpack .../069-python-asn1crypto_0.24.0-1_all.deb ...\n",
            "Unpacking python-asn1crypto (0.24.0-1) ...\n",
            "Selecting previously unselected package python-backports.functools-lru-cache.\n",
            "Preparing to unpack .../070-python-backports.functools-lru-cache_1.4-2_all.deb ...\n",
            "Unpacking python-backports.functools-lru-cache (1.4-2) ...\n",
            "Selecting previously unselected package python-bs4.\n",
            "Preparing to unpack .../071-python-bs4_4.6.0-1_all.deb ...\n",
            "Unpacking python-bs4 (4.6.0-1) ...\n",
            "Selecting previously unselected package python-certifi.\n",
            "Preparing to unpack .../072-python-certifi_2018.1.18-2_all.deb ...\n",
            "Unpacking python-certifi (2018.1.18-2) ...\n",
            "Selecting previously unselected package python-cffi-backend.\n",
            "Preparing to unpack .../073-python-cffi-backend_1.11.5-1_amd64.deb ...\n",
            "Unpacking python-cffi-backend (1.11.5-1) ...\n",
            "Selecting previously unselected package python-pkg-resources.\n",
            "Preparing to unpack .../074-python-pkg-resources_39.0.1-2_all.deb ...\n",
            "Unpacking python-pkg-resources (39.0.1-2) ...\n",
            "Selecting previously unselected package python-chardet.\n",
            "Preparing to unpack .../075-python-chardet_3.0.4-1_all.deb ...\n",
            "Unpacking python-chardet (3.0.4-1) ...\n",
            "Selecting previously unselected package python-enum34.\n",
            "Preparing to unpack .../076-python-enum34_1.1.6-2_all.deb ...\n",
            "Unpacking python-enum34 (1.1.6-2) ...\n",
            "Selecting previously unselected package python-idna.\n",
            "Preparing to unpack .../077-python-idna_2.6-1_all.deb ...\n",
            "Unpacking python-idna (2.6-1) ...\n",
            "Selecting previously unselected package python-ipaddress.\n",
            "Preparing to unpack .../078-python-ipaddress_1.0.17-1_all.deb ...\n",
            "Unpacking python-ipaddress (1.0.17-1) ...\n",
            "Selecting previously unselected package python-six.\n",
            "Preparing to unpack .../079-python-six_1.11.0-2_all.deb ...\n",
            "Unpacking python-six (1.11.0-2) ...\n",
            "Selecting previously unselected package python-cryptography.\n",
            "Preparing to unpack .../080-python-cryptography_2.1.4-1ubuntu1.3_amd64.deb ...\n",
            "Unpacking python-cryptography (2.1.4-1ubuntu1.3) ...\n",
            "Selecting previously unselected package python-cycler.\n",
            "Preparing to unpack .../081-python-cycler_0.10.0-1_all.deb ...\n",
            "Unpacking python-cycler (0.10.0-1) ...\n",
            "Selecting previously unselected package python-dateutil.\n",
            "Preparing to unpack .../082-python-dateutil_2.6.1-1_all.deb ...\n",
            "Unpacking python-dateutil (2.6.1-1) ...\n",
            "Selecting previously unselected package python-decorator.\n",
            "Preparing to unpack .../083-python-decorator_4.1.2-1_all.deb ...\n",
            "Unpacking python-decorator (4.1.2-1) ...\n",
            "Selecting previously unselected package python-webencodings.\n",
            "Preparing to unpack .../084-python-webencodings_0.5-2_all.deb ...\n",
            "Unpacking python-webencodings (0.5-2) ...\n",
            "Selecting previously unselected package python-html5lib.\n",
            "Preparing to unpack .../085-python-html5lib_0.999999999-1_all.deb ...\n",
            "Unpacking python-html5lib (0.999999999-1) ...\n",
            "Selecting previously unselected package ttf-bitstream-vera.\n",
            "Preparing to unpack .../086-ttf-bitstream-vera_1.10-8_all.deb ...\n",
            "Unpacking ttf-bitstream-vera (1.10-8) ...\n",
            "Selecting previously unselected package python-matplotlib-data.\n",
            "Preparing to unpack .../087-python-matplotlib-data_2.1.1-2ubuntu3_all.deb ...\n",
            "Unpacking python-matplotlib-data (2.1.1-2ubuntu3) ...\n",
            "Selecting previously unselected package python-pyparsing.\n",
            "Preparing to unpack .../088-python-pyparsing_2.2.0+dfsg1-2_all.deb ...\n",
            "Unpacking python-pyparsing (2.2.0+dfsg1-2) ...\n",
            "Selecting previously unselected package python-tz.\n",
            "Preparing to unpack .../089-python-tz_2018.3-2_all.deb ...\n",
            "Unpacking python-tz (2018.3-2) ...\n",
            "Selecting previously unselected package python-subprocess32.\n",
            "Preparing to unpack .../090-python-subprocess32_3.2.7-3_amd64.deb ...\n",
            "Unpacking python-subprocess32 (3.2.7-3) ...\n",
            "Selecting previously unselected package python-matplotlib.\n",
            "Preparing to unpack .../091-python-matplotlib_2.1.1-2ubuntu3_amd64.deb ...\n",
            "Unpacking python-matplotlib (2.1.1-2ubuntu3) ...\n",
            "Selecting previously unselected package python-networkx.\n",
            "Preparing to unpack .../092-python-networkx_1.11-1ubuntu3_all.deb ...\n",
            "Unpacking python-networkx (1.11-1ubuntu3) ...\n",
            "Selecting previously unselected package python-olefile.\n",
            "Preparing to unpack .../093-python-olefile_0.45.1-1_all.deb ...\n",
            "Unpacking python-olefile (0.45.1-1) ...\n",
            "Selecting previously unselected package python-openssl.\n",
            "Preparing to unpack .../094-python-openssl_17.5.0-1ubuntu1_all.deb ...\n",
            "Unpacking python-openssl (17.5.0-1ubuntu1) ...\n",
            "Selecting previously unselected package python-pil:amd64.\n",
            "Preparing to unpack .../095-python-pil_5.1.0-1_amd64.deb ...\n",
            "Unpacking python-pil:amd64 (5.1.0-1) ...\n",
            "Selecting previously unselected package python-urllib3.\n",
            "Preparing to unpack .../096-python-urllib3_1.22-1ubuntu0.18.04.1_all.deb ...\n",
            "Unpacking python-urllib3 (1.22-1ubuntu0.18.04.1) ...\n",
            "Selecting previously unselected package python-requests.\n",
            "Preparing to unpack .../097-python-requests_2.18.4-2ubuntu0.1_all.deb ...\n",
            "Unpacking python-requests (2.18.4-2ubuntu0.1) ...\n",
            "Selecting previously unselected package python-yaml.\n",
            "Preparing to unpack .../098-python-yaml_3.12-1build2_amd64.deb ...\n",
            "Unpacking python-yaml (3.12-1build2) ...\n",
            "Selecting previously unselected package uhd-host.\n",
            "Preparing to unpack .../099-uhd-host_3.10.3.0-2_amd64.deb ...\n",
            "Unpacking uhd-host (3.10.3.0-2) ...\n",
            "Selecting previously unselected package librtlsdr0:amd64.\n",
            "Preparing to unpack .../100-librtlsdr0_0.5.3-13_amd64.deb ...\n",
            "Unpacking librtlsdr0:amd64 (0.5.3-13) ...\n",
            "Selecting previously unselected package python-scipy.\n",
            "Preparing to unpack .../101-python-scipy_0.19.1-2ubuntu1_amd64.deb ...\n",
            "Unpacking python-scipy (0.19.1-2ubuntu1) ...\n",
            "Selecting previously unselected package rtl-sdr.\n",
            "Preparing to unpack .../102-rtl-sdr_0.5.3-13_amd64.deb ...\n",
            "Unpacking rtl-sdr (0.5.3-13) ...\n",
            "Setting up python-idna (2.6-1) ...\n",
            "Setting up libcppunit-1.14-0:amd64 (1.14.0-3) ...\n",
            "Setting up libnotify4:amd64 (0.7.7-3) ...\n",
            "Setting up python-yaml (3.12-1build2) ...\n",
            "Setting up python-asn1crypto (0.24.0-1) ...\n",
            "Setting up libportaudio2:amd64 (19.6.0-1) ...\n",
            "Setting up python-opengl (3.1.0+dfsg-1) ...\n",
            "Setting up python-backports.functools-lru-cache (1.4-2) ...\n",
            "Setting up python-wxversion (3.0.2.0+dfsg-7) ...\n",
            "Setting up libcppunit-dev (1.14.0-3) ...\n",
            "Setting up python-certifi (2018.1.18-2) ...\n",
            "Setting up python-tz (2018.3-2) ...\n",
            "Setting up libsdl1.2debian:amd64 (1.2.15+dfsg2-0.1ubuntu0.1) ...\n",
            "Setting up python-pkg-resources (39.0.1-2) ...\n",
            "Setting up liblog4cpp5v5 (1.1.1-3) ...\n",
            "Setting up libgnuradio-pmt3.7.11:amd64 (3.7.11-10) ...\n",
            "Setting up libqt5help5:amd64 (5.9.5-0ubuntu1) ...\n",
            "Setting up libqt5opengl5:amd64 (5.9.5+dfsg-0ubuntu2.4) ...\n",
            "Setting up libwxbase3.0-0v5:amd64 (3.0.4+dfsg-3) ...\n",
            "Setting up librtlsdr0:amd64 (0.5.3-13) ...\n",
            "Setting up libfftw3-quad3:amd64 (3.3.7-1) ...\n",
            "Setting up python-gobject-2 (2.28.6-12ubuntu3) ...\n",
            "Setting up python-cffi-backend (1.11.5-1) ...\n",
            "Setting up liblog4cpp5-dev (1.1.1-3) ...\n",
            "Setting up python-six (1.11.0-2) ...\n",
            "Setting up python-bs4 (4.6.0-1) ...\n",
            "Setting up python-cheetah (2.4.4-4) ...\n",
            "Setting up libqt5svg5:amd64 (5.9.5-0ubuntu1) ...\n",
            "Setting up libcodec2-0.7:amd64 (0.7-1) ...\n",
            "Setting up libjs-jquery-ui (1.12.1+dfsg-5) ...\n",
            "Setting up python-enum34 (1.1.6-2) ...\n",
            "Setting up python-lxml:amd64 (4.2.1-1ubuntu0.1) ...\n",
            "Setting up libwxgtk3.0-gtk3-0v5:amd64 (3.0.4+dfsg-3) ...\n",
            "Setting up python-cairo:amd64 (1.16.2-1) ...\n",
            "Setting up python-olefile (0.45.1-1) ...\n",
            "Setting up ttf-bitstream-vera (1.10-8) ...\n",
            "Setting up libfftw3-single3:amd64 (3.3.7-1) ...\n",
            "Setting up python-decorator (4.1.2-1) ...\n",
            "Setting up liborc-0.4-0:amd64 (1:0.4.28-1) ...\n",
            "Setting up javascript-common (11) ...\n",
            "Setting up python-subprocess32 (3.2.7-3) ...\n",
            "Setting up libqt5designer5:amd64 (5.9.5-0ubuntu1) ...\n",
            "Setting up libgslcblas0:amd64 (2.4+dfsg-6) ...\n",
            "Setting up python-ipaddress (1.0.17-1) ...\n",
            "Setting up libfftw3-long3:amd64 (3.3.7-1) ...\n",
            "Setting up python-zmq (16.0.2-2build2) ...\n",
            "Setting up python-pil:amd64 (5.1.0-1) ...\n",
            "Setting up python-webencodings (0.5-2) ...\n",
            "Setting up notification-daemon (3.20.0-3) ...\n",
            "Setting up libuhd003.010.003:amd64 (3.10.3.0-2) ...\n",
            "Setting up fonts-lyx (2.2.4-0ubuntu0.18.04.1) ...\n",
            "Setting up python-sip (4.19.7+dfsg-1) ...\n",
            "Setting up python-pyparsing (2.2.0+dfsg1-2) ...\n",
            "Setting up python-urllib3 (1.22-1ubuntu0.18.04.1) ...\n",
            "Setting up libfftw3-bin (3.3.7-1) ...\n",
            "Setting up python-networkx (1.11-1ubuntu3) ...\n",
            "Setting up python-chardet (3.0.4-1) ...\n",
            "Setting up python-matplotlib-data (2.1.1-2ubuntu3) ...\n",
            "Setting up python-scipy (0.19.1-2ubuntu1) ...\n",
            "Setting up libgsl23:amd64 (2.4+dfsg-6) ...\n",
            "Setting up python-wxgtk3.0 (3.0.2.0+dfsg-7) ...\n",
            "update-alternatives: using /usr/lib/wx/python/wx3.0.pth to provide /usr/lib/wx/python/wx.pth (wx.pth) in auto mode\n",
            "Setting up python-gtk2 (2.24.0-5.1ubuntu2) ...\n",
            "Setting up python-pyqt5 (5.10.1+dfsg-1ubuntu2) ...\n",
            "Setting up libvolk1.3:amd64 (1.3-3) ...\n",
            "Setting up rtl-sdr (0.5.3-13) ...\n",
            "Setting up python-cycler (0.10.0-1) ...\n",
            "Setting up python-dateutil (2.6.1-1) ...\n",
            "Setting up libvolk1-dev:amd64 (1.3-3) ...\n",
            "Setting up libqwt-qt5-6 (6.1.3-1) ...\n",
            "Setting up libvolk1-bin (1.3-3) ...\n",
            "Setting up libfftw3-dev:amd64 (3.3.7-1) ...\n",
            "Setting up python-cryptography (2.1.4-1ubuntu1.3) ...\n",
            "Setting up python-requests (2.18.4-2ubuntu0.1) ...\n",
            "Setting up python-html5lib (0.999999999-1) ...\n",
            "Setting up libcomedi0 (0.10.2-4build7) ...\n",
            "creating iocard group...\n",
            "Adding group `iocard' (GID 109) ...\n",
            "Done.\n",
            "Setting up python-openssl (17.5.0-1ubuntu1) ...\n",
            "Setting up libgnuradio-runtime3.7.11:amd64 (3.7.11-10) ...\n",
            "Setting up python-matplotlib (2.1.1-2ubuntu3) ...\n",
            "Setting up libgnuradio-trellis3.7.11:amd64 (3.7.11-10) ...\n",
            "Setting up uhd-host (3.10.3.0-2) ...\n",
            "Adding group `usrp' (GID 110) ...\n",
            "Done.\n",
            "sysctl: cannot stat /proc/sys/net/core/rmem_max: No such file or directory\n",
            "sysctl: cannot stat /proc/sys/net/core/wmem_max: No such file or directory\n",
            "Setting up libgnuradio-wxgui3.7.11:amd64 (3.7.11-10) ...\n",
            "Setting up libgnuradio-video-sdl3.7.11:amd64 (3.7.11-10) ...\n",
            "Setting up libgnuradio-zeromq3.7.11:amd64 (3.7.11-10) ...\n",
            "Setting up libgnuradio-fft3.7.11:amd64 (3.7.11-10) ...\n",
            "Setting up libgnuradio-noaa3.7.11:amd64 (3.7.11-10) ...\n",
            "Setting up libgnuradio-blocks3.7.11:amd64 (3.7.11-10) ...\n",
            "Setting up libgnuradio-pager3.7.11:amd64 (3.7.11-10) ...\n",
            "Setting up libgnuradio-wavelet3.7.11:amd64 (3.7.11-10) ...\n",
            "Setting up libgnuradio-audio3.7.11:amd64 (3.7.11-10) ...\n",
            "Setting up libgnuradio-vocoder3.7.11:amd64 (3.7.11-10) ...\n",
            "Setting up libgnuradio-comedi3.7.11:amd64 (3.7.11-10) ...\n",
            "Setting up libgnuradio-uhd3.7.11:amd64 (3.7.11-10) ...\n",
            "Setting up libgnuradio-filter3.7.11:amd64 (3.7.11-10) ...\n",
            "Setting up libgnuradio-qtgui3.7.11:amd64 (3.7.11-10) ...\n",
            "Setting up libgnuradio-analog3.7.11:amd64 (3.7.11-10) ...\n",
            "Setting up libgnuradio-fcd3.7.11:amd64 (3.7.11-10) ...\n",
            "Setting up libgnuradio-digital3.7.11:amd64 (3.7.11-10) ...\n",
            "Setting up libgnuradio-fec3.7.11:amd64 (3.7.11-10) ...\n",
            "Setting up libgnuradio-dtv3.7.11:amd64 (3.7.11-10) ...\n",
            "Setting up libgnuradio-channels3.7.11:amd64 (3.7.11-10) ...\n",
            "Setting up libgnuradio-atsc3.7.11:amd64 (3.7.11-10) ...\n",
            "Setting up gnuradio (3.7.11-10) ...\n",
            "Setting up gnuradio-dev:amd64 (3.7.11-10) ...\n",
            "Processing triggers for libc-bin (2.27-3ubuntu1) ...\n",
            "Processing triggers for man-db (2.8.3-2ubuntu0.1) ...\n",
            "Processing triggers for shared-mime-info (1.9-2) ...\n",
            "/usr/share/mime/packages/gnuradio.xml:1: parser error : Start tag expected, '<' not found\n",
            "/usr/share/gnuradio/grc/freedesktop/gnuradio-grc.xml\n",
            "^\n",
            "Failed to parse '/usr/share/mime/packages/gnuradio.xml'\n",
            "Processing triggers for hicolor-icon-theme (0.17-2) ...\n",
            "Processing triggers for fontconfig (2.12.6-0ubuntu2) ...\n",
            "Processing triggers for mime-support (3.60ubuntu1) ...\n",
            "Collecting mapper\n",
            "\u001b[?25l  Downloading https://files.pythonhosted.org/packages/3e/49/185d93c6cf671c6097f3ec62066b0b7230b82012ccd113601714e118817c/mapper-0.1.17.tar.gz (3.0MB)\n",
            "\u001b[K     |████████████████████████████████| 3.0MB 6.9MB/s \n",
            "\u001b[?25hBuilding wheels for collected packages: mapper\n",
            "  Building wheel for mapper (setup.py) ... \u001b[?25l\u001b[?25hdone\n",
            "  Created wheel for mapper: filename=mapper-0.1.17-cp27-none-any.whl size=1958903 sha256=5e22e8434f9d2b390298cca835893b7c476ee7600715b0f47bc0acf79e19e1f7\n",
            "  Stored in directory: /root/.cache/pip/wheels/43/54/8f/f14fca54d9ac27835ce2f71c09c22df114e01701ff805c38cb\n",
            "Successfully built mapper\n",
            "Installing collected packages: mapper\n",
            "Successfully installed mapper-0.1.17\n",
            "Collecting cmappertools\n",
            "  Downloading https://files.pythonhosted.org/packages/23/38/f913b01b6a77fb89fe2b2a7482d19c5bd3153c32c7fb563f4cefc884602f/cmappertools-1.0.24.tar.gz\n",
            "Building wheels for collected packages: cmappertools\n",
            "  Building wheel for cmappertools (setup.py) ... \u001b[?25l\u001b[?25hdone\n",
            "  Created wheel for cmappertools: filename=cmappertools-1.0.24-cp27-cp27mu-linux_x86_64.whl size=577689 sha256=67eb0eca057f942bc281c432b8223e7227d236a1948be8dfe73dba8d1faf20c2\n",
            "  Stored in directory: /root/.cache/pip/wheels/a0/43/74/5fca7c280175f705131ad102c646847704bb0b9875bef672f3\n",
            "Successfully built cmappertools\n",
            "Installing collected packages: cmappertools\n",
            "Successfully installed cmappertools-1.0.24\n",
            "Reading package lists... Done\n",
            "Building dependency tree       \n",
            "Reading state information... Done\n",
            "The following package was automatically installed and is no longer required:\n",
            "  libnvidia-common-430\n",
            "Use 'apt autoremove' to remove it.\n",
            "The following additional packages will be installed:\n",
            "  swig3.0\n",
            "Suggested packages:\n",
            "  swig-doc swig-examples swig3.0-examples swig3.0-doc\n",
            "The following NEW packages will be installed:\n",
            "  swig swig3.0\n",
            "0 upgraded, 2 newly installed, 0 to remove and 19 not upgraded.\n",
            "Need to get 1,100 kB of archives.\n",
            "After this operation, 5,822 kB of additional disk space will be used.\n",
            "Get:1 http://archive.ubuntu.com/ubuntu bionic/universe amd64 swig3.0 amd64 3.0.12-1 [1,094 kB]\n",
            "Get:2 http://archive.ubuntu.com/ubuntu bionic/universe amd64 swig amd64 3.0.12-1 [6,460 B]\n",
            "Fetched 1,100 kB in 0s (8,823 kB/s)\n",
            "Selecting previously unselected package swig3.0.\n",
            "(Reading database ... 156935 files and directories currently installed.)\n",
            "Preparing to unpack .../swig3.0_3.0.12-1_amd64.deb ...\n",
            "Unpacking swig3.0 (3.0.12-1) ...\n",
            "Selecting previously unselected package swig.\n",
            "Preparing to unpack .../swig_3.0.12-1_amd64.deb ...\n",
            "Unpacking swig (3.0.12-1) ...\n",
            "Setting up swig3.0 (3.0.12-1) ...\n",
            "Setting up swig (3.0.12-1) ...\n",
            "Processing triggers for man-db (2.8.3-2ubuntu0.1) ...\n",
            "Collecting fastcluster\n",
            "\u001b[?25l  Downloading https://files.pythonhosted.org/packages/6c/6e/222f86d0f8c42e75365235bdec283976b09672a36af360f808d8fa77e976/fastcluster-1.1.25-cp27-cp27mu-manylinux1_x86_64.whl (149kB)\n",
            "\u001b[K     |████████████████████████████████| 153kB 6.4MB/s \n",
            "\u001b[?25hRequirement already satisfied: numpy>=1.9 in /usr/local/lib/python2.7/dist-packages (from fastcluster) (1.16.4)\n",
            "Installing collected packages: fastcluster\n",
            "Successfully installed fastcluster-1.1.25\n",
            "Cloning into 'gr-mapper'...\n",
            "remote: Enumerating objects: 285, done.\u001b[K\n",
            "remote: Total 285 (delta 0), reused 0 (delta 0), pack-reused 285\u001b[K\n",
            "Receiving objects: 100% (285/285), 181.64 KiB | 732.00 KiB/s, done.\n",
            "Resolving deltas: 100% (147/147), done.\n",
            "-- The CXX compiler identification is GNU 7.4.0\n",
            "-- The C compiler identification is GNU 7.4.0\n",
            "-- Check for working CXX compiler: /usr/bin/c++\n",
            "-- Check for working CXX compiler: /usr/bin/c++ -- works\n",
            "-- Detecting CXX compiler ABI info\n",
            "-- Detecting CXX compiler ABI info - done\n",
            "-- Detecting CXX compile features\n",
            "-- Detecting CXX compile features - done\n",
            "-- Check for working C compiler: /usr/bin/cc\n",
            "-- Check for working C compiler: /usr/bin/cc -- works\n",
            "-- Detecting C compiler ABI info\n",
            "-- Detecting C compiler ABI info - done\n",
            "-- Detecting C compile features\n",
            "-- Detecting C compile features - done\n",
            "-- Build type not specified: defaulting to release.\n",
            "-- Boost version: 1.65.1\n",
            "-- Found the following Boost libraries:\n",
            "--   filesystem\n",
            "--   system\n",
            "-- Found PkgConfig: /usr/bin/pkg-config (found version \"0.29.1\") \n",
            "-- Checking for module 'cppunit'\n",
            "--   Found cppunit, version 1.14.0\n",
            "-- Found CPPUNIT: /usr/lib/x86_64-linux-gnu/libcppunit.so;dl  \n",
            "Checking for GNU Radio Module: RUNTIME\n",
            "-- Checking for module 'gnuradio-runtime'\n",
            "--   Found gnuradio-runtime, version 3.7.11\n",
            " * INCLUDES=/usr/include\n",
            " * LIBS=/usr/lib/x86_64-linux-gnu/libgnuradio-runtime.so;/usr/lib/x86_64-linux-gnu/libgnuradio-pmt.so;/usr/lib/x86_64-linux-gnu/liblog4cpp.so\n",
            "-- Found GNURADIO_RUNTIME: /usr/lib/x86_64-linux-gnu/libgnuradio-runtime.so;/usr/lib/x86_64-linux-gnu/libgnuradio-pmt.so;/usr/lib/x86_64-linux-gnu/liblog4cpp.so  \n",
            "GNURADIO_RUNTIME_FOUND = TRUE\n",
            "Checking for GNU Radio Module: BLOCKS\n",
            "-- Checking for module 'gnuradio-blocks'\n",
            "--   Found gnuradio-blocks, version 3.7.11\n",
            " * INCLUDES=/usr/include\n",
            " * LIBS=/usr/lib/x86_64-linux-gnu/libgnuradio-blocks.so;/usr/lib/x86_64-linux-gnu/libgnuradio-runtime.so;/usr/lib/x86_64-linux-gnu/libgnuradio-pmt.so;/usr/lib/x86_64-linux-gnu/liblog4cpp.so\n",
            "-- Found GNURADIO_BLOCKS: /usr/lib/x86_64-linux-gnu/libgnuradio-blocks.so;/usr/lib/x86_64-linux-gnu/libgnuradio-runtime.so;/usr/lib/x86_64-linux-gnu/libgnuradio-pmt.so;/usr/lib/x86_64-linux-gnu/liblog4cpp.so  \n",
            "GNURADIO_BLOCKS_FOUND = TRUE\n",
            "Checking for GNU Radio Module: PMT\n",
            "-- Checking for module 'gnuradio-runtime'\n",
            "--   Found gnuradio-runtime, version 3.7.11\n",
            " * INCLUDES=/usr/include\n",
            " * LIBS=/usr/lib/x86_64-linux-gnu/libgnuradio-runtime.so;/usr/lib/x86_64-linux-gnu/libgnuradio-pmt.so;/usr/lib/x86_64-linux-gnu/liblog4cpp.so\n",
            "-- Found GNURADIO_PMT: /usr/lib/x86_64-linux-gnu/libgnuradio-runtime.so;/usr/lib/x86_64-linux-gnu/libgnuradio-pmt.so;/usr/lib/x86_64-linux-gnu/liblog4cpp.so  \n",
            "GNURADIO_PMT_FOUND = TRUE\n",
            "-- \n",
            "-- Checking for module SWIG\n",
            "-- Found SWIG version 3.0.12.\n",
            "-- Found SWIG: /usr/bin/swig3.0  \n",
            "-- Found PythonLibs: /usr/lib/x86_64-linux-gnu/libpython2.7.so (found suitable version \"2.7.17\", minimum required is \"2\") \n",
            "-- Found PythonInterp: /usr/bin/python2 (found suitable version \"2.7.17\", minimum required is \"2\") \n",
            "-- Performing Test HAVE_WNO_UNUSED_BUT_SET_VARIABLE\n",
            "-- Performing Test HAVE_WNO_UNUSED_BUT_SET_VARIABLE - Success\n",
            "CMake Warning (dev) at /usr/lib/x86_64-linux-gnu/cmake/gnuradio/GrTest.cmake:45 (get_target_property):\n",
            "  Policy CMP0026 is not set: Disallow use of the LOCATION target property.\n",
            "  Run \"cmake --help-policy CMP0026\" for policy details.  Use the cmake_policy\n",
            "  command to set the policy and suppress this warning.\n",
            "\n",
            "  The LOCATION property should not be read from target \"gnuradio-mapper\".\n",
            "  Use the target name directly with add_custom_command, or use the generator\n",
            "  expression $<TARGET_FILE>, as appropriate.\n",
            "\n",
            "Call Stack (most recent call first):\n",
            "  python/CMakeLists.txt:47 (GR_ADD_TEST)\n",
            "This warning is for project developers.  Use -Wno-dev to suppress it.\n",
            "\n",
            "CMake Warning (dev) at /usr/lib/x86_64-linux-gnu/cmake/gnuradio/GrTest.cmake:45 (get_target_property):\n",
            "  Policy CMP0045 is not set: Error on non-existent target in\n",
            "  get_target_property.  Run \"cmake --help-policy CMP0045\" for policy details.\n",
            "  Use the cmake_policy command to set the policy and suppress this warning.\n",
            "\n",
            "  get_target_property() called with non-existent target \"/usr/bin/python2\".\n",
            "Call Stack (most recent call first):\n",
            "  python/CMakeLists.txt:47 (GR_ADD_TEST)\n",
            "This warning is for project developers.  Use -Wno-dev to suppress it.\n",
            "\n",
            "CMake Warning (dev) at /usr/lib/x86_64-linux-gnu/cmake/gnuradio/GrTest.cmake:45 (get_target_property):\n",
            "  Policy CMP0045 is not set: Error on non-existent target in\n",
            "  get_target_property.  Run \"cmake --help-policy CMP0045\" for policy details.\n",
            "  Use the cmake_policy command to set the policy and suppress this warning.\n",
            "\n",
            "  get_target_property() called with non-existent target\n",
            "  \"/content/gr-mapper/python/qa_preamble.py\".\n",
            "Call Stack (most recent call first):\n",
            "  python/CMakeLists.txt:47 (GR_ADD_TEST)\n",
            "This warning is for project developers.  Use -Wno-dev to suppress it.\n",
            "\n",
            "CMake Warning (dev) at /usr/lib/x86_64-linux-gnu/cmake/gnuradio/GrTest.cmake:45 (get_target_property):\n",
            "  Policy CMP0026 is not set: Disallow use of the LOCATION target property.\n",
            "  Run \"cmake --help-policy CMP0026\" for policy details.  Use the cmake_policy\n",
            "  command to set the policy and suppress this warning.\n",
            "\n",
            "  The LOCATION property should not be read from target \"gnuradio-mapper\".\n",
            "  Use the target name directly with add_custom_command, or use the generator\n",
            "  expression $<TARGET_FILE>, as appropriate.\n",
            "\n",
            "Call Stack (most recent call first):\n",
            "  python/CMakeLists.txt:48 (GR_ADD_TEST)\n",
            "This warning is for project developers.  Use -Wno-dev to suppress it.\n",
            "\n",
            "CMake Warning (dev) at /usr/lib/x86_64-linux-gnu/cmake/gnuradio/GrTest.cmake:45 (get_target_property):\n",
            "  Policy CMP0045 is not set: Error on non-existent target in\n",
            "  get_target_property.  Run \"cmake --help-policy CMP0045\" for policy details.\n",
            "  Use the cmake_policy command to set the policy and suppress this warning.\n",
            "\n",
            "  get_target_property() called with non-existent target \"/usr/bin/python2\".\n",
            "Call Stack (most recent call first):\n",
            "  python/CMakeLists.txt:48 (GR_ADD_TEST)\n",
            "This warning is for project developers.  Use -Wno-dev to suppress it.\n",
            "\n",
            "CMake Warning (dev) at /usr/lib/x86_64-linux-gnu/cmake/gnuradio/GrTest.cmake:45 (get_target_property):\n",
            "  Policy CMP0045 is not set: Error on non-existent target in\n",
            "  get_target_property.  Run \"cmake --help-policy CMP0045\" for policy details.\n",
            "  Use the cmake_policy command to set the policy and suppress this warning.\n",
            "\n",
            "  get_target_property() called with non-existent target\n",
            "  \"/content/gr-mapper/python/qa_preamble_sync_demapper.py\".\n",
            "Call Stack (most recent call first):\n",
            "  python/CMakeLists.txt:48 (GR_ADD_TEST)\n",
            "This warning is for project developers.  Use -Wno-dev to suppress it.\n",
            "\n",
            "-- Could NOT find Doxygen (missing: DOXYGEN_EXECUTABLE) \n",
            "-- Configuring done\n",
            "-- Generating done\n",
            "-- Build files have been written to: /content/gr-mapper/build\n",
            "\u001b[35m\u001b[1mScanning dependencies of target gnuradio-mapper\u001b[0m\n",
            "[  3%] \u001b[32mBuilding CXX object lib/CMakeFiles/gnuradio-mapper.dir/constellation.cc.o\u001b[0m\n",
            "[  6%] \u001b[32mBuilding CXX object lib/CMakeFiles/gnuradio-mapper.dir/mapper_impl.cc.o\u001b[0m\n",
            "[ 10%] \u001b[32mBuilding CXX object lib/CMakeFiles/gnuradio-mapper.dir/demapper_impl.cc.o\u001b[0m\n",
            "[ 13%] \u001b[32mBuilding CXX object lib/CMakeFiles/gnuradio-mapper.dir/demapper_soft_impl.cc.o\u001b[0m\n",
            "[ 17%] \u001b[32mBuilding CXX object lib/CMakeFiles/gnuradio-mapper.dir/mapper_msg_impl.cc.o\u001b[0m\n",
            "[ 20%] \u001b[32mBuilding CXX object lib/CMakeFiles/gnuradio-mapper.dir/demapper_msg_impl.cc.o\u001b[0m\n",
            "[ 24%] \u001b[32mBuilding CXX object lib/CMakeFiles/gnuradio-mapper.dir/preamble_insert_bb_impl.cc.o\u001b[0m\n",
            "[ 27%] \u001b[32mBuilding CXX object lib/CMakeFiles/gnuradio-mapper.dir/preamble_sync_cc_impl.cc.o\u001b[0m\n",
            "[ 31%] \u001b[32mBuilding CXX object lib/CMakeFiles/gnuradio-mapper.dir/pream_sync_correlator.cc.o\u001b[0m\n",
            "[ 34%] \u001b[32mBuilding CXX object lib/CMakeFiles/gnuradio-mapper.dir/preamble_generator.cc.o\u001b[0m\n",
            "[ 37%] \u001b[32mBuilding CXX object lib/CMakeFiles/gnuradio-mapper.dir/preamble_sync_demapper_impl.cc.o\u001b[0m\n",
            "[ 41%] \u001b[32mBuilding CXX object lib/CMakeFiles/gnuradio-mapper.dir/preamble_sync_demapper_hard_impl.cc.o\u001b[0m\n",
            "[ 44%] \u001b[32mBuilding CXX object lib/CMakeFiles/gnuradio-mapper.dir/preamble_strip_impl.cc.o\u001b[0m\n",
            "[ 48%] \u001b[32mBuilding CXX object lib/CMakeFiles/gnuradio-mapper.dir/timeslot_demux_impl.cc.o\u001b[0m\n",
            "[ 51%] \u001b[32m\u001b[1mLinking CXX shared library libgnuradio-mapper.so\u001b[0m\n",
            "[ 51%] Built target gnuradio-mapper\n",
            "\u001b[35m\u001b[1mScanning dependencies of target mapper_swig_swig_doc\u001b[0m\n",
            "[ 51%] Built target mapper_swig_swig_doc\n",
            "\u001b[35m\u001b[1mScanning dependencies of target _mapper_swig_swig_tag\u001b[0m\n",
            "[ 55%] \u001b[32mBuilding CXX object swig/CMakeFiles/_mapper_swig_swig_tag.dir/_mapper_swig_swig_tag.cpp.o\u001b[0m\n",
            "[ 58%] \u001b[32m\u001b[1mLinking CXX executable _mapper_swig_swig_tag\u001b[0m\n",
            "[ 58%] Built target _mapper_swig_swig_tag\n",
            "[ 62%] \u001b[34m\u001b[1mGenerating mapper_swig.tag\u001b[0m\n",
            "\u001b[35m\u001b[1mScanning dependencies of target mapper_swig_swig_2d0df\u001b[0m\n",
            "[ 65%] \u001b[32mBuilding CXX object swig/CMakeFiles/mapper_swig_swig_2d0df.dir/mapper_swig_swig_2d0df.cpp.o\u001b[0m\n",
            "[ 68%] \u001b[32m\u001b[1mLinking CXX executable mapper_swig_swig_2d0df\u001b[0m\n",
            "\u001b[34m\u001b[1mSwig source\u001b[0m\n",
            "/content/gr-mapper/include/mapper/constellation.h:36: Warning 314: 'in' is a python keyword, renaming to '_in'\n",
            "/content/gr-mapper/include/mapper/constellation.h:36: Warning 314: 'in' is a python keyword, renaming to '_in'\n",
            "/content/gr-mapper/include/mapper/constellation.h:37: Warning 314: 'in' is a python keyword, renaming to '_in'\n",
            "/content/gr-mapper/include/mapper/constellation.h:36: Warning 314: 'in' is a python keyword, renaming to '_in'\n",
            "/content/gr-mapper/include/mapper/constellation.h:36: Warning 314: 'in' is a python keyword, renaming to '_in'\n",
            "/content/gr-mapper/include/mapper/constellation.h:37: Warning 314: 'in' is a python keyword, renaming to '_in'\n",
            "/content/gr-mapper/include/mapper/constellation.h:37: Warning 314: 'in' is a python keyword, renaming to '_in'\n",
            "/content/gr-mapper/include/mapper/constellation.h:38: Warning 314: 'in' is a python keyword, renaming to '_in'\n",
            "/content/gr-mapper/include/mapper/constellation.h:38: Warning 314: 'in' is a python keyword, renaming to '_in'\n",
            "/content/gr-mapper/include/mapper/constellation.h:38: Warning 314: 'in' is a python keyword, renaming to '_in'\n",
            "/content/gr-mapper/include/mapper/constellation.h:38: Warning 314: 'in' is a python keyword, renaming to '_in'\n",
            "/content/gr-mapper/include/mapper/constellation.h:38: Warning 314: 'in' is a python keyword, renaming to '_in'\n",
            "/content/gr-mapper/include/mapper/constellation.h:38: Warning 314: 'in' is a python keyword, renaming to '_in'\n",
            "/content/gr-mapper/include/mapper/constellation.h:38: Warning 314: 'in' is a python keyword, renaming to '_in'\n",
            "/content/gr-mapper/include/mapper/constellation.h:38: Warning 314: 'in' is a python keyword, renaming to '_in'\n",
            "/content/gr-mapper/include/mapper/constellation.h:39: Warning 314: 'in' is a python keyword, renaming to '_in'\n",
            "/content/gr-mapper/include/mapper/constellation.h:39: Warning 314: 'in' is a python keyword, renaming to '_in'\n",
            "/content/gr-mapper/include/mapper/constellation.h:39: Warning 314: 'in' is a python keyword, renaming to '_in'\n",
            "/content/gr-mapper/include/mapper/constellation.h:39: Warning 314: 'in' is a python keyword, renaming to '_in'\n",
            "/content/gr-mapper/include/mapper/constellation.h:39: Warning 314: 'in' is a python keyword, renaming to '_in'\n",
            "/content/gr-mapper/include/mapper/constellation.h:39: Warning 314: 'in' is a python keyword, renaming to '_in'\n",
            "/content/gr-mapper/include/mapper/constellation.h:39: Warning 314: 'in' is a python keyword, renaming to '_in'\n",
            "/content/gr-mapper/include/mapper/constellation.h:39: Warning 314: 'in' is a python keyword, renaming to '_in'\n",
            "[ 68%] Built target mapper_swig_swig_2d0df\n",
            "\u001b[35m\u001b[1mScanning dependencies of target _mapper_swig\u001b[0m\n",
            "[ 72%] \u001b[32mBuilding CXX object swig/CMakeFiles/_mapper_swig.dir/mapper_swigPYTHON_wrap.cxx.o\u001b[0m\n",
            "[ 75%] \u001b[32m\u001b[1mLinking CXX shared module _mapper_swig.so\u001b[0m\n",
            "[ 82%] Built target _mapper_swig\n",
            "\u001b[35m\u001b[1mScanning dependencies of target pygen_swig_f5878\u001b[0m\n",
            "[ 86%] \u001b[34m\u001b[1mGenerating mapper_swig.pyc\u001b[0m\n",
            "[ 89%] \u001b[34m\u001b[1mGenerating mapper_swig.pyo\u001b[0m\n",
            "[ 93%] Built target pygen_swig_f5878\n",
            "\u001b[35m\u001b[1mScanning dependencies of target pygen_python_634d8\u001b[0m\n",
            "[ 96%] \u001b[34m\u001b[1mGenerating __init__.pyc, prbs_base.pyc, prbs_sink_b.pyc, prbs_source_b.pyc\u001b[0m\n",
            "[100%] \u001b[34m\u001b[1mGenerating __init__.pyo, prbs_base.pyo, prbs_sink_b.pyo, prbs_source_b.pyo\u001b[0m\n",
            "[100%] Built target pygen_python_634d8\n",
            "\u001b[35m\u001b[1mScanning dependencies of target pygen_apps_9a6dd\u001b[0m\n",
            "[100%] Built target pygen_apps_9a6dd\n",
            "[ 51%] Built target gnuradio-mapper\n",
            "[ 51%] Built target mapper_swig_swig_doc\n",
            "[ 58%] Built target _mapper_swig_swig_tag\n",
            "[ 68%] Built target mapper_swig_swig_2d0df\n",
            "[ 82%] Built target _mapper_swig\n",
            "[ 93%] Built target pygen_swig_f5878\n",
            "[100%] Built target pygen_python_634d8\n",
            "[100%] Built target pygen_apps_9a6dd\n",
            "\u001b[36mInstall the project...\u001b[0m\n",
            "-- Install configuration: \"Release\"\n",
            "-- Installing: /usr/local/lib/pkgconfig/mapper.pc\n",
            "-- Installing: /usr/local/lib/cmake/mapper/mapperConfig.cmake\n",
            "-- Installing: /usr/local/include/mapper/api.h\n",
            "-- Installing: /usr/local/include/mapper/constellation.h\n",
            "-- Installing: /usr/local/include/mapper/mapper.h\n",
            "-- Installing: /usr/local/include/mapper/demapper.h\n",
            "-- Installing: /usr/local/include/mapper/demapper_msg.h\n",
            "-- Installing: /usr/local/include/mapper/demapper_soft.h\n",
            "-- Installing: /usr/local/include/mapper/mapper_msg.h\n",
            "-- Installing: /usr/local/include/mapper/preamble_insert_bb.h\n",
            "-- Installing: /usr/local/include/mapper/preamble_sync_cc.h\n",
            "-- Installing: /usr/local/include/mapper/pream_sync_correlator.h\n",
            "-- Installing: /usr/local/include/mapper/preamble_generator.h\n",
            "-- Installing: /usr/local/include/mapper/preamble_sync_demapper.h\n",
            "-- Installing: /usr/local/include/mapper/preamble_sync_demapper_hard.h\n",
            "-- Installing: /usr/local/include/mapper/preamble_strip.h\n",
            "-- Installing: /usr/local/include/mapper/timeslot_demux.h\n",
            "-- Installing: /usr/local/lib/libgnuradio-mapper.so\n",
            "-- Installing: /usr/local/lib/python2.7/dist-packages/mapper/_mapper_swig.so\n",
            "-- Set runtime path of \"/usr/local/lib/python2.7/dist-packages/mapper/_mapper_swig.so\" to \"\"\n",
            "-- Installing: /usr/local/lib/python2.7/dist-packages/mapper/mapper_swig.py\n",
            "-- Installing: /usr/local/lib/python2.7/dist-packages/mapper/mapper_swig.pyc\n",
            "-- Installing: /usr/local/lib/python2.7/dist-packages/mapper/mapper_swig.pyo\n",
            "-- Installing: /usr/local/include/mapper/mapper/swig/mapper_swig.i\n",
            "-- Installing: /usr/local/include/mapper/mapper/swig/mapper_swig_doc.i\n",
            "-- Installing: /usr/local/lib/python2.7/dist-packages/mapper/__init__.py\n",
            "-- Installing: /usr/local/lib/python2.7/dist-packages/mapper/prbs_base.py\n",
            "-- Installing: /usr/local/lib/python2.7/dist-packages/mapper/prbs_sink_b.py\n",
            "-- Installing: /usr/local/lib/python2.7/dist-packages/mapper/prbs_source_b.py\n",
            "-- Installing: /usr/local/lib/python2.7/dist-packages/mapper/__init__.pyc\n",
            "-- Installing: /usr/local/lib/python2.7/dist-packages/mapper/prbs_base.pyc\n",
            "-- Installing: /usr/local/lib/python2.7/dist-packages/mapper/prbs_sink_b.pyc\n",
            "-- Installing: /usr/local/lib/python2.7/dist-packages/mapper/prbs_source_b.pyc\n",
            "-- Installing: /usr/local/lib/python2.7/dist-packages/mapper/__init__.pyo\n",
            "-- Installing: /usr/local/lib/python2.7/dist-packages/mapper/prbs_base.pyo\n",
            "-- Installing: /usr/local/lib/python2.7/dist-packages/mapper/prbs_sink_b.pyo\n",
            "-- Installing: /usr/local/lib/python2.7/dist-packages/mapper/prbs_source_b.pyo\n",
            "-- Installing: /usr/local/share/gnuradio/grc/blocks/mapper_mapper.xml\n",
            "-- Installing: /usr/local/share/gnuradio/grc/blocks/mapper_demapper.xml\n",
            "-- Installing: /usr/local/share/gnuradio/grc/blocks/mapper_demapper_soft.xml\n",
            "-- Installing: /usr/local/share/gnuradio/grc/blocks/mapper_mapper_msg.xml\n",
            "-- Installing: /usr/local/share/gnuradio/grc/blocks/mapper_demapper_msg.xml\n",
            "-- Installing: /usr/local/share/gnuradio/grc/blocks/mapper_preamble_insert_bb.xml\n",
            "-- Installing: /usr/local/share/gnuradio/grc/blocks/mapper_preamble_sync_cc.xml\n",
            "-- Installing: /usr/local/share/gnuradio/grc/blocks/mapper_preamble_sync_demapper.xml\n",
            "-- Installing: /usr/local/share/gnuradio/grc/blocks/mapper_preamble_sync_demapper_hard.xml\n",
            "-- Installing: /usr/local/share/gnuradio/grc/blocks/mapper_preamble_strip.xml\n",
            "-- Installing: /usr/local/share/gnuradio/grc/blocks/mapper_timeslot_demux.xml\n",
            "-- Installing: /usr/local/share/gnuradio/grc/blocks/mapper_prbs_source_b.xml\n",
            "-- Installing: /usr/local/share/gnuradio/grc/blocks/mapper_prbs_sink_b.xml\n"
          ],
          "name": "stdout"
        }
      ]
    },
    {
      "cell_type": "code",
      "metadata": {
        "id": "Y2iqLw-uquYS",
        "colab_type": "code",
        "colab": {
          "base_uri": "https://localhost:8080/",
          "height": 124
        },
        "outputId": "994fb142-977d-4e44-d05b-7930b67dac88"
      },
      "source": [
        "from google.colab import drive\n",
        "drive.mount('/content/drive')"
      ],
      "execution_count": 2,
      "outputs": [
        {
          "output_type": "stream",
          "text": [
            "Go to this URL in a browser: https://accounts.google.com/o/oauth2/auth?client_id=947318989803-6bn6qk8qdgf4n4g3pfee6491hc0brc4i.apps.googleusercontent.com&redirect_uri=urn%3aietf%3awg%3aoauth%3a2.0%3aoob&scope=email%20https%3a%2f%2fwww.googleapis.com%2fauth%2fdocs.test%20https%3a%2f%2fwww.googleapis.com%2fauth%2fdrive%20https%3a%2f%2fwww.googleapis.com%2fauth%2fdrive.photos.readonly%20https%3a%2f%2fwww.googleapis.com%2fauth%2fpeopleapi.readonly&response_type=code\n",
            "\n",
            "Enter your authorization code:\n",
            "··········\n",
            "Mounted at /content/drive\n"
          ],
          "name": "stdout"
        }
      ]
    },
    {
      "cell_type": "code",
      "metadata": {
        "id": "Syk2LZ_Dhj0H",
        "colab_type": "code",
        "colab": {
          "base_uri": "https://localhost:8080/",
          "height": 260
        },
        "outputId": "2148bfab-aab6-48a2-b856-0c5f330659eb"
      },
      "source": [
        "import gnuradio\n",
        "#!python /gdrive/My\\ Drive/dataset-master1/qwe.py\n",
        "!python '/content/drive/My Drive/dataset-master/new.py'\n",
        "!python '/content/drive/My Drive/dataset-master/generate_RML2016.10a.py'\n"
      ],
      "execution_count": null,
      "outputs": [
        {
          "output_type": "stream",
          "text": [
            "  File \"/content/drive/My Drive/dataset-master/new.py\", line 44\n",
            "    mod=<transmitters.transmitter_pam4 object at 0x7f1b41961dd0>\n",
            "        ^\n",
            "SyntaxError: invalid syntax\n",
            "('snr is ', 1000)\n",
            "<transmitters.transmitter_bpsk object at 0x7f67b45ad890>\n",
            "<transmitters.transmitter_qpsk object at 0x7f67b45ad5d0>\n",
            "<transmitters.transmitter_8psk object at 0x7f67b45adb50>\n",
            "<transmitters.transmitter_pam4 object at 0x7f67b45addd0>\n",
            "<transmitters.transmitter_qam16 object at 0x7f67b45add90>\n",
            "<transmitters.transmitter_qam64 object at 0x7f67b45ad650>\n",
            "<transmitters.transmitter_gfsk object at 0x7f67b45adcd0>\n",
            "<transmitters.transmitter_cpfsk object at 0x7f67b45ade10>\n",
            "all done. writing to disk\n"
          ],
          "name": "stdout"
        }
      ]
    },
    {
      "cell_type": "code",
      "metadata": {
        "id": "fziRVUUvl0-i",
        "colab_type": "code",
        "colab": {
          "base_uri": "https://localhost:8080/"
        },
        "outputId": "1a3b19c4-d87b-456b-abfe-bf6f83d967be"
      },
      "source": [
        "import pickle\n",
        "import sys\n",
        "import pandas as pd \n",
        "import numpy as np\n",
        "\n",
        "\n",
        "with open('/content/drive/My Drive/2DFFT/unzip_tar/RML2016.10a_dict.pkl') as f:\n",
        "    data = pickle.load(f)\n",
        "#print(data)\n",
        "psk = (data[('8PSK', -18)])\n",
        "print(psk.size)\n",
        "print(type(psk))\n",
        "#print((data[('8PSK', -18)]))\n",
        "#for keys in data:\n",
        "#  print(keys)\n",
        "#print(data['QPSK',8][1][1])"
      ],
      "execution_count": 1,
      "outputs": [
        {
          "output_type": "stream",
          "text": [
            "256000\n",
            "<type 'numpy.ndarray'>\n"
          ],
          "name": "stdout"
        }
      ]
    },
    {
      "cell_type": "code",
      "metadata": {
        "id": "ZyWJIXJcIaGU",
        "colab_type": "code",
        "colab": {
          "base_uri": "https://localhost:8080/"
        },
        "outputId": "c58783ae-cf06-425b-cb18-9eb1d84dd13b"
      },
      "source": [
        "Xd = data\n",
        "snrs,mods = map(lambda j: sorted(list(set(map(lambda x: x[j], Xd.keys())))), [1,0])\n",
        "X = []  \n",
        "lbl = []\n",
        "for mod in mods:\n",
        "    for snr in snrs:\n",
        "        X.append(Xd[(mod,snr)])\n",
        "        for i in range(Xd[(mod,snr)].shape[0]):  lbl.append((mod,snr))\n",
        "X = np.vstack(X)\n",
        "print(X.shape)"
      ],
      "execution_count": 46,
      "outputs": [
        {
          "output_type": "stream",
          "text": [
            "(220000, 2, 128)\n"
          ],
          "name": "stdout"
        }
      ]
    },
    {
      "cell_type": "code",
      "metadata": {
        "id": "I4cyNRPrLLny",
        "colab_type": "code",
        "colab": {
          "base_uri": "https://localhost:8080/",
          "height": 204
        },
        "outputId": "79c6487f-a7eb-4392-eaa6-1f0730a836ce"
      },
      "source": [
        "for mod in mods:\n",
        "  print(mod) "
      ],
      "execution_count": null,
      "outputs": [
        {
          "output_type": "stream",
          "text": [
            "8PSK\n",
            "AM-DSB\n",
            "AM-SSB\n",
            "BPSK\n",
            "CPFSK\n",
            "GFSK\n",
            "PAM4\n",
            "QAM16\n",
            "QAM64\n",
            "QPSK\n",
            "WBFM\n"
          ],
          "name": "stdout"
        }
      ]
    },
    {
      "cell_type": "code",
      "metadata": {
        "id": "Dqd5h_5bKvzy",
        "colab_type": "code",
        "colab": {
          "base_uri": "https://localhost:8080/",
          "height": 260
        },
        "outputId": "8e2dd678-5ccc-4b3f-cdb1-b627672fa487"
      },
      "source": [
        "Xd = data\n",
        "snrs,mods = map(lambda j: sorted(list(set(map(lambda x: x[j], Xd.keys())))), [1,0])\n",
        "X = []  \n",
        "lbl = []\n",
        "for mod in ['8PSK']:\n",
        "    for snr in [2,4]:\n",
        "        temp = Xd[(mod,snr)]\n",
        "        temp1 = temp[0:5]\n",
        "        X.append(temp1)\n",
        "    \n",
        "        print(temp1.shape, snr ,'-snr value')\n",
        "        for i in range(temp1.shape[0]):  lbl.append((mod,snr))\n",
        "        \n",
        "#print(X.shape)\n",
        "X = np.vstack(X)\n",
        "print(lbl)\n",
        "train_idx = [0,1,2,3,4,5,6,7,8,9]\n",
        "Y_train = to_onehot(map(lambda x: mods.index(lbl[x][0]), train_idx))\n",
        "print(Y_train)\n",
        "print(X.shape) # ye ho gaya total length, 20K*11 ho gaya total data ka length ok?? each modulation has 20000 samples of 128 IQ values, carryon"
      ],
      "execution_count": 82,
      "outputs": [
        {
          "output_type": "stream",
          "text": [
            "((5, 2, 128), 2, '-snr value')\n",
            "((5, 2, 128), 4, '-snr value')\n",
            "[('8PSK', 2), ('8PSK', 2), ('8PSK', 2), ('8PSK', 2), ('8PSK', 2), ('8PSK', 4), ('8PSK', 4), ('8PSK', 4), ('8PSK', 4), ('8PSK', 4)]\n",
            "[[1.]\n",
            " [1.]\n",
            " [1.]\n",
            " [1.]\n",
            " [1.]\n",
            " [1.]\n",
            " [1.]\n",
            " [1.]\n",
            " [1.]\n",
            " [1.]]\n",
            "(10, 2, 128)\n"
          ],
          "name": "stdout"
        }
      ]
    },
    {
      "cell_type": "code",
      "metadata": {
        "id": "TN2EijfPdn-G",
        "colab_type": "code",
        "colab": {
          "base_uri": "https://localhost:8080/",
          "height": 72
        },
        "outputId": "dbf145c9-d001-40f7-ad23-609f369b537a"
      },
      "source": [
        "Xd = data\n",
        "print(type(Xd),Xd.keys())\n",
        "snrs,mods = map(lambda j: sorted(list(set(map(lambda x: x[j], Xd.keys())))), [1,0])\n",
        "X = []  \n",
        "lbl = []\n",
        "for mod in (mods):\n",
        "    for snr in snrs:\n",
        "        X.append(Xd[(mod,snr)])\n",
        "        for i in range(Xd[(mod,snr)].shape[0]):  lbl.append((mod,snr))\n",
        "X = np.vstack(X)\n",
        "print(X.shape) # ye ho gaya total length, 20K*11 ho gaya total data ka length ok?? each modulation has 20000 samples of 128 IQ values, carryon"
      ],
      "execution_count": 110,
      "outputs": [
        {
          "output_type": "stream",
          "text": [
            "(<type 'dict'>, [('QPSK', 2), ('PAM4', 8), ('AM-DSB', -4), ('GFSK', 6), ('QAM64', 8), ('AM-SSB', 12), ('PAM4', 18), ('QAM64', -6), ('QAM16', 2), ('QAM16', -20), ('8PSK', -18), ('PAM4', -6), ('WBFM', -18), ('BPSK', 8), ('CPFSK', 10), ('WBFM', 6), ('BPSK', 4), ('BPSK', -2), ('QPSK', -20), ('CPFSK', -8), ('AM-SSB', 6), ('QAM64', -20), ('QAM16', 12), ('GFSK', -20), ('AM-SSB', -12), ('CPFSK', 0), ('AM-DSB', 6), ('BPSK', -16), ('QPSK', -6), ('8PSK', -12), ('CPFSK', -18), ('AM-DSB', -18), ('QPSK', 8), ('PAM4', 14), ('WBFM', -8), ('AM-DSB', -10), ('GFSK', 12), ('QAM64', 2), ('8PSK', -10), ('AM-SSB', -18), ('QAM64', -4), ('GFSK', -4), ('AM-DSB', 8), ('PAM4', -16), ('QPSK', -16), ('BPSK', 16), ('WBFM', -14), ('CPFSK', 16), ('WBFM', 0), ('QPSK', 6), ('BPSK', 14), ('AM-DSB', -8), ('GFSK', -10), ('CPFSK', -2), ('AM-SSB', 8), ('QAM16', 8), ('QAM16', 6), ('QAM16', -16), ('QAM64', 18), ('AM-SSB', -2), ('CPFSK', 6), ('BPSK', 0), ('BPSK', -6), ('8PSK', -14), ('CPFSK', -12), ('AM-SSB', 2), ('WBFM', 10), ('BPSK', -20), ('PAM4', 4), ('GFSK', 10), ('QAM16', -6), ('QAM64', 4), ('PAM4', -20), ('8PSK', 10), ('AM-SSB', -16), ('QAM64', -10), ('GFSK', -6), ('AM-DSB', 2), ('PAM4', -10), ('QPSK', -2), ('8PSK', -8), ('8PSK', 0), ('QPSK', 12), ('8PSK', 12), ('AM-DSB', -14), ('GFSK', 0), ('QAM64', 14), ('AM-SSB', 18), ('QAM64', -8), ('QAM16', 0), ('GFSK', -16), ('WBFM', 2), ('PAM4', -4), ('QPSK', -12), ('WBFM', -20), ('CPFSK', 12), ('WBFM', 4), ('BPSK', 10), ('BPSK', -4), ('QPSK', -18), ('CPFSK', -6), ('AM-SSB', 4), ('BPSK', -12), ('8PSK', 16), ('QAM16', 10), ('QAM16', -12), ('WBFM', -6), ('8PSK', -20), ('AM-SSB', -6), ('CPFSK', 2), ('QPSK', 16), ('AM-DSB', 4), ('BPSK', -10), ('WBFM', -4), ('CPFSK', -16), ('WBFM', -16), ('QPSK', 10), ('PAM4', 0), ('AM-DSB', -12), ('GFSK', 14), ('QAM16', -2), ('QAM64', 0), ('WBFM', -10), ('AM-SSB', -20), ('QAM64', -14), ('GFSK', -2), ('AM-DSB', 14), ('PAM4', -14), ('QPSK', -14), ('8PSK', -4), ('CPFSK', 18), ('8PSK', 4), ('QPSK', 0), ('BPSK', 12), ('AM-DSB', -2), ('GFSK', 4), ('QAM64', 10), ('AM-SSB', 14), ('8PSK', 2), ('QAM16', -10), ('PAM4', 16), ('QAM16', 4), ('GFSK', 8), ('QAM16', -18), ('QAM64', 16), ('PAM4', -8), ('WBFM', 16), ('WBFM', 14), ('AM-SSB', -4), ('CPFSK', 8), ('BPSK', 6), ('BPSK', -8), ('CPFSK', -10), ('AM-SSB', 0), ('PAM4', 6), ('QAM64', -18), ('QAM16', 14), ('QAM16', -8), ('PAM4', -18), ('AM-DSB', 18), ('AM-SSB', -10), ('QAM64', -12), ('AM-DSB', 0), ('BPSK', -14), ('QPSK', -8), ('8PSK', -6), ('CPFSK', -20), ('GFSK', 16), ('WBFM', 8), ('QPSK', 14), ('PAM4', 12), ('AM-DSB', -16), ('GFSK', 2), ('BPSK', -18), ('QAM64', 12), ('AM-SSB', 16), ('AM-SSB', -14), ('QAM64', -2), ('8PSK', 14), ('GFSK', -14), ('BPSK', 18), ('PAM4', -2), ('QPSK', -10), ('CPFSK', 14), ('8PSK', 8), ('QPSK', 4), ('AM-DSB', 16), ('AM-DSB', -6), ('CPFSK', -4), ('AM-SSB', 10), ('WBFM', -2), ('8PSK', 18), ('GFSK', 18), ('QAM16', -14), ('AM-DSB', 10), ('WBFM', -12), ('AM-SSB', -8), ('CPFSK', 4), ('QPSK', 18), ('BPSK', 2), ('AM-DSB', -20), ('8PSK', -16), ('CPFSK', -14), ('WBFM', 18), ('PAM4', 2), ('QAM16', 18), ('QAM16', -4), ('QAM64', 6), ('GFSK', -18), ('PAM4', 10), ('QAM64', -16), ('QAM16', 16), ('GFSK', -8), ('AM-DSB', 12), ('PAM4', -12), ('QPSK', -4), ('8PSK', -2), ('GFSK', -12), ('8PSK', 6), ('WBFM', 12)])\n",
            "(220000, 2, 128)\n"
          ],
          "name": "stdout"
        }
      ]
    },
    {
      "cell_type": "code",
      "metadata": {
        "id": "XKOMbSvexn80",
        "colab_type": "code",
        "colab": {
          "base_uri": "https://localhost:8080/",
          "height": 52
        },
        "outputId": "b0e6c4af-7b70-4fe8-cd32-4c5ac36278c6"
      },
      "source": [
        "print(set((1,2,3,1)))\n",
        "print(type(lbl))"
      ],
      "execution_count": 122,
      "outputs": [
        {
          "output_type": "stream",
          "text": [
            "set([1, 2, 3])\n",
            "<type 'list'>\n"
          ],
          "name": "stdout"
        }
      ]
    },
    {
      "cell_type": "code",
      "metadata": {
        "id": "ub6Y-a3UIZ_7",
        "colab_type": "code",
        "colab": {
          "base_uri": "https://localhost:8080/",
          "height": 69
        },
        "outputId": "0d7422a0-16bd-48f4-d3a4-10e9cdceb34d"
      },
      "source": [
        "print(mods)\n",
        "print(snrs)\n",
        "print(X.shape)"
      ],
      "execution_count": 36,
      "outputs": [
        {
          "output_type": "stream",
          "text": [
            "['8PSK', 'AM-DSB', 'AM-SSB', 'BPSK', 'CPFSK', 'GFSK', 'PAM4', 'QAM16', 'QAM64', 'QPSK', 'WBFM']\n",
            "[-20, -18, -16, -14, -12, -10, -8, -6, -4, -2, 0, 2, 4, 6, 8, 10, 12, 14, 16, 18]\n",
            "(220000, 2, 128)\n"
          ],
          "name": "stdout"
        }
      ]
    },
    {
      "cell_type": "code",
      "metadata": {
        "id": "0cEgVwGaIZ40",
        "colab_type": "code",
        "colab": {
          "base_uri": "https://localhost:8080/",
          "height": 52
        },
        "outputId": "b851a008-f6a9-46bf-ed47-33f5e590de64"
      },
      "source": [
        "\"\"\"np.random.seed(2016)\n",
        "n_examples = X.shape[0] \n",
        "n_train = int(n_examples * 0.5 )\n",
        "print(n_examples,n_train)\n",
        "train_idx = np.random.choice(range(0,n_examples), size=n_train, replace=False)  # ye 1\\2 exapmle randomly select  kar leye training ke leye\n",
        "test_idx = list(set(range(0,n_examples))-set(train_idx)) # baaki set ka disjoint le leya for testing dataset\n",
        "X_train = X[train_idx]\n",
        "X_test =  X[test_idx]\n",
        "def to_onehot(yy):\n",
        "    yy1 = np.zeros([len(yy), max(yy)+1])\n",
        "    #print((yy))\n",
        "    yy1[np.arange(len(yy)),yy] = 1\n",
        "    return yy1\n",
        "Y_train = to_onehot(map(lambda x: mods.index(lbl[x][0]), train_idx))\n",
        "Y_test = to_onehot(map(lambda x: mods.index(lbl[x][0]), test_idx))  \n",
        "print(X_train.shape, Y_train.shape)\"\"\""
      ],
      "execution_count": 135,
      "outputs": [
        {
          "output_type": "stream",
          "text": [
            "(220000, 110000)\n",
            "((110000, 2, 128), (110000, 11))\n"
          ],
          "name": "stdout"
        }
      ]
    },
    {
      "cell_type": "code",
      "metadata": {
        "id": "ojTggdnpr1Yi",
        "colab_type": "code",
        "colab": {
          "base_uri": "https://localhost:8080/",
          "height": 52
        },
        "outputId": "3b3abf72-5bec-4ae5-ac78-61dc7a5d1f42"
      },
      "source": [
        "\n",
        "\n",
        "def myfunc(a, b, c):\n",
        "  return a + b +'-' + c\n",
        "\n",
        "#x = map(myfunc, ('apple', 'banana', 'cherry'), ('orange', 'lemon', 'pineapple'))\n",
        "print(x)\n",
        "print(map(myfunc, ('apple', 'banana', 'cherry'), ('orange', 'lemon', 'pineapple'), ('eat','drink','chew')))"
      ],
      "execution_count": 108,
      "outputs": [
        {
          "output_type": "stream",
          "text": [
            "['appleorange', 'bananalemon', 'cherrypineapple']\n",
            "['appleorange-eat', 'bananalemon-drink', 'cherrypineapple-chew']\n"
          ],
          "name": "stdout"
        }
      ]
    },
    {
      "cell_type": "code",
      "metadata": {
        "id": "ir7hV-sxgAyW",
        "colab_type": "code",
        "colab": {
          "base_uri": "https://localhost:8080/",
          "height": 35
        },
        "outputId": "336572e1-b7da-418d-aa98-a1c0fe0c5d16"
      },
      "source": [
        "np.sort(np.random.choice(range(0,10), size=15, replace=True))"
      ],
      "execution_count": 145,
      "outputs": [
        {
          "output_type": "execute_result",
          "data": {
            "text/plain": [
              "array([1, 2, 2, 2, 3, 3, 3, 3, 5, 6, 7, 7, 9, 9, 9])"
            ]
          },
          "metadata": {
            "tags": []
          },
          "execution_count": 145
        }
      ]
    },
    {
      "cell_type": "code",
      "metadata": {
        "id": "vdUeHyiZIZy6",
        "colab_type": "code",
        "colab": {
          "base_uri": "https://localhost:8080/",
          "height": 35
        },
        "outputId": "0da11dd2-f07c-4dc1-d8fd-83e99efc333c"
      },
      "source": [
        "print(X_train.shape) # exapmle of hot-encoding for labeling classes to the dataset  # ab batao aage??, apna model isme dalo?? okdekhte hain inhone kya kiya hai"
      ],
      "execution_count": 38,
      "outputs": [
        {
          "output_type": "stream",
          "text": [
            "(110000, 2, 128)\n"
          ],
          "name": "stdout"
        }
      ]
    },
    {
      "cell_type": "code",
      "metadata": {
        "id": "yWypf1JBIZev",
        "colab_type": "code",
        "colab": {}
      },
      "source": [
        "# sir abhi data input ka shape to 2-d hai , pahale 3d karna hoga reshpe karke and abhi renset to kaise he use karenge like isme to 1-d convolution lagega, "
      ],
      "execution_count": null,
      "outputs": []
    },
    {
      "cell_type": "code",
      "metadata": {
        "id": "3ShWH0Ot6ICC",
        "colab_type": "code",
        "colab": {
          "base_uri": "https://localhost:8080/",
          "height": 72
        },
        "outputId": "ebde7cf5-6394-4e3d-cf8e-c87dbaa517ea"
      },
      "source": [
        "import pickle\n",
        "import sys\n",
        "import pandas as pd \n",
        "import numpy as np\n",
        "\n",
        "\n",
        "with open('/content/drive/My Drive/2DFFT/unzip_tar/RML2016.10a_dict.pkl') as f:\n",
        "    data = pickle.load(f)\n",
        "#print(data)\n",
        "psk = (data[('8PSK', -18)])\n",
        "print(psk.size)\n",
        "print(type(psk))\n",
        "#print((data[('8PSK', -18)]))\n",
        "#for keys in data:\n",
        "#  print(keys)\n",
        "#print(data['QPSK',8][1][1])\n",
        "\n",
        "\n",
        "Xd = data\n",
        "print(type(Xd),Xd.keys())\n",
        "snrs,mods = map(lambda j: sorted(list(set(map(lambda x: x[j], Xd.keys())))), [1,0])\n",
        "X_train = []  \n",
        "lbl_train = []\n",
        "X_test = []  \n",
        "lbl_test = []\n",
        "for mod in (mods):\n",
        "    for snr in snrs:\n",
        "        temp = Xd[(mod,snr)]\n",
        "        temp1 = temp[0:750]\n",
        "        temp2 = temp[750:]\n",
        "        X_train.append(temp1)\n",
        "        X_test.append(temp2)\n",
        "        for i in range(temp1.shape[0]):  lbl_train.append((mod,snr))\n",
        "        for i in range(temp2.shape[0]):  lbl_test.append((mod,snr))\n",
        "X_train = np.vstack(X_train)\n",
        "X_test = np.vstack(X_test)\n",
        "print(X_test.shape,X_train.shape) # ye ho gaya total length, 20K*11 ho gaya total data ka length ok?? each modulation has 20000 samples of 128 IQ values, carryon"
      ],
      "execution_count": 2,
      "outputs": [
        {
          "output_type": "stream",
          "text": [
            "(<type 'dict'>, [('QPSK', 2), ('PAM4', 8), ('AM-DSB', -4), ('GFSK', 6), ('QAM64', 8), ('AM-SSB', 12), ('PAM4', 18), ('QAM64', -6), ('QAM16', 2), ('QAM16', -20), ('8PSK', -18), ('PAM4', -6), ('WBFM', -18), ('BPSK', 8), ('CPFSK', 10), ('WBFM', 6), ('BPSK', 4), ('BPSK', -2), ('QPSK', -20), ('CPFSK', -8), ('AM-SSB', 6), ('QAM64', -20), ('QAM16', 12), ('GFSK', -20), ('AM-SSB', -12), ('CPFSK', 0), ('AM-DSB', 6), ('BPSK', -16), ('QPSK', -6), ('8PSK', -12), ('CPFSK', -18), ('AM-DSB', -18), ('QPSK', 8), ('PAM4', 14), ('WBFM', -8), ('AM-DSB', -10), ('GFSK', 12), ('QAM64', 2), ('8PSK', -10), ('AM-SSB', -18), ('QAM64', -4), ('GFSK', -4), ('AM-DSB', 8), ('PAM4', -16), ('QPSK', -16), ('BPSK', 16), ('WBFM', -14), ('CPFSK', 16), ('WBFM', 0), ('QPSK', 6), ('BPSK', 14), ('AM-DSB', -8), ('GFSK', -10), ('CPFSK', -2), ('AM-SSB', 8), ('QAM16', 8), ('QAM16', 6), ('QAM16', -16), ('QAM64', 18), ('AM-SSB', -2), ('CPFSK', 6), ('BPSK', 0), ('BPSK', -6), ('8PSK', -14), ('CPFSK', -12), ('AM-SSB', 2), ('WBFM', 10), ('BPSK', -20), ('PAM4', 4), ('GFSK', 10), ('QAM16', -6), ('QAM64', 4), ('PAM4', -20), ('8PSK', 10), ('AM-SSB', -16), ('QAM64', -10), ('GFSK', -6), ('AM-DSB', 2), ('PAM4', -10), ('QPSK', -2), ('8PSK', -8), ('8PSK', 0), ('QPSK', 12), ('8PSK', 12), ('AM-DSB', -14), ('GFSK', 0), ('QAM64', 14), ('AM-SSB', 18), ('QAM64', -8), ('QAM16', 0), ('GFSK', -16), ('WBFM', 2), ('PAM4', -4), ('QPSK', -12), ('WBFM', -20), ('CPFSK', 12), ('WBFM', 4), ('BPSK', 10), ('BPSK', -4), ('QPSK', -18), ('CPFSK', -6), ('AM-SSB', 4), ('BPSK', -12), ('8PSK', 16), ('QAM16', 10), ('QAM16', -12), ('WBFM', -6), ('8PSK', -20), ('AM-SSB', -6), ('CPFSK', 2), ('QPSK', 16), ('AM-DSB', 4), ('BPSK', -10), ('WBFM', -4), ('CPFSK', -16), ('WBFM', -16), ('QPSK', 10), ('PAM4', 0), ('AM-DSB', -12), ('GFSK', 14), ('QAM16', -2), ('QAM64', 0), ('WBFM', -10), ('AM-SSB', -20), ('QAM64', -14), ('GFSK', -2), ('AM-DSB', 14), ('PAM4', -14), ('QPSK', -14), ('8PSK', -4), ('CPFSK', 18), ('8PSK', 4), ('QPSK', 0), ('BPSK', 12), ('AM-DSB', -2), ('GFSK', 4), ('QAM64', 10), ('AM-SSB', 14), ('8PSK', 2), ('QAM16', -10), ('PAM4', 16), ('QAM16', 4), ('GFSK', 8), ('QAM16', -18), ('QAM64', 16), ('PAM4', -8), ('WBFM', 16), ('WBFM', 14), ('AM-SSB', -4), ('CPFSK', 8), ('BPSK', 6), ('BPSK', -8), ('CPFSK', -10), ('AM-SSB', 0), ('PAM4', 6), ('QAM64', -18), ('QAM16', 14), ('QAM16', -8), ('PAM4', -18), ('AM-DSB', 18), ('AM-SSB', -10), ('QAM64', -12), ('AM-DSB', 0), ('BPSK', -14), ('QPSK', -8), ('8PSK', -6), ('CPFSK', -20), ('GFSK', 16), ('WBFM', 8), ('QPSK', 14), ('PAM4', 12), ('AM-DSB', -16), ('GFSK', 2), ('BPSK', -18), ('QAM64', 12), ('AM-SSB', 16), ('AM-SSB', -14), ('QAM64', -2), ('8PSK', 14), ('GFSK', -14), ('BPSK', 18), ('PAM4', -2), ('QPSK', -10), ('CPFSK', 14), ('8PSK', 8), ('QPSK', 4), ('AM-DSB', 16), ('AM-DSB', -6), ('CPFSK', -4), ('AM-SSB', 10), ('WBFM', -2), ('8PSK', 18), ('GFSK', 18), ('QAM16', -14), ('AM-DSB', 10), ('WBFM', -12), ('AM-SSB', -8), ('CPFSK', 4), ('QPSK', 18), ('BPSK', 2), ('AM-DSB', -20), ('8PSK', -16), ('CPFSK', -14), ('WBFM', 18), ('PAM4', 2), ('QAM16', 18), ('QAM16', -4), ('QAM64', 6), ('GFSK', -18), ('PAM4', 10), ('QAM64', -16), ('QAM16', 16), ('GFSK', -8), ('AM-DSB', 12), ('PAM4', -12), ('QPSK', -4), ('8PSK', -2), ('GFSK', -12), ('8PSK', 6), ('WBFM', 12)])\n",
            "((55000, 2, 128), (165000, 2, 128))\n"
          ],
          "name": "stdout"
        }
      ]
    },
    {
      "cell_type": "code",
      "metadata": {
        "id": "XTWjsbzE7P31",
        "colab_type": "code",
        "colab": {
          "base_uri": "https://localhost:8080/",
          "height": 52
        },
        "outputId": "c1abdd96-6d76-4faf-abdb-0fd25b09ebc5"
      },
      "source": [
        "np.random.seed(2016)\n",
        "n_examples_train = X_train.shape[0] \n",
        "\n",
        "n_examples_test = X_test.shape[0] \n",
        "\n",
        "print(n_examples_train,n_examples_test, 'train-test numbers')\n",
        "train_idx = np.random.choice(range(0,n_examples_train), size=n_examples_train, replace=False)  # ye 1\\2 exapmle randomly select  kar leye training ke leye\n",
        "test_idx = np.random.choice(range(0,n_examples_test), size=n_examples_test, replace=False) # baaki set ka disjoint le leya for testing dataset\n",
        "X_train = X_train[train_idx]\n",
        "X_test =  X_test[test_idx]\n",
        "def to_onehot(yy):\n",
        "    yy1 = np.zeros([len(yy), max(yy)+1])\n",
        "    #print((yy))\n",
        "    yy1[np.arange(len(yy)),yy] = 1\n",
        "    return yy1\n",
        "Y_train = to_onehot(map(lambda x: mods.index(lbl_train[x][0]), train_idx))\n",
        "Y_test = to_onehot(map(lambda x: mods.index(lbl_test[x][0]), test_idx))  \n",
        "print(X_train.shape, Y_train.shape)"
      ],
      "execution_count": 7,
      "outputs": [
        {
          "output_type": "stream",
          "text": [
            "(165000, 55000, 'train-test numbers')\n",
            "((165000, 2, 128), (165000, 11))\n"
          ],
          "name": "stdout"
        }
      ]
    },
    {
      "cell_type": "code",
      "metadata": {
        "id": "2G5jEEknQEH-",
        "colab_type": "code",
        "colab": {
          "base_uri": "https://localhost:8080/",
          "height": 35
        },
        "outputId": "53762116-cd70-434a-b7c6-78c25021b884"
      },
      "source": [
        "import keras\n",
        "from keras.models import Sequential\n",
        "from keras.layers import Dense\n",
        "from keras.layers import Flatten\n",
        "from keras.layers import Dropout\n",
        "from keras.layers.convolutional import Conv1D\n",
        "from keras.layers.convolutional import MaxPooling1D\n",
        "from keras.utils import to_categorical\n",
        "from keras.layers import LSTM\n",
        "\n",
        "model = Sequential()\n",
        "model.add(LSTM(128, input_shape=(X_train.shape[1], X_train.shape[2]), return_sequences=True))\n",
        "model.add(Dropout(0.2))\n",
        "model.add(LSTM(128))\n",
        "model.add(Dropout(0.2))\n",
        "model.add(Dense(11, activation='softmax'))\n",
        "\n",
        "model.compile(loss='categorical_crossentropy', optimizer='adam')\n",
        "\n"
      ],
      "execution_count": 3,
      "outputs": [
        {
          "output_type": "stream",
          "text": [
            "Using TensorFlow backend.\n"
          ],
          "name": "stderr"
        }
      ]
    },
    {
      "cell_type": "code",
      "metadata": {
        "id": "8g5N7F6NXhvH",
        "colab_type": "code",
        "colab": {
          "base_uri": "https://localhost:8080/",
          "height": 329
        },
        "outputId": "97136b76-f297-4670-9582-5101bdc48ddb"
      },
      "source": [
        "model.summary()"
      ],
      "execution_count": 4,
      "outputs": [
        {
          "output_type": "stream",
          "text": [
            "Model: \"sequential_1\"\n",
            "_________________________________________________________________\n",
            "Layer (type)                 Output Shape              Param #   \n",
            "=================================================================\n",
            "lstm_1 (LSTM)                (None, 2, 128)            131584    \n",
            "_________________________________________________________________\n",
            "dropout_1 (Dropout)          (None, 2, 128)            0         \n",
            "_________________________________________________________________\n",
            "lstm_2 (LSTM)                (None, 128)               131584    \n",
            "_________________________________________________________________\n",
            "dropout_2 (Dropout)          (None, 128)               0         \n",
            "_________________________________________________________________\n",
            "dense_1 (Dense)              (None, 11)                1419      \n",
            "=================================================================\n",
            "Total params: 264,587\n",
            "Trainable params: 264,587\n",
            "Non-trainable params: 0\n",
            "_________________________________________________________________\n"
          ],
          "name": "stdout"
        }
      ]
    },
    {
      "cell_type": "code",
      "metadata": {
        "id": "t9QPoPNXRRbn",
        "colab_type": "code",
        "colab": {}
      },
      "source": [
        "nb_epoch = 100     # number of epochs to train on\n",
        "batch_size = 1024  # training batch size"
      ],
      "execution_count": 5,
      "outputs": []
    },
    {
      "cell_type": "code",
      "metadata": {
        "id": "OodZndamSX2m",
        "colab_type": "code",
        "colab": {
          "base_uri": "https://localhost:8080/",
          "height": 1000
        },
        "outputId": "bbe70e5d-7803-49aa-8cc0-7e700e99dcac"
      },
      "source": [
        "\"\"\"model.fit(X_train,  Y_train,  epochs=nb_epoch, batch_size=batch_size, verbose=0)\n",
        "\t# evaluate model\n",
        "_, accuracy = model.evaluate(X_test, Y_test, batch_size=batch_size, verbose=0)\n",
        "print(accuracy)\n",
        "\n",
        "opt = tf.keras.optimizers.Adam(lr=0.001, decay=1e-6)\"\"\"\n",
        "import tensorflow as tf\n",
        "\n",
        "opt = tf.keras.optimizers.Adam(lr=0.01, decay=1e-6)\n",
        "\n",
        "callbacks = [\n",
        "    EarlyStopping(patience=15, verbose=1),\n",
        "    ReduceLROnPlateau(factor=0.1, patience=8, min_lr=0.00001, verbose=1),\n",
        "    ModelCheckpoint('LSTM_model_trial.h5', verbose=1, save_best_only=True, save_weights_only=False)\n",
        "]\n",
        "\n",
        "model.compile(\n",
        "    loss='categorical_crossentropy',\n",
        "    optimizer=opt,\n",
        "    metrics=['accuracy'],\n",
        ")\n",
        "\n",
        "\n",
        "model.fit(X_train,\n",
        "          Y_train,\n",
        "          epochs=100, callbacks=callbacks\n",
        "          validation_data=(X_test, Y_test))\n"
      ],
      "execution_count": 8,
      "outputs": [
        {
          "output_type": "stream",
          "text": [
            "Train on 165000 samples, validate on 55000 samples\n",
            "Epoch 1/100\n",
            "165000/165000 [==============================] - 60s 363us/step - loss: 1.9291 - accuracy: 0.2697 - val_loss: 1.6715 - val_accuracy: 0.3517\n",
            "Epoch 2/100\n",
            "165000/165000 [==============================] - 60s 365us/step - loss: 1.6526 - accuracy: 0.3595 - val_loss: 1.5686 - val_accuracy: 0.3825\n",
            "Epoch 3/100\n",
            "165000/165000 [==============================] - 60s 365us/step - loss: 1.5756 - accuracy: 0.3851 - val_loss: 1.5198 - val_accuracy: 0.4000\n",
            "Epoch 4/100\n",
            "165000/165000 [==============================] - 60s 366us/step - loss: 1.5390 - accuracy: 0.3968 - val_loss: 1.5028 - val_accuracy: 0.4114\n",
            "Epoch 5/100\n",
            "165000/165000 [==============================] - 60s 361us/step - loss: 1.5112 - accuracy: 0.4075 - val_loss: 1.4875 - val_accuracy: 0.4065\n",
            "Epoch 6/100\n",
            "165000/165000 [==============================] - 60s 363us/step - loss: 1.4903 - accuracy: 0.4127 - val_loss: 1.4625 - val_accuracy: 0.4199\n",
            "Epoch 7/100\n",
            "165000/165000 [==============================] - 60s 366us/step - loss: 1.4700 - accuracy: 0.4210 - val_loss: 1.4641 - val_accuracy: 0.4232\n",
            "Epoch 8/100\n",
            "165000/165000 [==============================] - 60s 366us/step - loss: 1.4579 - accuracy: 0.4260 - val_loss: 1.4516 - val_accuracy: 0.4303\n",
            "Epoch 9/100\n",
            "165000/165000 [==============================] - 60s 367us/step - loss: 1.4450 - accuracy: 0.4297 - val_loss: 1.4426 - val_accuracy: 0.4315\n",
            "Epoch 10/100\n",
            "165000/165000 [==============================] - 61s 367us/step - loss: 1.4348 - accuracy: 0.4350 - val_loss: 1.4338 - val_accuracy: 0.4363\n",
            "Epoch 11/100\n",
            "165000/165000 [==============================] - 60s 363us/step - loss: 1.4227 - accuracy: 0.4401 - val_loss: 1.4311 - val_accuracy: 0.4351\n",
            "Epoch 12/100\n",
            "165000/165000 [==============================] - 60s 364us/step - loss: 1.4119 - accuracy: 0.4440 - val_loss: 1.4317 - val_accuracy: 0.4336\n",
            "Epoch 13/100\n",
            "165000/165000 [==============================] - 61s 369us/step - loss: 1.4043 - accuracy: 0.4478 - val_loss: 1.4212 - val_accuracy: 0.4430\n",
            "Epoch 14/100\n",
            "165000/165000 [==============================] - 60s 364us/step - loss: 1.3945 - accuracy: 0.4515 - val_loss: 1.4314 - val_accuracy: 0.4382\n",
            "Epoch 15/100\n",
            "165000/165000 [==============================] - 60s 364us/step - loss: 1.3874 - accuracy: 0.4547 - val_loss: 1.4193 - val_accuracy: 0.4444\n",
            "Epoch 16/100\n",
            "165000/165000 [==============================] - 61s 368us/step - loss: 1.3772 - accuracy: 0.4589 - val_loss: 1.4239 - val_accuracy: 0.4399\n",
            "Epoch 17/100\n",
            "165000/165000 [==============================] - 60s 364us/step - loss: 1.3709 - accuracy: 0.4620 - val_loss: 1.4106 - val_accuracy: 0.4489\n",
            "Epoch 18/100\n",
            "165000/165000 [==============================] - 60s 363us/step - loss: 1.3630 - accuracy: 0.4659 - val_loss: 1.4149 - val_accuracy: 0.4433\n",
            "Epoch 19/100\n",
            "165000/165000 [==============================] - 59s 358us/step - loss: 1.3547 - accuracy: 0.4673 - val_loss: 1.4180 - val_accuracy: 0.4454\n",
            "Epoch 20/100\n",
            "165000/165000 [==============================] - 58s 354us/step - loss: 1.3470 - accuracy: 0.4726 - val_loss: 1.4227 - val_accuracy: 0.4472\n",
            "Epoch 21/100\n",
            "165000/165000 [==============================] - 59s 356us/step - loss: 1.3395 - accuracy: 0.4759 - val_loss: 1.4101 - val_accuracy: 0.4474\n",
            "Epoch 22/100\n",
            "165000/165000 [==============================] - 59s 355us/step - loss: 1.3317 - accuracy: 0.4798 - val_loss: 1.4173 - val_accuracy: 0.4447\n",
            "Epoch 23/100\n",
            "165000/165000 [==============================] - 59s 360us/step - loss: 1.3246 - accuracy: 0.4833 - val_loss: 1.4171 - val_accuracy: 0.4445\n",
            "Epoch 24/100\n",
            "165000/165000 [==============================] - 59s 357us/step - loss: 1.3175 - accuracy: 0.4863 - val_loss: 1.4263 - val_accuracy: 0.4500\n",
            "Epoch 25/100\n",
            "165000/165000 [==============================] - 59s 355us/step - loss: 1.3137 - accuracy: 0.4879 - val_loss: 1.4039 - val_accuracy: 0.4560\n",
            "Epoch 26/100\n",
            "165000/165000 [==============================] - 59s 356us/step - loss: 1.3036 - accuracy: 0.4928 - val_loss: 1.4143 - val_accuracy: 0.4540\n",
            "Epoch 27/100\n",
            "165000/165000 [==============================] - 59s 356us/step - loss: 1.2972 - accuracy: 0.4966 - val_loss: 1.4089 - val_accuracy: 0.4560\n",
            "Epoch 28/100\n",
            "165000/165000 [==============================] - 59s 359us/step - loss: 1.2904 - accuracy: 0.4987 - val_loss: 1.4163 - val_accuracy: 0.4551\n",
            "Epoch 29/100\n",
            "165000/165000 [==============================] - 58s 350us/step - loss: 1.2846 - accuracy: 0.5017 - val_loss: 1.4195 - val_accuracy: 0.4528\n",
            "Epoch 30/100\n",
            "165000/165000 [==============================] - 60s 361us/step - loss: 1.2780 - accuracy: 0.5045 - val_loss: 1.4095 - val_accuracy: 0.4585\n",
            "Epoch 31/100\n",
            "165000/165000 [==============================] - 60s 361us/step - loss: 1.2711 - accuracy: 0.5079 - val_loss: 1.4202 - val_accuracy: 0.4554\n",
            "Epoch 32/100\n",
            "165000/165000 [==============================] - 60s 362us/step - loss: 1.2654 - accuracy: 0.5103 - val_loss: 1.4255 - val_accuracy: 0.4473\n",
            "Epoch 33/100\n",
            "165000/165000 [==============================] - 60s 361us/step - loss: 1.2605 - accuracy: 0.5110 - val_loss: 1.4168 - val_accuracy: 0.4575\n",
            "Epoch 34/100\n",
            "165000/165000 [==============================] - 60s 366us/step - loss: 1.2540 - accuracy: 0.5147 - val_loss: 1.4248 - val_accuracy: 0.4613\n",
            "Epoch 35/100\n",
            "165000/165000 [==============================] - 59s 357us/step - loss: 1.2476 - accuracy: 0.5168 - val_loss: 1.4128 - val_accuracy: 0.4607\n",
            "Epoch 36/100\n",
            "165000/165000 [==============================] - 59s 355us/step - loss: 1.2396 - accuracy: 0.5202 - val_loss: 1.4293 - val_accuracy: 0.4571\n",
            "Epoch 37/100\n",
            "165000/165000 [==============================] - 59s 359us/step - loss: 1.2385 - accuracy: 0.5205 - val_loss: 1.4231 - val_accuracy: 0.4586\n",
            "Epoch 38/100\n",
            "165000/165000 [==============================] - 59s 360us/step - loss: 1.2318 - accuracy: 0.5237 - val_loss: 1.4456 - val_accuracy: 0.4537\n",
            "Epoch 39/100\n",
            "165000/165000 [==============================] - 60s 364us/step - loss: 1.2251 - accuracy: 0.5275 - val_loss: 1.4326 - val_accuracy: 0.4556\n",
            "Epoch 40/100\n",
            "165000/165000 [==============================] - 60s 363us/step - loss: 1.2204 - accuracy: 0.5286 - val_loss: 1.4225 - val_accuracy: 0.4639\n",
            "Epoch 41/100\n",
            "165000/165000 [==============================] - 59s 360us/step - loss: 1.2153 - accuracy: 0.5308 - val_loss: 1.4392 - val_accuracy: 0.4582\n",
            "Epoch 42/100\n",
            "165000/165000 [==============================] - 60s 365us/step - loss: 1.2105 - accuracy: 0.5320 - val_loss: 1.4355 - val_accuracy: 0.4573\n",
            "Epoch 43/100\n",
            "165000/165000 [==============================] - 59s 355us/step - loss: 1.2060 - accuracy: 0.5340 - val_loss: 1.4540 - val_accuracy: 0.4534\n",
            "Epoch 44/100\n",
            "165000/165000 [==============================] - 59s 359us/step - loss: 1.2015 - accuracy: 0.5357 - val_loss: 1.4403 - val_accuracy: 0.4579\n",
            "Epoch 45/100\n",
            "165000/165000 [==============================] - 58s 353us/step - loss: 1.1951 - accuracy: 0.5391 - val_loss: 1.4560 - val_accuracy: 0.4601\n",
            "Epoch 46/100\n",
            "165000/165000 [==============================] - 58s 352us/step - loss: 1.1905 - accuracy: 0.5398 - val_loss: 1.4481 - val_accuracy: 0.4605\n",
            "Epoch 47/100\n",
            "165000/165000 [==============================] - 58s 354us/step - loss: 1.1867 - accuracy: 0.5408 - val_loss: 1.4419 - val_accuracy: 0.4595\n",
            "Epoch 48/100\n",
            "165000/165000 [==============================] - 59s 355us/step - loss: 1.1804 - accuracy: 0.5445 - val_loss: 1.4745 - val_accuracy: 0.4578\n",
            "Epoch 49/100\n",
            "165000/165000 [==============================] - 60s 362us/step - loss: 1.1765 - accuracy: 0.5468 - val_loss: 1.4619 - val_accuracy: 0.4647\n",
            "Epoch 50/100\n",
            "165000/165000 [==============================] - 59s 355us/step - loss: 1.1721 - accuracy: 0.5476 - val_loss: 1.4791 - val_accuracy: 0.4616\n",
            "Epoch 51/100\n",
            "165000/165000 [==============================] - 58s 350us/step - loss: 1.1698 - accuracy: 0.5479 - val_loss: 1.4689 - val_accuracy: 0.4617\n",
            "Epoch 52/100\n",
            "165000/165000 [==============================] - 58s 349us/step - loss: 1.1628 - accuracy: 0.5523 - val_loss: 1.4835 - val_accuracy: 0.4564\n",
            "Epoch 53/100\n",
            "165000/165000 [==============================] - 60s 362us/step - loss: 1.1574 - accuracy: 0.5536 - val_loss: 1.4594 - val_accuracy: 0.4628\n",
            "Epoch 54/100\n",
            "165000/165000 [==============================] - 61s 370us/step - loss: 1.1560 - accuracy: 0.5542 - val_loss: 1.4898 - val_accuracy: 0.4627\n",
            "Epoch 55/100\n",
            "134272/165000 [=======================>......] - ETA: 10s - loss: 1.1500 - accuracy: 0.5573"
          ],
          "name": "stdout"
        },
        {
          "output_type": "error",
          "ename": "KeyboardInterrupt",
          "evalue": "ignored",
          "traceback": [
            "\u001b[0;31m\u001b[0m",
            "\u001b[0;31mKeyboardInterrupt\u001b[0mTraceback (most recent call last)",
            "\u001b[0;32m<ipython-input-8-65d5396e0f48>\u001b[0m in \u001b[0;36m<module>\u001b[0;34m()\u001b[0m\n\u001b[1;32m     17\u001b[0m           \u001b[0mY_train\u001b[0m\u001b[0;34m,\u001b[0m\u001b[0;34m\u001b[0m\u001b[0m\n\u001b[1;32m     18\u001b[0m           \u001b[0mepochs\u001b[0m\u001b[0;34m=\u001b[0m\u001b[0;36m100\u001b[0m\u001b[0;34m,\u001b[0m\u001b[0;34m\u001b[0m\u001b[0m\n\u001b[0;32m---> 19\u001b[0;31m           validation_data=(X_test, Y_test))\n\u001b[0m",
            "\u001b[0;32m/usr/local/lib/python2.7/dist-packages/keras/engine/training.pyc\u001b[0m in \u001b[0;36mfit\u001b[0;34m(self, x, y, batch_size, epochs, verbose, callbacks, validation_split, validation_data, shuffle, class_weight, sample_weight, initial_epoch, steps_per_epoch, validation_steps, validation_freq, max_queue_size, workers, use_multiprocessing, **kwargs)\u001b[0m\n\u001b[1;32m   1237\u001b[0m                                         \u001b[0msteps_per_epoch\u001b[0m\u001b[0;34m=\u001b[0m\u001b[0msteps_per_epoch\u001b[0m\u001b[0;34m,\u001b[0m\u001b[0;34m\u001b[0m\u001b[0m\n\u001b[1;32m   1238\u001b[0m                                         \u001b[0mvalidation_steps\u001b[0m\u001b[0;34m=\u001b[0m\u001b[0mvalidation_steps\u001b[0m\u001b[0;34m,\u001b[0m\u001b[0;34m\u001b[0m\u001b[0m\n\u001b[0;32m-> 1239\u001b[0;31m                                         validation_freq=validation_freq)\n\u001b[0m\u001b[1;32m   1240\u001b[0m \u001b[0;34m\u001b[0m\u001b[0m\n\u001b[1;32m   1241\u001b[0m     def evaluate(self,\n",
            "\u001b[0;32m/usr/local/lib/python2.7/dist-packages/keras/engine/training_arrays.pyc\u001b[0m in \u001b[0;36mfit_loop\u001b[0;34m(model, fit_function, fit_inputs, out_labels, batch_size, epochs, verbose, callbacks, val_function, val_inputs, shuffle, initial_epoch, steps_per_epoch, validation_steps, validation_freq)\u001b[0m\n\u001b[1;32m    194\u001b[0m                     \u001b[0mins_batch\u001b[0m\u001b[0;34m[\u001b[0m\u001b[0mi\u001b[0m\u001b[0;34m]\u001b[0m \u001b[0;34m=\u001b[0m \u001b[0mins_batch\u001b[0m\u001b[0;34m[\u001b[0m\u001b[0mi\u001b[0m\u001b[0;34m]\u001b[0m\u001b[0;34m.\u001b[0m\u001b[0mtoarray\u001b[0m\u001b[0;34m(\u001b[0m\u001b[0;34m)\u001b[0m\u001b[0;34m\u001b[0m\u001b[0m\n\u001b[1;32m    195\u001b[0m \u001b[0;34m\u001b[0m\u001b[0m\n\u001b[0;32m--> 196\u001b[0;31m                 \u001b[0mouts\u001b[0m \u001b[0;34m=\u001b[0m \u001b[0mfit_function\u001b[0m\u001b[0;34m(\u001b[0m\u001b[0mins_batch\u001b[0m\u001b[0;34m)\u001b[0m\u001b[0;34m\u001b[0m\u001b[0m\n\u001b[0m\u001b[1;32m    197\u001b[0m                 \u001b[0mouts\u001b[0m \u001b[0;34m=\u001b[0m \u001b[0mto_list\u001b[0m\u001b[0;34m(\u001b[0m\u001b[0mouts\u001b[0m\u001b[0;34m)\u001b[0m\u001b[0;34m\u001b[0m\u001b[0m\n\u001b[1;32m    198\u001b[0m                 \u001b[0;32mfor\u001b[0m \u001b[0ml\u001b[0m\u001b[0;34m,\u001b[0m \u001b[0mo\u001b[0m \u001b[0;32min\u001b[0m \u001b[0mzip\u001b[0m\u001b[0;34m(\u001b[0m\u001b[0mout_labels\u001b[0m\u001b[0;34m,\u001b[0m \u001b[0mouts\u001b[0m\u001b[0;34m)\u001b[0m\u001b[0;34m:\u001b[0m\u001b[0;34m\u001b[0m\u001b[0m\n",
            "\u001b[0;32m/usr/local/lib/python2.7/dist-packages/tensorflow_core/python/keras/backend.pyc\u001b[0m in \u001b[0;36m__call__\u001b[0;34m(self, inputs)\u001b[0m\n\u001b[1;32m   3725\u001b[0m         \u001b[0mvalue\u001b[0m \u001b[0;34m=\u001b[0m \u001b[0mmath_ops\u001b[0m\u001b[0;34m.\u001b[0m\u001b[0mcast\u001b[0m\u001b[0;34m(\u001b[0m\u001b[0mvalue\u001b[0m\u001b[0;34m,\u001b[0m \u001b[0mtensor\u001b[0m\u001b[0;34m.\u001b[0m\u001b[0mdtype\u001b[0m\u001b[0;34m)\u001b[0m\u001b[0;34m\u001b[0m\u001b[0m\n\u001b[1;32m   3726\u001b[0m       \u001b[0mconverted_inputs\u001b[0m\u001b[0;34m.\u001b[0m\u001b[0mappend\u001b[0m\u001b[0;34m(\u001b[0m\u001b[0mvalue\u001b[0m\u001b[0;34m)\u001b[0m\u001b[0;34m\u001b[0m\u001b[0m\n\u001b[0;32m-> 3727\u001b[0;31m     \u001b[0moutputs\u001b[0m \u001b[0;34m=\u001b[0m \u001b[0mself\u001b[0m\u001b[0;34m.\u001b[0m\u001b[0m_graph_fn\u001b[0m\u001b[0;34m(\u001b[0m\u001b[0;34m*\u001b[0m\u001b[0mconverted_inputs\u001b[0m\u001b[0;34m)\u001b[0m\u001b[0;34m\u001b[0m\u001b[0m\n\u001b[0m\u001b[1;32m   3728\u001b[0m \u001b[0;34m\u001b[0m\u001b[0m\n\u001b[1;32m   3729\u001b[0m     \u001b[0;31m# EagerTensor.numpy() will often make a copy to ensure memory safety.\u001b[0m\u001b[0;34m\u001b[0m\u001b[0;34m\u001b[0m\u001b[0m\n",
            "\u001b[0;32m/usr/local/lib/python2.7/dist-packages/tensorflow_core/python/eager/function.pyc\u001b[0m in \u001b[0;36m__call__\u001b[0;34m(self, *args, **kwargs)\u001b[0m\n\u001b[1;32m   1549\u001b[0m       \u001b[0mTypeError\u001b[0m\u001b[0;34m:\u001b[0m \u001b[0mFor\u001b[0m \u001b[0minvalid\u001b[0m \u001b[0mpositional\u001b[0m\u001b[0;34m/\u001b[0m\u001b[0mkeyword\u001b[0m \u001b[0margument\u001b[0m \u001b[0mcombinations\u001b[0m\u001b[0;34m.\u001b[0m\u001b[0;34m\u001b[0m\u001b[0m\n\u001b[1;32m   1550\u001b[0m     \"\"\"\n\u001b[0;32m-> 1551\u001b[0;31m     \u001b[0;32mreturn\u001b[0m \u001b[0mself\u001b[0m\u001b[0;34m.\u001b[0m\u001b[0m_call_impl\u001b[0m\u001b[0;34m(\u001b[0m\u001b[0margs\u001b[0m\u001b[0;34m,\u001b[0m \u001b[0mkwargs\u001b[0m\u001b[0;34m)\u001b[0m\u001b[0;34m\u001b[0m\u001b[0m\n\u001b[0m\u001b[1;32m   1552\u001b[0m \u001b[0;34m\u001b[0m\u001b[0m\n\u001b[1;32m   1553\u001b[0m   \u001b[0;32mdef\u001b[0m \u001b[0m_call_impl\u001b[0m\u001b[0;34m(\u001b[0m\u001b[0mself\u001b[0m\u001b[0;34m,\u001b[0m \u001b[0margs\u001b[0m\u001b[0;34m,\u001b[0m \u001b[0mkwargs\u001b[0m\u001b[0;34m,\u001b[0m \u001b[0mcancellation_manager\u001b[0m\u001b[0;34m=\u001b[0m\u001b[0mNone\u001b[0m\u001b[0;34m)\u001b[0m\u001b[0;34m:\u001b[0m\u001b[0;34m\u001b[0m\u001b[0m\n",
            "\u001b[0;32m/usr/local/lib/python2.7/dist-packages/tensorflow_core/python/eager/function.pyc\u001b[0m in \u001b[0;36m_call_impl\u001b[0;34m(self, args, kwargs, cancellation_manager)\u001b[0m\n\u001b[1;32m   1589\u001b[0m       raise TypeError(\"Keyword arguments {} unknown. Expected {}.\".format(\n\u001b[1;32m   1590\u001b[0m           list(kwargs.keys()), list(self._arg_keywords)))\n\u001b[0;32m-> 1591\u001b[0;31m     \u001b[0;32mreturn\u001b[0m \u001b[0mself\u001b[0m\u001b[0;34m.\u001b[0m\u001b[0m_call_flat\u001b[0m\u001b[0;34m(\u001b[0m\u001b[0margs\u001b[0m\u001b[0;34m,\u001b[0m \u001b[0mself\u001b[0m\u001b[0;34m.\u001b[0m\u001b[0mcaptured_inputs\u001b[0m\u001b[0;34m,\u001b[0m \u001b[0mcancellation_manager\u001b[0m\u001b[0;34m)\u001b[0m\u001b[0;34m\u001b[0m\u001b[0m\n\u001b[0m\u001b[1;32m   1592\u001b[0m \u001b[0;34m\u001b[0m\u001b[0m\n\u001b[1;32m   1593\u001b[0m   \u001b[0;32mdef\u001b[0m \u001b[0m_filtered_call\u001b[0m\u001b[0;34m(\u001b[0m\u001b[0mself\u001b[0m\u001b[0;34m,\u001b[0m \u001b[0margs\u001b[0m\u001b[0;34m,\u001b[0m \u001b[0mkwargs\u001b[0m\u001b[0;34m)\u001b[0m\u001b[0;34m:\u001b[0m\u001b[0;34m\u001b[0m\u001b[0m\n",
            "\u001b[0;32m/usr/local/lib/python2.7/dist-packages/tensorflow_core/python/eager/function.pyc\u001b[0m in \u001b[0;36m_call_flat\u001b[0;34m(self, args, captured_inputs, cancellation_manager)\u001b[0m\n\u001b[1;32m   1690\u001b[0m       \u001b[0;31m# No tape is watching; skip to running the function.\u001b[0m\u001b[0;34m\u001b[0m\u001b[0;34m\u001b[0m\u001b[0m\n\u001b[1;32m   1691\u001b[0m       return self._build_call_outputs(self._inference_function.call(\n\u001b[0;32m-> 1692\u001b[0;31m           ctx, args, cancellation_manager=cancellation_manager))\n\u001b[0m\u001b[1;32m   1693\u001b[0m     forward_backward = self._select_forward_and_backward_functions(\n\u001b[1;32m   1694\u001b[0m         \u001b[0margs\u001b[0m\u001b[0;34m,\u001b[0m\u001b[0;34m\u001b[0m\u001b[0m\n",
            "\u001b[0;32m/usr/local/lib/python2.7/dist-packages/tensorflow_core/python/eager/function.pyc\u001b[0m in \u001b[0;36mcall\u001b[0;34m(self, ctx, args, cancellation_manager)\u001b[0m\n\u001b[1;32m    543\u001b[0m               \u001b[0minputs\u001b[0m\u001b[0;34m=\u001b[0m\u001b[0margs\u001b[0m\u001b[0;34m,\u001b[0m\u001b[0;34m\u001b[0m\u001b[0m\n\u001b[1;32m    544\u001b[0m               \u001b[0mattrs\u001b[0m\u001b[0;34m=\u001b[0m\u001b[0;34m(\u001b[0m\u001b[0;34m\"executor_type\"\u001b[0m\u001b[0;34m,\u001b[0m \u001b[0mexecutor_type\u001b[0m\u001b[0;34m,\u001b[0m \u001b[0;34m\"config_proto\"\u001b[0m\u001b[0;34m,\u001b[0m \u001b[0mconfig\u001b[0m\u001b[0;34m)\u001b[0m\u001b[0;34m,\u001b[0m\u001b[0;34m\u001b[0m\u001b[0m\n\u001b[0;32m--> 545\u001b[0;31m               ctx=ctx)\n\u001b[0m\u001b[1;32m    546\u001b[0m         \u001b[0;32melse\u001b[0m\u001b[0;34m:\u001b[0m\u001b[0;34m\u001b[0m\u001b[0m\n\u001b[1;32m    547\u001b[0m           outputs = execute.execute_with_cancellation(\n",
            "\u001b[0;32m/usr/local/lib/python2.7/dist-packages/tensorflow_core/python/eager/execute.pyc\u001b[0m in \u001b[0;36mquick_execute\u001b[0;34m(op_name, num_outputs, inputs, attrs, ctx, name)\u001b[0m\n\u001b[1;32m     59\u001b[0m     tensors = pywrap_tensorflow.TFE_Py_Execute(ctx._handle, device_name,\n\u001b[1;32m     60\u001b[0m                                                \u001b[0mop_name\u001b[0m\u001b[0;34m,\u001b[0m \u001b[0minputs\u001b[0m\u001b[0;34m,\u001b[0m \u001b[0mattrs\u001b[0m\u001b[0;34m,\u001b[0m\u001b[0;34m\u001b[0m\u001b[0m\n\u001b[0;32m---> 61\u001b[0;31m                                                num_outputs)\n\u001b[0m\u001b[1;32m     62\u001b[0m   \u001b[0;32mexcept\u001b[0m \u001b[0mcore\u001b[0m\u001b[0;34m.\u001b[0m\u001b[0m_NotOkStatusException\u001b[0m \u001b[0;32mas\u001b[0m \u001b[0me\u001b[0m\u001b[0;34m:\u001b[0m\u001b[0;34m\u001b[0m\u001b[0m\n\u001b[1;32m     63\u001b[0m     \u001b[0;32mif\u001b[0m \u001b[0mname\u001b[0m \u001b[0;32mis\u001b[0m \u001b[0;32mnot\u001b[0m \u001b[0mNone\u001b[0m\u001b[0;34m:\u001b[0m\u001b[0;34m\u001b[0m\u001b[0m\n",
            "\u001b[0;31mKeyboardInterrupt\u001b[0m: "
          ]
        }
      ]
    },
    {
      "cell_type": "code",
      "metadata": {
        "id": "2Em9dwxITaZ4",
        "colab_type": "code",
        "colab": {
          "base_uri": "https://localhost:8080/",
          "height": 34
        },
        "outputId": "e3f0e4a1-775d-4b63-f08f-71bb7a925788"
      },
      "source": [
        "model.evaluate(X_test, Y_test, verbose=1)"
      ],
      "execution_count": null,
      "outputs": [
        {
          "output_type": "stream",
          "text": [
            "0.411336362362\n"
          ],
          "name": "stdout"
        }
      ]
    },
    {
      "cell_type": "code",
      "metadata": {
        "id": "zY8EkPKQGmO1",
        "colab_type": "code",
        "colab": {
          "base_uri": "https://localhost:8080/",
          "height": 364
        },
        "outputId": "a25c633f-4227-47c7-dd0f-4ec19ddf6b77"
      },
      "source": [
        "\n",
        "\n",
        "final_out = []\n",
        "for snr in snrs:    \n",
        "    X_test1 = []  \n",
        "    Y_test1 = []\n",
        "    lbl_test1 = []\n",
        "\n",
        "    for mod in (mods):\n",
        "        temp = Xd[(mod,snr)]\n",
        "        temp2 = temp[750:]\n",
        "        X_test1.append(temp2)\n",
        "        for i in range(temp2.shape[0]):  lbl_test1.append((mod,snr))\n",
        "    X_test1 = np.vstack(X_test1)\n",
        "    n_examples_test = X_test1.shape[0] \n",
        "    test_idx = np.random.choice(range(0,n_examples_test), size=n_examples_test, replace=False) # baaki set ka disjoint le leya for testing dataset4444\n",
        "    X_test1 =  X_test1[test_idx]\n",
        "    Y_test1 = to_onehot(map(lambda x: mods.index(lbl_test1[x][0]), test_idx))\n",
        "    final_out.append(model.evaluate(X_test1, Y_test1, verbose=1)[1])\n",
        "    \n",
        "\n"
      ],
      "execution_count": 17,
      "outputs": [
        {
          "output_type": "stream",
          "text": [
            "2750/2750 [==============================] - 0s 125us/step\n",
            "2750/2750 [==============================] - 0s 123us/step\n",
            "2750/2750 [==============================] - 0s 123us/step\n",
            "2750/2750 [==============================] - 0s 124us/step\n",
            "2750/2750 [==============================] - 0s 121us/step\n",
            "2750/2750 [==============================] - 0s 116us/step\n",
            "2750/2750 [==============================] - 0s 132us/step\n",
            "2750/2750 [==============================] - 0s 115us/step\n",
            "2750/2750 [==============================] - 0s 117us/step\n",
            "2750/2750 [==============================] - 0s 126us/step\n",
            "2750/2750 [==============================] - 0s 123us/step\n",
            "2750/2750 [==============================] - 0s 124us/step\n",
            "2750/2750 [==============================] - 0s 130us/step\n",
            "2750/2750 [==============================] - 0s 119us/step\n",
            "2750/2750 [==============================] - 0s 121us/step\n",
            "2750/2750 [==============================] - 0s 126us/step\n",
            "2750/2750 [==============================] - 0s 112us/step\n",
            "2750/2750 [==============================] - 0s 120us/step\n",
            "2750/2750 [==============================] - 0s 129us/step\n",
            "2750/2750 [==============================] - 0s 113us/step\n"
          ],
          "name": "stdout"
        }
      ]
    },
    {
      "cell_type": "code",
      "metadata": {
        "id": "leBQISjWMJAW",
        "colab_type": "code",
        "colab": {
          "base_uri": "https://localhost:8080/",
          "height": 324
        },
        "outputId": "1ba47320-a01e-4f8c-eada-1ed248873847"
      },
      "source": [
        "np.sum(final_out)/20\n",
        "print(final_out)\n",
        "import matplotlib.pyplot as plt\n",
        "plt.plot(final_out)\n",
        "plt.show"
      ],
      "execution_count": 24,
      "outputs": [
        {
          "output_type": "stream",
          "text": [
            "[0.0923636332154274, 0.09309090673923492, 0.09854545444250107, 0.11309091001749039, 0.12909090518951416, 0.19418181478977203, 0.2709091007709503, 0.3723636269569397, 0.4763636291027069, 0.590181827545166, 0.6450909376144409, 0.6694545745849609, 0.6905454397201538, 0.6789090633392334, 0.6800000071525574, 0.6869090795516968, 0.6789090633392334, 0.6807272434234619, 0.6701818108558655, 0.6861818432807922]\n"
          ],
          "name": "stdout"
        },
        {
          "output_type": "execute_result",
          "data": {
            "text/plain": [
              "<function matplotlib.pyplot.show>"
            ]
          },
          "metadata": {
            "tags": []
          },
          "execution_count": 24
        },
        {
          "output_type": "display_data",
          "data": {
            "image/png": "[encoded data removed]",
            "text/plain": [
              "<Figure size 432x288 with 1 Axes>"
            ]
          },
          "metadata": {
            "tags": [],
            "needs_background": "light"
          }
        }
      ]
    },
    {
      "cell_type": "code",
      "metadata": {
        "id": "vtRpvOocRcah",
        "colab_type": "code",
        "colab": {
          "base_uri": "https://localhost:8080/",
          "height": 426
        },
        "outputId": "8a2c2c77-739d-48a0-8631-d48daf496a0c"
      },
      "source": [
        "filepath = 'convmodrecnets_CNN2_0.5.wts.h5'\n",
        "history = model.fit(X_train,\n",
        "    Y_train,\n",
        "    batch_size=batch_size,\n",
        "    nb_epoch=nb_epoch,\n",
        "    show_accuracy=False,\n",
        "    verbose=2,\n",
        "    validation_data=(X_test, Y_test),\n",
        "    callbacks = [\n",
        "        keras.callbacks.ModelCheckpoint(filepath, monitor='val_loss', verbose=0, save_best_only=True, mode='auto'),\n",
        "        keras.callbacks.EarlyStopping(monitor='val_loss', patience=5, verbose=0, mode='auto')\n",
        "    ])\n",
        "# we re-load the best weights once training is finished\n",
        "model.load_weights(filepath)"
      ],
      "execution_count": 43,
      "outputs": [
        {
          "output_type": "stream",
          "text": [
            "/usr/local/lib/python2.7/dist-packages/ipykernel_launcher.py:11: UserWarning: The `nb_epoch` argument in `fit` has been renamed `epochs`.\n",
            "  # This is added back by InteractiveShellApp.init_path()\n"
          ],
          "name": "stderr"
        },
        {
          "output_type": "error",
          "ename": "TypeError",
          "evalue": "ignored",
          "traceback": [
            "\u001b[0;31m\u001b[0m",
            "\u001b[0;31mTypeError\u001b[0mTraceback (most recent call last)",
            "\u001b[0;32m<ipython-input-43-66a8c5b44dd7>\u001b[0m in \u001b[0;36m<module>\u001b[0;34m()\u001b[0m\n\u001b[1;32m      9\u001b[0m     callbacks = [\n\u001b[1;32m     10\u001b[0m         \u001b[0mkeras\u001b[0m\u001b[0;34m.\u001b[0m\u001b[0mcallbacks\u001b[0m\u001b[0;34m.\u001b[0m\u001b[0mModelCheckpoint\u001b[0m\u001b[0;34m(\u001b[0m\u001b[0mfilepath\u001b[0m\u001b[0;34m,\u001b[0m \u001b[0mmonitor\u001b[0m\u001b[0;34m=\u001b[0m\u001b[0;34m'val_loss'\u001b[0m\u001b[0;34m,\u001b[0m \u001b[0mverbose\u001b[0m\u001b[0;34m=\u001b[0m\u001b[0;36m0\u001b[0m\u001b[0;34m,\u001b[0m \u001b[0msave_best_only\u001b[0m\u001b[0;34m=\u001b[0m\u001b[0mTrue\u001b[0m\u001b[0;34m,\u001b[0m \u001b[0mmode\u001b[0m\u001b[0;34m=\u001b[0m\u001b[0;34m'auto'\u001b[0m\u001b[0;34m)\u001b[0m\u001b[0;34m,\u001b[0m\u001b[0;34m\u001b[0m\u001b[0m\n\u001b[0;32m---> 11\u001b[0;31m         \u001b[0mkeras\u001b[0m\u001b[0;34m.\u001b[0m\u001b[0mcallbacks\u001b[0m\u001b[0;34m.\u001b[0m\u001b[0mEarlyStopping\u001b[0m\u001b[0;34m(\u001b[0m\u001b[0mmonitor\u001b[0m\u001b[0;34m=\u001b[0m\u001b[0;34m'val_loss'\u001b[0m\u001b[0;34m,\u001b[0m \u001b[0mpatience\u001b[0m\u001b[0;34m=\u001b[0m\u001b[0;36m5\u001b[0m\u001b[0;34m,\u001b[0m \u001b[0mverbose\u001b[0m\u001b[0;34m=\u001b[0m\u001b[0;36m0\u001b[0m\u001b[0;34m,\u001b[0m \u001b[0mmode\u001b[0m\u001b[0;34m=\u001b[0m\u001b[0;34m'auto'\u001b[0m\u001b[0;34m)\u001b[0m\u001b[0;34m\u001b[0m\u001b[0m\n\u001b[0m\u001b[1;32m     12\u001b[0m     ])\n\u001b[1;32m     13\u001b[0m \u001b[0;31m# we re-load the best weights once training is finished\u001b[0m\u001b[0;34m\u001b[0m\u001b[0;34m\u001b[0m\u001b[0m\n",
            "\u001b[0;32m/usr/local/lib/python2.7/dist-packages/keras/engine/training.pyc\u001b[0m in \u001b[0;36mfit\u001b[0;34m(self, x, y, batch_size, epochs, verbose, callbacks, validation_split, validation_data, shuffle, class_weight, sample_weight, initial_epoch, steps_per_epoch, validation_steps, validation_freq, max_queue_size, workers, use_multiprocessing, **kwargs)\u001b[0m\n\u001b[1;32m   1116\u001b[0m             \u001b[0mepochs\u001b[0m \u001b[0;34m=\u001b[0m \u001b[0mkwargs\u001b[0m\u001b[0;34m.\u001b[0m\u001b[0mpop\u001b[0m\u001b[0;34m(\u001b[0m\u001b[0;34m'nb_epoch'\u001b[0m\u001b[0;34m)\u001b[0m\u001b[0;34m\u001b[0m\u001b[0m\n\u001b[1;32m   1117\u001b[0m         \u001b[0;32mif\u001b[0m \u001b[0mkwargs\u001b[0m\u001b[0;34m:\u001b[0m\u001b[0;34m\u001b[0m\u001b[0m\n\u001b[0;32m-> 1118\u001b[0;31m             \u001b[0;32mraise\u001b[0m \u001b[0mTypeError\u001b[0m\u001b[0;34m(\u001b[0m\u001b[0;34m'Unrecognized keyword arguments: '\u001b[0m \u001b[0;34m+\u001b[0m \u001b[0mstr\u001b[0m\u001b[0;34m(\u001b[0m\u001b[0mkwargs\u001b[0m\u001b[0;34m)\u001b[0m\u001b[0;34m)\u001b[0m\u001b[0;34m\u001b[0m\u001b[0m\n\u001b[0m\u001b[1;32m   1119\u001b[0m \u001b[0;34m\u001b[0m\u001b[0m\n\u001b[1;32m   1120\u001b[0m         \u001b[0;32mif\u001b[0m \u001b[0mx\u001b[0m \u001b[0;32mis\u001b[0m \u001b[0mNone\u001b[0m \u001b[0;32mand\u001b[0m \u001b[0my\u001b[0m \u001b[0;32mis\u001b[0m \u001b[0mNone\u001b[0m \u001b[0;32mand\u001b[0m \u001b[0msteps_per_epoch\u001b[0m \u001b[0;32mis\u001b[0m \u001b[0mNone\u001b[0m\u001b[0;34m:\u001b[0m\u001b[0;34m\u001b[0m\u001b[0m\n",
            "\u001b[0;31mTypeError\u001b[0m: Unrecognized keyword arguments: {'show_accuracy': False}"
          ]
        }
      ]
    },
    {
      "cell_type": "code",
      "metadata": {
        "id": "0jIkGGLIQzxl",
        "colab_type": "code",
        "colab": {
          "base_uri": "https://localhost:8080/",
          "height": 34
        },
        "outputId": "982218f5-ccda-4473-bffc-7f7fd757c856"
      },
      "source": [
        "print(model)"
      ],
      "execution_count": null,
      "outputs": [
        {
          "output_type": "stream",
          "text": [
            "<keras.engine.sequential.Sequential object at 0x7ff43d890c90>\n"
          ],
          "name": "stdout"
        }
      ]
    },
    {
      "cell_type": "code",
      "metadata": {
        "id": "ypHB7L8ns6sZ",
        "colab_type": "code",
        "colab": {
          "base_uri": "https://localhost:8080/",
          "height": 1000
        },
        "outputId": "baaf5244-c2eb-4374-c779-313b2b03eaa8"
      },
      "source": [
        "for k in range(10):\n",
        "  d1=data['8PSK',18][k][0]\n",
        "  d2=data['8PSK',18][k][1]\n",
        "  #for k , v in data.items():\n",
        "    #print( v[1])\n",
        "  #  print(v[1].shape)\n",
        "\n",
        "  def split(arr, size):\n",
        "      arrs = []\n",
        "      while len(arr) > size:\n",
        "          pice = arr[:size]\n",
        "          arrs.append(pice)\n",
        "          arr   = arr[size:]\n",
        "      arrs.append(arr)\n",
        "      return arrs\n",
        "  I_sq=np.square(d1)\n",
        "  Q_sq=np.square(d2)\n",
        "  T=I_sq+Q_sq\n",
        "  sp=split(T, 8)\n",
        "  total=0\n",
        "  for x in range(16):\n",
        "    total+=sp[x]\n",
        "  a=[0,1,2,3,4,5,6,7]   \n",
        "  m=np.amax(total)\n",
        "  result = np.where(total == np.amax(total))\n",
        "  #plt.figure(1)\n",
        "  #p1=plt.plot(a,total, 'ro')\n",
        "  #plt.figure(1)\n",
        "  offset=result[0][0]\n",
        "  print('Offset=',offset)\n",
        "\n",
        "\n",
        "\n",
        "  I_m=np.mean(d1)\n",
        "  Q_m=np.mean(d2)\n",
        "  I_std=np.std(d1)\n",
        "  Q_std=np.std(d2)\n",
        "  I=(d1-I_m)/I_std\n",
        "  Q=(d2-Q_m)/Q_std\n",
        "\n",
        "  from matplotlib import pyplot as plt\n",
        "  import numpy as np\n",
        "  #k=5\n",
        "  #I_sq=np.square(d1[k][0])\n",
        "  #Q_sq=np.square(d1[k][1])\n",
        "  #for k in range(8):\n",
        "  #  offset=k\n",
        "  plt.figure(k)\n",
        "  plt.plot(I[offset::8],Q[offset::8],'ro')\n",
        "  plt.show\n",
        "'''T=I_sq+Q_sq\n",
        "sp=split(T, 8)\n",
        "total=0\n",
        "for x in range(16):\n",
        "  total+=sp[x]\n",
        "a=[0,1,2,3,4,5,6,7]   \n",
        "m=np.amax(total)\n",
        "result = np.where(total == np.amax(total))\n",
        "plt.figure(1)\n",
        "p1=plt.plot(a,total, 'ro')\n",
        "plt.figure(2)\n",
        "offset=result[0][0]'''"
      ],
      "execution_count": null,
      "outputs": [
        {
          "output_type": "stream",
          "text": [
            "('Offset=', 6)\n",
            "('Offset=', 2)\n",
            "('Offset=', 7)\n",
            "('Offset=', 6)\n",
            "('Offset=', 4)\n",
            "('Offset=', 5)\n",
            "('Offset=', 1)\n",
            "('Offset=', 7)\n",
            "('Offset=', 0)\n",
            "('Offset=', 6)\n"
          ],
          "name": "stdout"
        },
        {
          "output_type": "execute_result",
          "data": {
            "text/plain": [
              "\"T=I_sq+Q_sq\\nsp=split(T, 8)\\ntotal=0\\nfor x in range(16):\\n  total+=sp[x]\\na=[0,1,2,3,4,5,6,7]   \\nm=np.amax(total)\\nresult = np.where(total == np.amax(total))\\nplt.figure(1)\\np1=plt.plot(a,total, 'ro')\\nplt.figure(2)\\noffset=result[0][0]\""
            ]
          },
          "metadata": {
            "tags": []
          },
          "execution_count": 5
        },
        {
          "output_type": "display_data",
          "data": {
            "image/png": "[encoded data removed]",
            "text/plain": [
              "<Figure size 432x288 with 1 Axes>"
            ]
          },
          "metadata": {
            "tags": []
          }
        },
        {
          "output_type": "display_data",
          "data": {
            "image/png": "[encoded data removed]",
            "text/plain": [
              "<Figure size 432x288 with 1 Axes>"
            ]
          },
          "metadata": {
            "tags": []
          }
        },
        {
          "output_type": "display_data",
          "data": {
            "image/png": "[encoded data removed]",
            "text/plain": [
              "<Figure size 432x288 with 1 Axes>"
            ]
          },
          "metadata": {
            "tags": []
          }
        },
        {
          "output_type": "display_data",
          "data": {
            "image/png": "[encoded data removed]",
            "text/plain": [
              "<Figure size 432x288 with 1 Axes>"
            ]
          },
          "metadata": {
            "tags": []
          }
        },
        {
          "output_type": "display_data",
          "data": {
            "image/png": "[encoded data removed]",
            "text/plain": [
              "<Figure size 432x288 with 1 Axes>"
            ]
          },
          "metadata": {
            "tags": []
          }
        },
        {
          "output_type": "display_data",
          "data": {
            "image/png": "[encoded data removed]",
            "text/plain": [
              "<Figure size 432x288 with 1 Axes>"
            ]
          },
          "metadata": {
            "tags": []
          }
        },
        {
          "output_type": "display_data",
          "data": {
            "image/png": "[encoded data removed]",
            "text/plain": [
              "<Figure size 432x288 with 1 Axes>"
            ]
          },
          "metadata": {
            "tags": []
          }
        },
        {
          "output_type": "display_data",
          "data": {
            "image/png": "[encoded data removed]",
            "text/plain": [
              "<Figure size 432x288 with 1 Axes>"
            ]
          },
          "metadata": {
            "tags": []
          }
        },
        {
          "output_type": "display_data",
          "data": {
            "image/png": "[encoded data removed]",
            "text/plain": [
              "<Figure size 432x288 with 1 Axes>"
            ]
          },
          "metadata": {
            "tags": []
          }
        },
        {
          "output_type": "display_data",
          "data": {
            "image/png": "[encoded data removed]",
            "text/plain": [
              "<Figure size 432x288 with 1 Axes>"
            ]
          },
          "metadata": {
            "tags": []
          }
        }
      ]
    },
    {
      "cell_type": "code",
      "metadata": {
        "id": "xAiQQGkhtq4G",
        "colab_type": "code",
        "colab": {
          "base_uri": "https://localhost:8080/",
          "height": 55
        },
        "outputId": "69926405-906b-4dc8-9695-d9a58a2aa2f7"
      },
      "source": [
        "for key in sorted(data.keys()):\n",
        "    print key, "
      ],
      "execution_count": null,
      "outputs": [
        {
          "output_type": "stream",
          "text": [
            "('8PSK', -20) ('8PSK', -18) ('8PSK', -16) ('8PSK', -14) ('8PSK', -12) ('8PSK', -10) ('8PSK', -8) ('8PSK', -6) ('8PSK', -4) ('8PSK', -2) ('8PSK', 0) ('8PSK', 2) ('8PSK', 4) ('8PSK', 6) ('8PSK', 8) ('8PSK', 10) ('8PSK', 12) ('8PSK', 14) ('8PSK', 16) ('8PSK', 18) ('AM-DSB', -20) ('AM-DSB', -18) ('AM-DSB', -16) ('AM-DSB', -14) ('AM-DSB', -12) ('AM-DSB', -10) ('AM-DSB', -8) ('AM-DSB', -6) ('AM-DSB', -4) ('AM-DSB', -2) ('AM-DSB', 0) ('AM-DSB', 2) ('AM-DSB', 4) ('AM-DSB', 6) ('AM-DSB', 8) ('AM-DSB', 10) ('AM-DSB', 12) ('AM-DSB', 14) ('AM-DSB', 16) ('AM-DSB', 18) ('AM-SSB', -20) ('AM-SSB', -18) ('AM-SSB', -16) ('AM-SSB', -14) ('AM-SSB', -12) ('AM-SSB', -10) ('AM-SSB', -8) ('AM-SSB', -6) ('AM-SSB', -4) ('AM-SSB', -2) ('AM-SSB', 0) ('AM-SSB', 2) ('AM-SSB', 4) ('AM-SSB', 6) ('AM-SSB', 8) ('AM-SSB', 10) ('AM-SSB', 12) ('AM-SSB', 14) ('AM-SSB', 16) ('AM-SSB', 18) ('BPSK', -20) ('BPSK', -18) ('BPSK', -16) ('BPSK', -14) ('BPSK', -12) ('BPSK', -10) ('BPSK', -8) ('BPSK', -6) ('BPSK', -4) ('BPSK', -2) ('BPSK', 0) ('BPSK', 2) ('BPSK', 4) ('BPSK', 6) ('BPSK', 8) ('BPSK', 10) ('BPSK', 12) ('BPSK', 14) ('BPSK', 16) ('BPSK', 18) ('CPFSK', -20) ('CPFSK', -18) ('CPFSK', -16) ('CPFSK', -14) ('CPFSK', -12) ('CPFSK', -10) ('CPFSK', -8) ('CPFSK', -6) ('CPFSK', -4) ('CPFSK', -2) ('CPFSK', 0) ('CPFSK', 2) ('CPFSK', 4) ('CPFSK', 6) ('CPFSK', 8) ('CPFSK', 10) ('CPFSK', 12) ('CPFSK', 14) ('CPFSK', 16) ('CPFSK', 18) ('GFSK', -20) ('GFSK', -18) ('GFSK', -16) ('GFSK', -14) ('GFSK', -12) ('GFSK', -10) ('GFSK', -8) ('GFSK', -6) ('GFSK', -4) ('GFSK', -2) ('GFSK', 0) ('GFSK', 2) ('GFSK', 4) ('GFSK', 6) ('GFSK', 8) ('GFSK', 10) ('GFSK', 12) ('GFSK', 14) ('GFSK', 16) ('GFSK', 18) ('PAM4', -20) ('PAM4', -18) ('PAM4', -16) ('PAM4', -14) ('PAM4', -12) ('PAM4', -10) ('PAM4', -8) ('PAM4', -6) ('PAM4', -4) ('PAM4', -2) ('PAM4', 0) ('PAM4', 2) ('PAM4', 4) ('PAM4', 6) ('PAM4', 8) ('PAM4', 10) ('PAM4', 12) ('PAM4', 14) ('PAM4', 16) ('PAM4', 18) ('QAM16', -20) ('QAM16', -18) ('QAM16', -16) ('QAM16', -14) ('QAM16', -12) ('QAM16', -10) ('QAM16', -8) ('QAM16', -6) ('QAM16', -4) ('QAM16', -2) ('QAM16', 0) ('QAM16', 2) ('QAM16', 4) ('QAM16', 6) ('QAM16', 8) ('QAM16', 10) ('QAM16', 12) ('QAM16', 14) ('QAM16', 16) ('QAM16', 18) ('QAM64', -20) ('QAM64', -18) ('QAM64', -16) ('QAM64', -14) ('QAM64', -12) ('QAM64', -10) ('QAM64', -8) ('QAM64', -6) ('QAM64', -4) ('QAM64', -2) ('QAM64', 0) ('QAM64', 2) ('QAM64', 4) ('QAM64', 6) ('QAM64', 8) ('QAM64', 10) ('QAM64', 12) ('QAM64', 14) ('QAM64', 16) ('QAM64', 18) ('QPSK', -20) ('QPSK', -18) ('QPSK', -16) ('QPSK', -14) ('QPSK', -12) ('QPSK', -10) ('QPSK', -8) ('QPSK', -6) ('QPSK', -4) ('QPSK', -2) ('QPSK', 0) ('QPSK', 2) ('QPSK', 4) ('QPSK', 6) ('QPSK', 8) ('QPSK', 10) ('QPSK', 12) ('QPSK', 14) ('QPSK', 16) ('QPSK', 18) ('WBFM', -20) ('WBFM', -18) ('WBFM', -16) ('WBFM', -14) ('WBFM', -12) ('WBFM', -10) ('WBFM', -8) ('WBFM', -6) ('WBFM', -4) ('WBFM', -2) ('WBFM', 0) ('WBFM', 2) ('WBFM', 4) ('WBFM', 6) ('WBFM', 8) ('WBFM', 10) ('WBFM', 12) ('WBFM', 14) ('WBFM', 16) ('WBFM', 18)\n"
          ],
          "name": "stdout"
        }
      ]
    },
    {
      "cell_type": "code",
      "metadata": {
        "id": "ZJr50k6HuYcK",
        "colab_type": "code",
        "colab": {
          "base_uri": "https://localhost:8080/",
          "height": 35
        },
        "outputId": "a1401767-e65e-4179-d127-1669d397c2f9"
      },
      "source": [
        "import numpy as np\n",
        "bpsk_6 = data['BPSK', 6] \n",
        "print(np.shape(bpsk_6))"
      ],
      "execution_count": null,
      "outputs": [
        {
          "output_type": "stream",
          "text": [
            "(1000, 2, 128)\n"
          ],
          "name": "stdout"
        }
      ]
    },
    {
      "cell_type": "code",
      "metadata": {
        "id": "1cc2LrwSAqP4",
        "colab_type": "code",
        "colab": {
          "base_uri": "https://localhost:8080/",
          "height": 680
        },
        "outputId": "5781115f-5c60-4078-8884-f7993b3b3039"
      },
      "source": [
        "###########################\n",
        "import pickle\n",
        "import sys\n",
        "import pandas as pd \n",
        "import numpy as np\n",
        "\n",
        "\n",
        "with open('/content/drive/My Drive/2DFFT/unzip_tar/RML2016.10a_dict.pkl') as f:\n",
        "    data = pickle.load(f)\n",
        "#print(data)\n",
        "\n",
        "print(type(data))\n",
        "print((data.keys())) \n",
        "d1=np.asarray(data['QPSK', 18])\n",
        "print(np.shape(d1)[0])\n",
        "print(type(d1))\n",
        "'''import csv\n",
        "with open('test.csv', 'w') as f:\n",
        "    for key in data.keys():\n",
        "        f.write(\"%s,%s\\n\"%(key,data[key]))\n",
        "'''\t\t\n",
        "lengths = [len(v) for v in data.values()]\n",
        "#df=pd.DataFrame(data)\n",
        "#df.to_csv('file1.csv') \n",
        "print(lengths)\n",
        "print(data.values)\n",
        "\n",
        "###############################\n",
        "from matplotlib import pyplot as plt\n",
        "import numpy as np\n",
        "'''def split(arr, size):\n",
        "     arrs = []\n",
        "     while len(arr) > size:\n",
        "         pice = arr[:size]\n",
        "         arrs.append(pice)\n",
        "         arr   = arr[size:]\n",
        "     arrs.append(arr)\n",
        "     return arrs'''\n",
        "k=5\n",
        "'''I_sq=np.square(d1[k][0])\n",
        "Q_sq=np.square(d1[k][1])\n",
        "T=I_sq+Q_sq\n",
        "sp=split(T, 8)\n",
        "total=0\n",
        "for x in range(16):\n",
        "  total+=sp[x]\n",
        "a=[0,1,2,3,4,5,6,7]   \n",
        "m=np.amax(total)\n",
        "result = np.where(total == np.amax(total))\n",
        "plt.figure(1)\n",
        "p1=plt.plot(a,total, 'ro')\n",
        "plt.figure(2)\n",
        "offset=result[0][0]\n",
        "print('Offset=',offset)'''\n",
        "I_m=np.mean(d1[k][0])\n",
        "Q_m=np.mean(d1[k][1])\n",
        "I_std=np.std(d1[k][0])\n",
        "Q_std=np.std(d1[k][1])\n",
        "I=(d1[k][0]-I_m)/I_std\n",
        "Q=(d1[k][1]-Q_m)/Q_std\n",
        "p2=plt.plot(I[offset::8],Q[offset::8], 'ro')\n",
        "plt.show\n"
      ],
      "execution_count": null,
      "outputs": [
        {
          "output_type": "stream",
          "text": [
            "<type 'dict'>\n",
            "[('QPSK', 2), ('PAM4', 8), ('AM-DSB', -4), ('GFSK', 6), ('QAM64', 8), ('AM-SSB', 12), ('PAM4', 18), ('QAM64', -6), ('QAM16', 2), ('QAM16', -20), ('8PSK', -18), ('PAM4', -6), ('WBFM', -18), ('BPSK', 8), ('CPFSK', 10), ('WBFM', 6), ('BPSK', 4), ('BPSK', -2), ('QPSK', -20), ('CPFSK', -8), ('AM-SSB', 6), ('QAM64', -20), ('QAM16', 12), ('GFSK', -20), ('AM-SSB', -12), ('CPFSK', 0), ('AM-DSB', 6), ('BPSK', -16), ('QPSK', -6), ('8PSK', -12), ('CPFSK', -18), ('AM-DSB', -18), ('QPSK', 8), ('PAM4', 14), ('WBFM', -8), ('AM-DSB', -10), ('GFSK', 12), ('QAM64', 2), ('8PSK', -10), ('AM-SSB', -18), ('QAM64', -4), ('GFSK', -4), ('AM-DSB', 8), ('PAM4', -16), ('QPSK', -16), ('BPSK', 16), ('WBFM', -14), ('CPFSK', 16), ('WBFM', 0), ('QPSK', 6), ('BPSK', 14), ('AM-DSB', -8), ('GFSK', -10), ('CPFSK', -2), ('AM-SSB', 8), ('QAM16', 8), ('QAM16', 6), ('QAM16', -16), ('QAM64', 18), ('AM-SSB', -2), ('CPFSK', 6), ('BPSK', 0), ('BPSK', -6), ('8PSK', -14), ('CPFSK', -12), ('AM-SSB', 2), ('WBFM', 10), ('BPSK', -20), ('PAM4', 4), ('GFSK', 10), ('QAM16', -6), ('QAM64', 4), ('PAM4', -20), ('8PSK', 10), ('AM-SSB', -16), ('QAM64', -10), ('GFSK', -6), ('AM-DSB', 2), ('PAM4', -10), ('QPSK', -2), ('8PSK', -8), ('8PSK', 0), ('QPSK', 12), ('8PSK', 12), ('AM-DSB', -14), ('GFSK', 0), ('QAM64', 14), ('AM-SSB', 18), ('QAM64', -8), ('QAM16', 0), ('GFSK', -16), ('WBFM', 2), ('PAM4', -4), ('QPSK', -12), ('WBFM', -20), ('CPFSK', 12), ('WBFM', 4), ('BPSK', 10), ('BPSK', -4), ('QPSK', -18), ('CPFSK', -6), ('AM-SSB', 4), ('BPSK', -12), ('8PSK', 16), ('QAM16', 10), ('QAM16', -12), ('WBFM', -6), ('8PSK', -20), ('AM-SSB', -6), ('CPFSK', 2), ('QPSK', 16), ('AM-DSB', 4), ('BPSK', -10), ('WBFM', -4), ('CPFSK', -16), ('WBFM', -16), ('QPSK', 10), ('PAM4', 0), ('AM-DSB', -12), ('GFSK', 14), ('QAM16', -2), ('QAM64', 0), ('WBFM', -10), ('AM-SSB', -20), ('QAM64', -14), ('GFSK', -2), ('AM-DSB', 14), ('PAM4', -14), ('QPSK', -14), ('8PSK', -4), ('CPFSK', 18), ('8PSK', 4), ('QPSK', 0), ('BPSK', 12), ('AM-DSB', -2), ('GFSK', 4), ('QAM64', 10), ('AM-SSB', 14), ('8PSK', 2), ('QAM16', -10), ('PAM4', 16), ('QAM16', 4), ('GFSK', 8), ('QAM16', -18), ('QAM64', 16), ('PAM4', -8), ('WBFM', 16), ('WBFM', 14), ('AM-SSB', -4), ('CPFSK', 8), ('BPSK', 6), ('BPSK', -8), ('CPFSK', -10), ('AM-SSB', 0), ('PAM4', 6), ('QAM64', -18), ('QAM16', 14), ('QAM16', -8), ('PAM4', -18), ('AM-DSB', 18), ('AM-SSB', -10), ('QAM64', -12), ('AM-DSB', 0), ('BPSK', -14), ('QPSK', -8), ('8PSK', -6), ('CPFSK', -20), ('GFSK', 16), ('WBFM', 8), ('QPSK', 14), ('PAM4', 12), ('AM-DSB', -16), ('GFSK', 2), ('BPSK', -18), ('QAM64', 12), ('AM-SSB', 16), ('AM-SSB', -14), ('QAM64', -2), ('8PSK', 14), ('GFSK', -14), ('BPSK', 18), ('PAM4', -2), ('QPSK', -10), ('CPFSK', 14), ('8PSK', 8), ('QPSK', 4), ('AM-DSB', 16), ('AM-DSB', -6), ('CPFSK', -4), ('AM-SSB', 10), ('WBFM', -2), ('8PSK', 18), ('GFSK', 18), ('QAM16', -14), ('AM-DSB', 10), ('WBFM', -12), ('AM-SSB', -8), ('CPFSK', 4), ('QPSK', 18), ('BPSK', 2), ('AM-DSB', -20), ('8PSK', -16), ('CPFSK', -14), ('WBFM', 18), ('PAM4', 2), ('QAM16', 18), ('QAM16', -4), ('QAM64', 6), ('GFSK', -18), ('PAM4', 10), ('QAM64', -16), ('QAM16', 16), ('GFSK', -8), ('AM-DSB', 12), ('PAM4', -12), ('QPSK', -4), ('8PSK', -2), ('GFSK', -12), ('8PSK', 6), ('WBFM', 12)]\n",
            "1000\n",
            "<type 'numpy.ndarray'>\n",
            "[1000, 1000, 1000, 1000, 1000, 1000, 1000, 1000, 1000, 1000, 1000, 1000, 1000, 1000, 1000, 1000, 1000, 1000, 1000, 1000, 1000, 1000, 1000, 1000, 1000, 1000, 1000, 1000, 1000, 1000, 1000, 1000, 1000, 1000, 1000, 1000, 1000, 1000, 1000, 1000, 1000, 1000, 1000, 1000, 1000, 1000, 1000, 1000, 1000, 1000, 1000, 1000, 1000, 1000, 1000, 1000, 1000, 1000, 1000, 1000, 1000, 1000, 1000, 1000, 1000, 1000, 1000, 1000, 1000, 1000, 1000, 1000, 1000, 1000, 1000, 1000, 1000, 1000, 1000, 1000, 1000, 1000, 1000, 1000, 1000, 1000, 1000, 1000, 1000, 1000, 1000, 1000, 1000, 1000, 1000, 1000, 1000, 1000, 1000, 1000, 1000, 1000, 1000, 1000, 1000, 1000, 1000, 1000, 1000, 1000, 1000, 1000, 1000, 1000, 1000, 1000, 1000, 1000, 1000, 1000, 1000, 1000, 1000, 1000, 1000, 1000, 1000, 1000, 1000, 1000, 1000, 1000, 1000, 1000, 1000, 1000, 1000, 1000, 1000, 1000, 1000, 1000, 1000, 1000, 1000, 1000, 1000, 1000, 1000, 1000, 1000, 1000, 1000, 1000, 1000, 1000, 1000, 1000, 1000, 1000, 1000, 1000, 1000, 1000, 1000, 1000, 1000, 1000, 1000, 1000, 1000, 1000, 1000, 1000, 1000, 1000, 1000, 1000, 1000, 1000, 1000, 1000, 1000, 1000, 1000, 1000, 1000, 1000, 1000, 1000, 1000, 1000, 1000, 1000, 1000, 1000, 1000, 1000, 1000, 1000, 1000, 1000, 1000, 1000, 1000, 1000, 1000, 1000, 1000, 1000, 1000, 1000, 1000, 1000, 1000, 1000, 1000, 1000, 1000, 1000]\n",
            "<built-in method values of dict object at 0x7ff4a575bef0>\n",
            "('Offset=', 0)\n"
          ],
          "name": "stdout"
        },
        {
          "output_type": "execute_result",
          "data": {
            "text/plain": [
              "<function matplotlib.pyplot.show>"
            ]
          },
          "metadata": {
            "tags": []
          },
          "execution_count": 26
        },
        {
          "output_type": "display_data",
          "data": {
            "image/png": "[encoded data removed]",
            "text/plain": [
              "<Figure size 432x288 with 1 Axes>"
            ]
          },
          "metadata": {
            "tags": []
          }
        },
        {
          "output_type": "display_data",
          "data": {
            "image/png": "[encoded data removed]",
            "text/plain": [
              "<Figure size 432x288 with 1 Axes>"
            ]
          },
          "metadata": {
            "tags": []
          }
        }
      ]
    },
    {
      "cell_type": "code",
      "metadata": {
        "id": "KjCJ7_cRrGg7",
        "colab_type": "code",
        "colab": {}
      },
      "source": [
        "'''import tarfile\n",
        "tar = tarfile.open(\"path_to/test/sample.tar.bz2\", \"r:bz2\")  \n",
        "for i in tar:\n",
        "  tar.extractfile(i)\n",
        "tar.close()\n",
        "#If you need to extract files to some specific folder\n",
        "'''\n",
        "import tarfile\n",
        "tar = tarfile.open(\"/content/drive/My Drive/2DFFT/RML2016_10a.tar.bz2\", \"r:bz2\")  \n",
        "tar.extractall('/content/drive/My Drive/2DFFT/unzip_tar')\n",
        "tar.close()"
      ],
      "execution_count": null,
      "outputs": []
    },
    {
      "cell_type": "code",
      "metadata": {
        "id": "vFKelq6Kqfcx",
        "colab_type": "code",
        "colab": {}
      },
      "source": [
        "import tarfile\n",
        "tar = tarfile.open(\"/content/drive/My Drive/2DFFT/RML2016_10a.tar.bz2\", \"r:bz2\")  \n",
        "tar.extractall()\n",
        "tar.close()"
      ],
      "execution_count": null,
      "outputs": []
    },
    {
      "cell_type": "code",
      "metadata": {
        "id": "YRbeG3wewzil",
        "colab_type": "code",
        "colab": {}
      },
      "source": [
        ""
      ],
      "execution_count": null,
      "outputs": []
    },
    {
      "cell_type": "code",
      "metadata": {
        "id": "QBVVJ9T2rR7b",
        "colab_type": "code",
        "colab": {
          "base_uri": "https://localhost:8080/",
          "height": 166
        },
        "outputId": "44155dd2-cde8-45cd-baaf-eec62784cbb2"
      },
      "source": [
        "print(tar[0])"
      ],
      "execution_count": null,
      "outputs": [
        {
          "output_type": "error",
          "ename": "TypeError",
          "evalue": "ignored",
          "traceback": [
            "\u001b[0;31m\u001b[0m",
            "\u001b[0;31mTypeError\u001b[0mTraceback (most recent call last)",
            "\u001b[0;32m<ipython-input-11-85f60d735247>\u001b[0m in \u001b[0;36m<module>\u001b[0;34m()\u001b[0m\n\u001b[0;32m----> 1\u001b[0;31m \u001b[0;32mprint\u001b[0m\u001b[0;34m(\u001b[0m\u001b[0mtar\u001b[0m\u001b[0;34m[\u001b[0m\u001b[0;36m0\u001b[0m\u001b[0;34m]\u001b[0m\u001b[0;34m)\u001b[0m\u001b[0;34m\u001b[0m\u001b[0m\n\u001b[0m",
            "\u001b[0;31mTypeError\u001b[0m: 'TarFile' object does not support indexing"
          ]
        }
      ]
    },
    {
      "cell_type": "code",
      "metadata": {
        "id": "fijqan6cNmhZ",
        "colab_type": "code",
        "colab": {
          "base_uri": "https://localhost:8080/",
          "height": 409
        },
        "outputId": "f1a9243e-71c2-4466-c544-e30737906036"
      },
      "source": [
        "import numpy as np\n",
        "import random \n",
        "from commpy.modulation import QAMModem\n",
        "from commpy.filters import rrcosfilter\n",
        "N = 1024  # output size\n",
        "mod1 = QAMModem(16)  # QAM16\n",
        "temp=mod1.num_bits_symbol*N*16/4\n",
        "print(temp)\n",
        "print(np.shape(temp))\n",
        "sB = random.randint(0,temp)  # Random bit stream\n",
        "\n",
        "print(sB)\n",
        "sQ = mod1.modulate(sB)  # Modulated baud points\n",
        "sPSF = rrcosfilter(N*4, 0.8, 1, 24)[1]\n",
        "qW = np.convolve(sPSF, sQ) # Waveform with PSF"
      ],
      "execution_count": null,
      "outputs": [
        {
          "output_type": "stream",
          "text": [
            "16384\n",
            "()\n",
            "3312\n"
          ],
          "name": "stdout"
        },
        {
          "output_type": "error",
          "ename": "TypeError",
          "evalue": "ignored",
          "traceback": [
            "\u001b[0;31m\u001b[0m",
            "\u001b[0;31mTypeError\u001b[0mTraceback (most recent call last)",
            "\u001b[0;32m<ipython-input-10-6317ce96be95>\u001b[0m in \u001b[0;36m<module>\u001b[0;34m()\u001b[0m\n\u001b[1;32m     11\u001b[0m \u001b[0;34m\u001b[0m\u001b[0m\n\u001b[1;32m     12\u001b[0m \u001b[0;32mprint\u001b[0m\u001b[0;34m(\u001b[0m\u001b[0msB\u001b[0m\u001b[0;34m)\u001b[0m\u001b[0;34m\u001b[0m\u001b[0;34m\u001b[0m\u001b[0m\n\u001b[0;32m---> 13\u001b[0;31m \u001b[0msQ\u001b[0m \u001b[0;34m=\u001b[0m \u001b[0mmod1\u001b[0m\u001b[0;34m.\u001b[0m\u001b[0mmodulate\u001b[0m\u001b[0;34m(\u001b[0m\u001b[0msB\u001b[0m\u001b[0;34m)\u001b[0m  \u001b[0;31m# Modulated baud points\u001b[0m\u001b[0;34m\u001b[0m\u001b[0;34m\u001b[0m\u001b[0m\n\u001b[0m\u001b[1;32m     14\u001b[0m \u001b[0msPSF\u001b[0m \u001b[0;34m=\u001b[0m \u001b[0mrrcosfilter\u001b[0m\u001b[0;34m(\u001b[0m\u001b[0mN\u001b[0m\u001b[0;34m*\u001b[0m\u001b[0;36m4\u001b[0m\u001b[0;34m,\u001b[0m \u001b[0;36m0.8\u001b[0m\u001b[0;34m,\u001b[0m \u001b[0;36m1\u001b[0m\u001b[0;34m,\u001b[0m \u001b[0;36m24\u001b[0m\u001b[0;34m)\u001b[0m\u001b[0;34m[\u001b[0m\u001b[0;36m1\u001b[0m\u001b[0;34m]\u001b[0m\u001b[0;34m\u001b[0m\u001b[0;34m\u001b[0m\u001b[0m\n\u001b[1;32m     15\u001b[0m \u001b[0mqW\u001b[0m \u001b[0;34m=\u001b[0m \u001b[0mnp\u001b[0m\u001b[0;34m.\u001b[0m\u001b[0mconvolve\u001b[0m\u001b[0;34m(\u001b[0m\u001b[0msPSF\u001b[0m\u001b[0;34m,\u001b[0m \u001b[0msQ\u001b[0m\u001b[0;34m)\u001b[0m \u001b[0;31m# Waveform with PSF\u001b[0m\u001b[0;34m\u001b[0m\u001b[0;34m\u001b[0m\u001b[0m\n",
            "\u001b[0;32m/usr/local/lib/python2.7/dist-packages/commpy/modulation.pyc\u001b[0m in \u001b[0;36mmodulate\u001b[0;34m(self, input_bits)\u001b[0m\n\u001b[1;32m     44\u001b[0m             self.constellation[bitarray2dec(input_bits[i:i+self.num_bits_symbol])])\n\u001b[1;32m     45\u001b[0m \u001b[0;34m\u001b[0m\u001b[0m\n\u001b[0;32m---> 46\u001b[0;31m         \u001b[0mbaseband_symbols\u001b[0m \u001b[0;34m=\u001b[0m \u001b[0mmapfunc\u001b[0m\u001b[0;34m(\u001b[0m\u001b[0marange\u001b[0m\u001b[0;34m(\u001b[0m\u001b[0;36m0\u001b[0m\u001b[0;34m,\u001b[0m \u001b[0mlen\u001b[0m\u001b[0;34m(\u001b[0m\u001b[0minput_bits\u001b[0m\u001b[0;34m)\u001b[0m\u001b[0;34m,\u001b[0m \u001b[0mself\u001b[0m\u001b[0;34m.\u001b[0m\u001b[0mnum_bits_symbol\u001b[0m\u001b[0;34m)\u001b[0m\u001b[0;34m)\u001b[0m\u001b[0;34m\u001b[0m\u001b[0;34m\u001b[0m\u001b[0m\n\u001b[0m\u001b[1;32m     47\u001b[0m \u001b[0;34m\u001b[0m\u001b[0m\n\u001b[1;32m     48\u001b[0m         \u001b[0;32mreturn\u001b[0m \u001b[0mbaseband_symbols\u001b[0m\u001b[0;34m\u001b[0m\u001b[0;34m\u001b[0m\u001b[0m\n",
            "\u001b[0;31mTypeError\u001b[0m: object of type 'int' has no len()"
          ]
        }
      ]
    },
    {
      "cell_type": "code",
      "metadata": {
        "id": "psPiLgyljmqS",
        "colab_type": "code",
        "colab": {
          "base_uri": "https://localhost:8080/",
          "height": 54
        },
        "outputId": "5c565c22-aa61-4236-c9e3-229f760b7694"
      },
      "source": [
        "\n",
        "#If you want a random binary sequence then it's probably quickest just to generate a random integer in the appropriate range:\n",
        "\n",
        "import random\n",
        "s = random.randint(0, 2**10000 - 1)\n",
        "print(s)"
      ],
      "execution_count": null,
      "outputs": [
        {
          "output_type": "stream",
          "text": [
            "713431402307686504705269129980367814382891623944177417675344094989176543726570500202391130592808117996057615728410394205958816894017312455074567807379457004827499915052575277635062628325541403899695109902588658357032124866527972129326239567465162389782396998456654251217948326827062367088979024908500872410904348071932129021482961557473250338962316258299181823169238643162397063320576021232566155917229310101976800434558126845105065871167287717946919419119631187515634560192932880091403740283502020978246285694279483470459374526089000212424983105571972354804080702082650748843511371710330316043582877078869365408181699020094891429396382186364563063640976171452857672338520740045586583215897555585280879137635287614095506903115662350922702414865285242627152701079394715759861757065690010530346291637555063966329626452214535243732891163447060590832164000512299819998779713332578844432699502121239992021188299199774927973092006488214955266609288297810062703772950252352904118913220933950661880169451977389796586952697170827262478835165980966631862267103854362617976179487124989303210463771948651366683860702196444947866957546471408404975914616431033077340946021045063021715081138183450424072958591974389579378288947159719232073682782438595699388059400673934663419594873931131621746730377583930049707489572723190039893664143601204000402108452103250507695423745011329724265061102849291459950049752548668324416623183340449337418466725620655617613228045957521947735341092160457543447193413285912236726804471728008499135288166820636126921473706448427461194620752041260451770992220278339092258975944323830652545723615331951821345878906796220155742386678529614549635806296972538411923954000524028376756660459980645458582023660944381553796776359306668259374057908527436101375445972153299870581027559434854263735962453618722168135575898089502566459378012640494664037756588121847183404005892744749557211960763838211125301196466767694342164217479528201896632589346170586990681768220193154001310573284235077512546520601939192972990167512531153384161839384934996542977752251636467019741623372534505531687871753210409274799822849108457140401038524033000780873512899261117952402175137484928965136716395777331177282641558792511579083454409350366068771508287641438791487260623308579237864884305799464380481104465775796241842158782392147079641243508410186256509393699981124749082253643507142997997077933519743204284231808436137858222148807210902392009135408092331818342835720696961973030654137890193628163310832053833580826540812795693511680194218141943123233870739553160619080654046127945357637927321596890770404249488614879800110980288275083821401267820185218000930032782608263882910196569526440949251257443848404059851011810456712768978524219332231103460973658779095788264930820947511148644944668361994883188832727251578262867253389968328689666486719710700724930063671287647599779186336123565700856528990206237560339246481746736941174200054380210169470644899973044654947867056161194558689879442473778199946298473475523834601175\n"
          ],
          "name": "stdout"
        }
      ]
    },
    {
      "cell_type": "code",
      "metadata": {
        "id": "QEoB0Sg7kaWL",
        "colab_type": "code",
        "colab": {
          "base_uri": "https://localhost:8080/",
          "height": 359
        },
        "outputId": "444ab14c-3d87-4a37-ca7f-1a5e3fa21a8c"
      },
      "source": [
        "from gnuradio import gr, blocks, digital, analog, filter\n",
        "from gnuradio.filter import firdes\n",
        "import matplotlib.pyplot as plt\n",
        "\n",
        "samples_per_symbol=8\n",
        "nfilts = 32\n",
        "ntaps = nfilts * 11 * int(samples_per_symbol)    # make nfilts filters of ntaps each\n",
        "excess_bw=.35\n",
        "n_taps=4\n",
        "rrc_taps = filter.firdes.root_raised_cosine(\n",
        "nfilts,          # gain\n",
        "nfilts,          # sampling rate based on 32 filters in resampler\n",
        "1.0,             # symbol rate\n",
        "excess_bw, # excess bandwidth (roll-off factor)\n",
        "ntaps)\n",
        "\n",
        "print(rrc_taps)\n",
        "arr=np.asarray(rrc_taps)\n",
        "print(arr)\n",
        "plt.plot(arr)\n",
        "plt.show\n",
        "print(ntaps)\n"
      ],
      "execution_count": null,
      "outputs": [
        {
          "output_type": "stream",
          "text": [
            "(3.448508869041689e-05, 4.8964142479235306e-05, 6.259929796215147e-05, 7.514828030252829e-05, 8.638726285425946e-05, 9.611492714611813e-05, 0.00010415600263513625, 0.00011036446812795475, 0.00011462613474577665, 0.00011686082871165127, 0.00011702383199008182, 0.000115106777229812, 0.00011113791697425768, 0.00010518171620788053, 9.73378264461644e-05, 8.773944864515215e-05, 7.655104855075479e-05, 6.396559183485806e-05, 5.0201233534608036e-05, 3.5497520002536476e-05, 2.0111277990508825e-05, 4.312134024075931e-06, -1.162219177786028e-05, -2.7410738766775467e-05, -4.277423431631178e-05, -5.74400182813406e-05, -7.114684558473527e-05, -8.364951645489782e-05, -9.472324018133804e-05, -0.00010416765144327655, -0.00011181037552887574, -0.00011751019337680191, -0.0001211596027133055, -0.00012268676073290408, -0.00012205693201394752, -0.00011927317245863378, -0.00011437639477662742, -0.00010744477913249284, -9.85924998531118e-05, -8.796786278253421e-05, -7.575075869681314e-05, -6.214965833351016e-05, -4.739798896480352e-05, -3.175016536260955e-05, -1.547714782645926e-05, 1.1382376214896794e-06, 1.7806238247430883e-05, 3.4235235943924636e-05, 5.013684130972251e-05, 6.523099727928638e-05, 7.925088721094653e-05, 9.194766607834026e-05, 0.00010309486970072612, 0.00011249251110712066, 0.00011997057299595326, 0.00012539216550067067, 0.00012865595635958016, 0.00012969813542440534, 0.0001284935715375468, 0.00012505643826443702, 0.00011943999561481178, 0.00011173585517099127, 0.00010207243030890822, 9.06128334463574e-05, 7.755209662718698e-05, 6.311385368462652e-05, 4.754646579385735e-05, 3.1118805054575205e-05, 1.4115548765403219e-05, -3.1677589049650123e-06, -2.0429848518688232e-05, -3.736900180228986e-05, -5.368833808461204e-05, -6.910104275448248e-05, -8.333541336469352e-05, -9.613967995392159e-05, -0.00010728649067459628, -0.00011657694267341867, -0.00012384416186250746, -0.00012895636609755456, -0.0001318191789323464, -0.00013237750681582838, -0.00013061653589829803, -0.0001265621103812009, -0.00012028047058265656, -0.00011187710333615541, -0.00010149507579626516, -8.931256161304191e-05, -7.553987961728126e-05, -6.0415841289795935e-05, -4.420366894919425e-05, -2.7186413717572577e-05, -9.662050615588669e-06, 8.061712833296042e-06, 2.5672825358924456e-05, 4.286035255063325e-05, 5.931995838182047e-05, 7.475927122868598e-05, 8.890304889064282e-05, 0.00010149808076675981, 0.0001123177062254399, 0.00012116588186472654, 0.0001278806885238737, 0.00013233735808171332, 0.00013445048534777015, 0.00013417567242868245, 0.00013151053281035274, 0.0001264947495656088, 0.00011920950782950968, 0.000109776301542297, 9.835480886977166e-05, 8.514027285855263e-05, 7.03601399436593e-05, 5.427018186310306e-05, 3.7150097341509536e-05, 1.9298651750432327e-05, 1.028490601129306e-06, -1.733931276248768e-05, -3.548086897353642e-05, -5.307517130859196e-05, -6.980972830206156e-05, -8.538610563846305e-05, -9.952519758371636e-05, -0.00011197222193004563, -0.00012250123836565763, -0.00013091925939079374, -0.0001370697282254696, -0.00014083537098485976, -0.0001421404303982854, -0.00014095207734499127, -0.00013728121120948344, -0.00013118232891429216, -0.0001227527973242104, -0.0001121311797760427, -9.949503873940557e-05, -8.505791629431769e-05, -6.906569615239277e-05, -5.1792409067275e-05, -3.3535496186232194e-05, -1.4610689504479524e-05, 4.653471023630118e-06, 2.3921364117995836e-05, 4.285615432308987e-05, 6.112568371463567e-05, 7.840833131922409e-05, 9.439867426408455e-05, 0.00010881289199460298, 0.0001213938303408213, 0.0001319156144745648, 0.0001401876361342147, 0.00014605808246415108, 0.00014941672270651907, 0.00015019692364148796, 0.00014837700291536748, 0.0001439806801499799, 0.0001370769168715924, 0.00012777875235769898, 0.00011624152102740481, 0.0001026602039928548, 8.72661912580952e-05, 7.032328721834347e-05, 5.212322139414027e-05, 3.298060255474411e-05, 1.3227464478404727e-05, -6.7924975155619904e-06, -2.6729918317869306e-05, -4.623587301466614e-05, -6.496801506727934e-05, -8.25965908006765e-05, -9.881024743663147e-05, -0.00011332159920129925, -0.00012587230594363064, -0.00013623769336845726, -0.00014423084212467074, -0.00014970592746976763, -0.0001525609550299123, -0.00015273960889317095, -0.00015023253217805177, -0.00014507742889691144, -0.00013735871470998973, -0.00012720610538963228, -0.00011479244130896404, -0.00010033089347416535, -8.407120185438544e-05, -6.62955135339871e-05, -4.7313482355093583e-05, -2.745687925198581e-05, -7.0738828981120605e-06, 1.3477028005581815e-05, 3.383332659723237e-05, 5.363481614040211e-05, 7.252994691953063e-05, 9.018206037580967e-05, 0.00010627532174112275, 0.00012052038800902665, 0.00013265952293295413, 0.00014247128274291754, 0.00014977453975006938, 0.0001544317346997559, 0.0001563514961162582, 0.00015549043018836528, 0.00015185393567662686, 0.00014549640764016658, 0.00013652036432176828, 0.00012507480278145522, 0.00011135275417473167, 9.558809688314795e-05, 7.805148925399408e-05, 5.904579666093923e-05, 3.890087464242242e-05, 1.7967826352105476e-05, -3.3870473998831585e-06, -2.4788667360553518e-05, -4.58597278338857e-05, -6.622732325922698e-05, -8.552950748708099e-05, -0.00010342172026867047, -0.00011958286631852388, -0.00013372107059694827, -0.0001455789024475962, -0.00015493802493438125, -0.00016162316023837775, -0.00016550530563108623, -0.00016650420730002224, -0.0001645899610593915, -0.0001597836089786142, -0.0001521570811746642, -0.0001418320316588506, -0.00012897791748400778, -0.00011380920477677137, -9.65817307587713e-05, -7.75883745518513e-05, -5.715408769901842e-05, -3.563024802133441e-05, -1.3388643310463522e-05, 9.185018825519364e-06, 3.1697796657681465e-05, 5.3756408306071535e-05, 7.497408660128713e-05, 9.497744031250477e-05, 0.0001134129852289334, 0.00012995346332900226, 0.0001443036599084735, 0.00015620562771800905, 0.00016544348909519613, 0.00017184714670293033, 0.00017529564502183348, 0.00017571929492987692, 0.00017310115799773484, 0.00016747746849432588, 0.00015893721138127148, 0.00014762076898477972, 0.00013371747627388686, 0.00011746271775336936, 9.913370740832761e-05, 7.904491940280423e-05, 5.754260200774297e-05, 3.499889498925768e-05, 1.1805315807578154e-05, -1.1634022484940942e-05, -3.4909458918264136e-05, -5.7612949603935704e-05, -7.934525638120249e-05, -9.972296538762748e-05, -0.00011838525824714452, -0.00013500037312041968, -0.00014927145093679428, -0.00016094192687887698, -0.0001698001433396712, -0.00017568317707628012, -0.00017847998242359608, -0.00017813337035477161, -0.0001746412308420986, -0.00016805683844722807, -0.0001584879937581718, -0.0001460953790228814, -0.00013108988059684634, -0.00011372900189599022, -9.431262878933921e-05, -7.317775452975184e-05, -5.069277904112823e-05, -2.7251064238953404e-05, -3.2641632969898637e-06, 2.084539482893888e-05, 4.465148595045321e-05, 6.773187487851828e-05, 8.967566100182012e-05, 0.00011009055015165359, 0.000128609812236391, 0.00014489881868939847, 0.000158661074237898, 0.0001696435792837292, 0.0001776413555489853, 0.00018250133143737912, 0.00018412515055388212, 0.0001824711507651955, 0.00017755529552232474, 0.0001694510574452579, 0.0001582884433446452, 0.00014425182598643005, 0.00012757696094922721, 0.00010854696301976219, 8.748762047616765e-05, 6.476174166891724e-05, 4.076293043908663e-05, 1.5908812201814726e-05, -9.366236554342322e-06, -3.461865344434045e-05, -5.9403449995443225e-05, -8.328202238772064e-05, -0.00010582989489194006, -0.00012664421228691936, -0.00014535091759171337, -0.00016161144594661891, -0.00017512876365799457, -0.0001856527669588104, -0.00019298492406960577, -0.00019698182586580515, -0.0001975580380531028, -0.00019468777463771403, -0.00018840556731447577, -0.0001788059453247115, -0.00016604195116087794, -0.00015032269584480673, -0.00013190996833145618, -0.00011111376079497859, -8.828705176711082e-05, -6.381978892022744e-05, -3.8132191548356786e-05, -1.1667463695630431e-05, 1.5115842870727647e-05, 4.175184221821837e-05, 6.777545786462724e-05, 9.273053728975356e-05, 0.00011617794370977208, 0.00013770328951068223, 0.00015692427405156195, 0.0001734975230647251, 0.00018712478049565107, 0.00019755825633183122, 0.00020460515224840492, 0.00020813131413888186, 0.00020806373504456133, 0.00020439202489797026, 0.0001971689343918115, 0.0001865095691755414, 0.00017258957086596638, 0.00015564235218334943, 0.0001359551533823833, 0.00011386415280867368, 8.974883530754596e-05, 6.402540748240426e-05, 3.713968544616364e-05, 9.559327736496925e-06, -1.8234271919936873e-05, -4.575438651954755e-05, -7.251749048009515e-05, -9.80517579591833e-05, -0.00012190539564471692, -0.0001436546299373731, -0.00016291129577439278, -0.00017932969785761088, -0.0001926129771163687, -0.0002025183493969962, -0.00020886164566036314, -0.00021152078988961875, -0.0002104380982927978, -0.00020562158897519112, -0.00019714501104317605, -0.00018514688417781144, -0.00016982821398414671, -0.00015144924691412598, -0.00013032506103627384, -0.00010682025458663702, -8.134276140481234e-05, -5.4336749599315226e-05, -2.6275003619957715e-05, 2.3493046228395542e-06, 3.103120980085805e-05, 5.9262798458803445e-05, 8.654213888803497e-05, 0.0001123821348301135, 0.00013631914043799043, 0.00015792122576385736, 0.0001767959474818781, 0.000192597319255583, 0.00020503216364886612, 0.00021386540902312845, 0.0002189246006309986, 0.00022010301472619176, 0.00021736191411036998, 0.00021073146490380168, 0.00020031056192237884, 0.0001862652279669419, 0.00016882615454960614, 0.00014828475832473487, 0.00012498839350882918, 9.933445107890293e-05, 7.176359940785915e-05, 4.275220271665603e-05, 1.2804123798559885e-05, -1.7558053514221683e-05, -4.780208837473765e-05, -7.739542343188077e-05, -0.00010581450624158606, -0.00013255405065137893, -0.00015713601897004992, -0.00017911801114678383, -0.00019810131925623864, -0.000213738065212965, -0.00022573747264686972, -0.00023387132387142628, -0.00023797809262759984, -0.00023796616005711257, -0.000233815677347593, -0.00022557923512067646, -0.00021338123769965023, -0.0001974159968085587, -0.00017794467567000538, -0.0001552909379824996, -0.0001298354909522459, -0.00010200979886576533, -7.228857430163771e-05, -4.118167998967692e-05, -9.225382200384047e-06, 2.3027005227049813e-05, 5.5014716053847224e-05, 8.617934508947656e-05, 0.00011597463890211657, 0.00014387612463906407, 0.00016939039051067084, 0.00019206388969905674, 0.00021149097301531583, 0.00022732130310032517, 0.00023926608264446259, 0.0002471035113558173, 0.00025068281684070826, 0.00024992722319439054, 0.00024483565357513726, 0.00023548291937913746, 0.00022201875981409103, 0.00020466558635234833, 0.00018371471378486603, 0.0001595216745045036, 0.0001325001212535426, 0.00010311476944480091, 7.187359005911276e-05, 3.9318885683314875e-05, 6.018019121256657e-06, -2.7446523745311424e-05, -6.048725845175795e-05, -9.25220301724039e-05, -0.0001229842600878328, -0.00015133293345570564, -0.00017706227663438767, -0.0001997107028728351, -0.00021886915783397853, -0.00023418849741574377, -0.0002453858614899218, -0.00025224994169548154, -0.0002546449832152575, -0.0002525133895687759, -0.00024587722145952284, -0.00023483797849621624, -0.00021957520220894367, -0.00020034360932186246, -0.00017746897356119007, -0.0001513426541350782, -0.00012241497461218387, -9.118755406234413e-05, -5.8204685046803206e-05, -2.4043951270869002e-05, 1.0693815966078546e-05, 4.539500150713138e-05, 7.94439620221965e-05, 0.00011223383626202121, 0.0001431772980140522, 0.0001717169361654669, 0.00019733526278287172, 0.00021956390992272645, 0.0002379921788815409, 0.00025227447622455657, 0.0002621367166284472, 0.00026738137239590287, 0.0002678915043361485, 0.0002636329736560583, 0.00025465551880188286, 0.0002410921879345551, 0.00022315762180369347, 0.00020114428480155766, 0.0001754179975250736, 0.00014641167945228517, 0.00011461813119240105, 8.05815652711317e-05, 4.4888398406328633e-05, 8.15704606793588e-06, -2.8972743166377768e-05, -6.585103255929425e-05, -0.0001018290568026714, -0.00013627063890453428, -0.00016856340516824275, -0.00019812965183518827, -0.0002244366187369451, -0.00024700610083527863, -0.0002654230338521302, -0.0002793431340251118, -0.0002884991990868002, -0.00029270618688315153, -0.0002918649115599692, -0.00028596396441571414, -0.0002750805870164186, -0.0002593795652501285, -0.0002391107118455693, -0.0002146050101146102, -0.00018626906967256218, -0.00015457837434951216, -0.00012006928591290489, -8.332983998116106e-05, -4.498978523770347e-05, -5.7096235650533345e-06, 3.3830769098130986e-05, 7.294399256352335e-05, 0.00011094712681369856, 0.00014717374870087951, 0.00018098566215485334, 0.00021178422321099788, 0.00023902099928818643, 0.0002622076135594398, 0.00028092454886063933, 0.0002948288165498525, 0.00030366037390194833, 0.00030724695534445345, 0.000305507390294224, 0.0002984536695294082, 0.0002861908869817853, 0.00026891601737588644, 0.00024691459839232266, 0.00022055633598938584, 0.00019028884707950056, 0.00015663017984479666, 0.00012015997344860807, 8.15096209407784e-05, 4.135130802751519e-05, 3.8645302424811234e-07, -4.066653491463512e-05, -8.108479960355908e-05, -0.00012015370157314464, -0.00015717947098892182, -0.0001915014290716499, -0.0002225038333563134, -0.0002496268425602466, -0.00027237660833634436, -0.00029033434111624956, -0.0003031638916581869, -0.00031061822664923966, -0.000312543852487579, -0.0003088843368459493, -0.0002996815019287169, -0.0002850751334335655, -0.0002653011179063469, -0.00024068760103546083, -0.00021164970530662686, -0.0001786826178431511, -0.00014235323760658503, -0.00010329054202884436, -6.217484042281285e-05, -1.9725972379092127e-05, 2.330912320758216e-05, 6.616944301640615e-05, 0.00010809325613081455, 0.00014833149907644838, 0.00018616102170199156, 0.00022089749108999968, 0.0002519075642339885, 0.00027862031129188836, 0.00030053764930926263, 0.0003172433644067496, 0.00032841088250279427, 0.000333809555741027, 0.00033330911537632346, 0.00032688246574252844, 0.0003146067319903523, 0.00029666253249160945, 0.0002733310975600034, 0.0002449900784995407, 0.00021210734848864377, 0.0001752331154420972, 0.00013499089982360601, 9.206677350448444e-05, 4.7197758249239996e-05, 1.1590850590437185e-06, -4.524919859250076e-05, -9.121614129981026e-05, -0.00013593406765721738, -0.00017861278320197016, -0.00021849351469427347, -0.00025486235972493887, -0.0002870631287805736, -0.000314509030431509, -0.0003366934251971543, -0.0003531990514602512, -0.00036370588350109756, -0.0003679970686789602, -0.0003659635258372873, -0.0003576060989871621, -0.00034303637221455574, -0.00032247501076199114, -0.00029624876333400607, -0.0002647848741617054, -0.00022860453464090824, -0.00018831383204087615, -0.0001445937668904662, -9.81886187219061e-05, -4.989328590454534e-05, -5.394830964178254e-07, 4.9018559366231784e-05, 9.79189935605973e-05, 0.00014530742191709578, 0.00019035192963201553, 0.0002322577201994136, 0.0002702813071664423, 0.0003037437272723764, 0.0003320428659208119, 0.00035466422559693456, 0.0003711905737873167, 0.00038130953907966614, 0.0003848197520710528, 0.0003816347452811897, 0.0003717852814588696, 0.0003554190625436604, 0.0003327989252284169, 0.00030429873731918633, 0.0002703972568269819, 0.0002316703466931358, 0.0001887812977656722, 0.00014246955106500536, 9.353812492918223e-05, 4.2839772504521534e-05, -8.737772077438422e-06, -6.0287213273113593e-05, -0.00011089757754234597, -0.00015967019135132432, -0.00020573458459693938, -0.00024826396838761866, -0.0002864899579435587, -0.0003197163459844887, -0.00034733189386315644, -0.00036882137646898627, -0.0003837751573882997, -0.000391897076042369, -0.00039300997741520405, -0.00038705981569364667, -0.00037411690573208034, -0.0003543756320141256, -0.0003281514218542725, -0.00029587597236968577, -0.0002580903237685561, -0.0002154357935069129, -0.00016864323697518557, -0.00011852076568175107, -6.59398065181449e-05, -1.182020605483558e-05, 4.28857711085584e-05, 9.72099878708832e-05, 0.00015018542762845755, 0.00020086320000700653, 0.0002483293355908245, 0.0002917211677413434, 0.00033024264848791063, 0.00036317884223535657, 0.00038990899338386953, 0.0004099179641343653, 0.00042280578054487705, 0.0004282955778762698, 0.0004262389265932143, 0.0004166194121353328, 0.0003995534498244524, 0.00037528929533436894, 0.000344203261192888, 0.00030679383780807257, 0.0002636737481225282, 0.00021555990679189563, 0.00016326125478371978, 0.00010766521882032976, 4.97225955768954e-05, -9.568802852299996e-06, -6.918134749867022e-05, -0.0001280754804611206, -0.00018521783931646496, -0.00023959946702234447, -0.0002902536070905626, -0.00033627290395088494, -0.00037682565744034946, -0.0004111708840355277, -0.000438671704614535, -0.00045880721881985664, -0.0004711823130492121, -0.0004755351401399821, -0.0004717427073046565, -0.0004598235827870667, -0.00043993847793899477, -0.0004123882681597024, -0.0003776094818022102, -0.0003361673152539879, -0.00028874663985334337, -0.0002361404913244769, -0.00017923688574228436, -0.00011900366371264681, -5.6472126743756235e-05, 7.2808015829650685e-06, 7.11511675035581e-05, 0.0001340271846856922, 0.00019480873015709221, 0.0002524266019463539, 0.000305861554807052, 0.00035416235914453864, 0.00039646291406825185, 0.0004319978761486709, 0.000460116658359766, 0.0004802954790648073, 0.0004921471700072289, 0.0004954288597218692, 0.0004900469211861491, 0.00047605944564566016, 0.0004536760097835213, 0.00042325505637563765, 0.00038529798621311784, 0.0003404415328986943, 0.00028944716905243695, 0.0002331882860744372, 0.00017263562767766416, 0.00010884064977290109, 4.2917552491417155e-05, -2.397605021542404e-05, -9.065923222806305e-05, -0.00015594840806443244, -0.00021867817849852145, -0.0002777219342533499, -0.0003320119285490364, -0.00038055836921557784, -0.0004224675358273089, -0.00045695772860199213, -0.00048337405314669013, -0.0005012004403397441, -0.0005100697744637728, -0.0005097711109556258, -0.0005002544494345784, -0.0004816324799321592, -0.000454179709777236, -0.0004183286218903959, -0.0003746628062799573, -0.00032390793785452843, -0.00026691972743719816, -0.00020466963178478181, -0.00013822849723510444, -6.874836981296539e-05, 2.557304014771944e-06, 7.44346616556868e-05, 0.00014561125135514885, 0.00021481825388036668, 0.00028081293567083776, 0.00034240062814205885, 0.00039845608989708126, 0.000447943719336763, 0.0004899364430457354, 0.0005236326833255589, 0.0005483714048750699, 0.0005636443383991718, 0.000569106312468648, 0.0005645822384394705, 0.0005500713014043868, 0.0005257483571767807, 0.0004919614875689149, 0.00044922775123268366, 0.0003982248017564416, 0.00033978011924773455, 0.0002748575934674591, 0.00020454145851545036, 0.0001300181174883619, 5.2555955335265025e-05, -2.6516292564338073e-05, -0.00010583246330497786, -0.00018401266424916685, -0.0002596873673610389, -0.0003315214707981795, -0.0003982379275839776, -0.00045864054118283093, -0.0005116353277117014, -0.0005562505684792995, -0.0005916543304920197, -0.0006171701825223863, -0.0006322901463136077, -0.0006366842426359653, -0.0006302077672444284, -0.0006129052489995956, -0.0005850102170370519, -0.0005469428142532706, -0.000499303569085896, -0.0004428638785611838, -0.000378553697373718, -0.00030744620016776025, -0.00023073991178534925, -0.00014973845100030303, -6.582839705515653e-05, 1.9544562746887095e-05, 0.00010490053682588041, 0.00018875120440497994, 0.0002696258598007262, 0.0003460973675828427, 0.0004168073646724224, 0.00048049064935185015, 0.0005359978531487286, 0.0005823165411129594, 0.0006185896345414221, 0.0006441315053962171, 0.000658441218547523, 0.0006612123688682914, 0.0006523397751152515, 0.0006319226231426001, 0.0006002638256177306, 0.0005578662385232747, 0.0005054251523688436, 0.0004438168543856591, 0.0003740849206224084, 0.0002974226081278175, 0.00021515286061912775, 0.00012870597129222006, 3.959502646466717e-05, -5.061026240582578e-05, -0.00014031071623321623, -0.00022790575167164207, -0.0003118215245194733, -0.00039053894579410553, -0.0004626207228284329, -0.0005267373053357005, -0.0005816910415887833, -0.0006264383555389941, -0.0006601089844480157, -0.0006820228300057352, -0.0006917031132616103, -0.0006888860953040421, -0.0006735275965183973, -0.000645805208478123, -0.0006061167805455625, -0.0005550748901441693, -0.000493497762363404, -0.0004223964351695031, -0.00034295825753360987, -0.0002565272734500468, -0.00016458184109069407, -6.870942888781428e-05, 2.9420321880024858e-05, 0.0001280845026485622, 0.00022553681628778577, 0.0003200381179340184, 0.0004098870849702507, 0.0004934504977427423, 0.0005691923433914781, 0.0006357017555274069, 0.0006917186547070742, 0.0007361571188084781, 0.0007681258139200509, 0.0007869452238082886, 0.0007921610958874226, 0.0007835543365217745, 0.0007611466571688652, 0.0007252019713632762, 0.0006762238335795701, 0.0006149481050670147, 0.0005423325928859413, 0.000459541188320145, 0.0003679255023598671, 0.00026900257216766477, 0.00016442958440165967, 5.597581184701994e-05, -5.4507385357283056e-05, -0.00016511841386090964, -0.0002739383198786527, -0.00037906435318291187, -0.000478643283713609, -0.0005709041724912822, -0.0006541904876939952, -0.0007269890047609806, -0.0007879585609771311, -0.0008359538624063134, -0.0008700476610101759, -0.0008895481005311012, -0.0008940131519921124, -0.0008832597522996366, -0.00085736921755597, -0.0008166877087205648, -0.0007618220988661051, -0.0006936315330676734, -0.0006132138078100979, -0.0005218883161433041, -0.0004211743944324553, -0.00031276620575226843, -0.00019850426178891212, -8.034439088078216e-05, 3.9675844163866714e-05, 0.00015947222709655762, 0.0002769501297734678, 0.00039004109567031264, 0.0004967395798303187, 0.0005951383500359952, 0.0006834628875367343, 0.000760103517677635, 0.0008236448629759252, 0.000872892327606678, 0.0009068944491446018, 0.0009249618742614985, 0.0009266812703572214, 0.0009119244641624391, 0.000880853331182152, 0.0008339188643731177, 0.0007718554697930813, 0.0006956703145988286, 0.0006066276691854, 0.0005062286509200931, 0.000396186689613387, 0.0002783988311421126, 0.00015491397061850876, 2.7897762265638448e-05, -0.00010040452616522089, -0.0002277069870615378, -0.0003517230798024684, -0.00047020590864121914, -0.000580988300498575, -0.0006820216658525169, -0.0007714129751548171, -0.0008474597707390785, -0.0009086814243346453, -0.0009538476588204503, -0.0009820020059123635, -0.000992481131106615, -0.0009849293855950236, -0.0009593073045834899, -0.0009158953325822949, -0.000855292018968612, -0.0007784055778756738, -0.0006864414317533374, -0.0005808831192553043, -0.00046346907038241625, -0.00033616385189816356, -0.00020112606580369174, -6.0671900428133085e-05, 8.276411972474307e-05, 0.00022667089069727808, 0.0003685041447170079, 0.0005057309754192829, 0.0006358743412420154, 0.0007565573323518038, 0.000865545473061502, 0.0009607878746464849, 0.0010404543718323112, 0.0011029700981453061, 0.0011470455210655928, 0.0011717015877366066, 0.0011762897484004498, 0.0011605066247284412, 0.0011244025081396103, 0.0010683840373530984, 0.0009932097746059299, 0.0008999809506349266, 0.0007901248754933476, 0.0006653732270933688, 0.0005277346936054528, 0.0003794620861299336, 0.0002230155369034037, 6.102106999605894e-05, -0.00010377355647506192, -0.00026854590396396816, -0.0004304475151002407, -0.0005866534193046391, -0.0007344118785113096, -0.0008710930706001818, -0.0009942363249137998, -0.0011015943018719554, -0.0011911749606952071, -0.0012612780556082726, -0.0013105280231684446, -0.0013379001757130027, -0.001342743169516325, -0.001324792392551899, -0.0012841789284721017, -0.0012214303715154529, -0.0011374655878171325, -0.0010335820261389017, -0.0009114356944337487, -0.0007730165380053222, -0.0006206158432178199, -0.0004567889263853431, -0.00028431275859475136, -0.00010613910126267001, 7.465542148565874e-05, 0.0002549224882386625, 0.00043149650446139276, 0.0006012500962242484, 0.00076114950934425, 0.0009083086624741554, 0.0010400412138551474, 0.0011539097176864743, 0.0012477708514779806, 0.0013198157539591193, 0.0013686052989214659, 0.0013930981513112783, 0.001392673933878541, 0.0013671471970155835, 0.001316775567829609, 0.0012422589352354407, 0.0011447316501289606, 0.0010257466929033399, 0.0008872527978383005, 0.0007315629045479, 0.0005613181856460869, 0.00037944401265121996, 0.00018910133803728968, -6.3666839196230285e-06, -0.00020349177066236734, -0.00039874057983979583, -0.0005885763675905764, -0.0007695214007981122, -0.0009382189018651843, -0.0010914936428889632, -0.0012264101533219218, -0.0013403266202658415, -0.0014309450052678585, -0.001496355514973402, -0.001535074203275144, -0.0015460738213732839, -0.0015288072172552347, -0.0014832228189334273, -0.0014097696403041482, -0.0013093964662402868, -0.001183540327474475, -0.001034106477163732, -0.0008634405676275492, -0.000674291979521513, -0.00046977074816823006, -0.00025329645723104477, -2.8542050131363794e-05, 0.00020062789553776383, 0.00043022280442528427, 0.0006561947520822287, 0.0008745086379349232, 0.001081213471479714, 0.0012725124834105372, 0.001444831257686019, 0.0015948835061863065, 0.001719731604680419, 0.0018168427050113678, 0.001884136931039393, 0.0019200299866497517, 0.001923466450534761, 0.0018939441069960594, 0.001831530244089663, 0.0017368656117469072, 0.0016111615113914013, 0.001456184429116547, 0.0012742321705445647, 0.0010680995183065534, 0.0008410353329963982, 0.0005966915632598102, 0.0003390638157725334, 7.242556603159755e-05, -0.00019874305871780962, -0.00046983108040876687, -0.0007361756870523095, -0.0009931429522112012, -0.0012362092966213822, -0.0014610415091738105, -0.0016635744832456112, -0.0018400856060907245, -0.0019872633274644613, -0.002102270256727934, -0.002182797761633992, -0.0022271121852099895, -0.00223409291356802, -0.0022032568231225014, -0.0021347764413803816, -0.002029482973739505, -0.0018888602498918772, -0.0017150247003883123, -0.0015106976497918367, -0.0012791631743311882, -0.001024217577651143, -0.0007501086220145226, -0.00046146666863933206, -0.00016322718875017017, 0.00013945173122920096, 0.00044127760338597, 0.0007369148661382496, 0.0010210782056674361, 0.001288626343011856, 0.0015346533618867397, 0.00175457913428545, 0.001944233081303537, 0.0020999328698962927, 0.0022185551933944225, 0.0022975981701165438, 0.0023352329153567553, 0.0023303437046706676, 0.0022825580090284348, 0.0021922613959759474, 0.002060601022094488, 0.001889475155621767, 0.0016815096605569124, 0.0014400207437574863, 0.0011689659440889955, 0.0008728828397579491, 0.0005568165215663612, 0.00022623760742135346, -0.00011304874351480976, -0.00045500064152292907, -0.0007934428285807371, -0.0011221738532185555, -0.0014350755373016, -0.001726221526041627, -0.0019899848848581314, -0.0022211424075067043, -0.0024149713572114706, -0.0025673408526927233, -0.0026747938245534897, -0.002734617330133915, -0.002744900994002819, -0.0027045838069170713, -0.002613484626635909, -0.002472320105880499, -0.0022827039938420057, -0.0020471333991736174, -0.001768959336914122, -0.001452339580282569, -0.001102179056033492, -0.0007240556878969073, -0.00032413227017968893, 9.094149572774768e-05, 0.0005141382571309805, 0.0009381698328070343, 0.001355610671453178, 0.0017590256175026298, 0.002141099190339446, 0.0024947654455900192, 0.0028133359737694263, 0.003090621205046773, 0.0033210469409823418, 0.003499762387946248, 0.003622733522206545, 0.003686828538775444, 0.003689886536449194, 0.00363076850771904, 0.0035093959886580706, 0.0033267673570662737, 0.003084958530962467, 0.002787103643640876, 0.0024373563937842846, 0.0020408357959240675, 0.0016035503940656781, 0.001132309902459383, 0.0006346174632199109, 0.00011855199409183115, -0.0004073644813615829, -0.0009343072306364775, -0.0014532976783812046, -0.0019553573802113533, -0.002431663451716304, -0.0028737052343785763, -0.003273436799645424, -0.0036234252620488405, -0.003916987683624029, -0.004148322157561779, -0.004312620498239994, -0.004406170453876257, -0.004426433704793453, -0.004372114781290293, -0.004243196453899145, -0.004040967673063278, -0.003768018214032054, -0.003428213531151414, -0.0030266507528722286, -0.0025695885997265577, -0.0020643561147153378, -0.0015192425344139338, -0.0009433675440959632, -0.00034653593320399523, 0.00026092363987118006, 0.0008683310588821769, 0.0014648360665887594, 0.0020396066829562187, 0.002582019893452525, 0.0030818514060229063, 0.0035294643603265285, 0.003915988374501467, 0.004233489278703928, 0.004475128371268511, 0.004635300021618605, 0.004709755070507526, 0.004695701878517866, 0.004591881297528744, 0.0043986183591187, 0.0041178492829203606, 0.003753115888684988, 0.0033095369581133127, 0.0027937472332268953, 0.0022138122003525496, 0.001579113770276308, 0.0009002120932564139, 0.0001886837708298117, -0.0005430609453469515, -0.001281979726627469, -0.0020146139431744814, -0.0027273171581327915, -0.003406490432098508, -0.004038823768496513, -0.004611533600836992, -0.005112603306770325, -0.005531006027013063, -0.00585692236199975, -0.006081941071897745, -0.006199236027896404, -0.006203720811754465, -0.00609218142926693, -0.005863370839506388, -0.005518079269677401, -0.0050591672770679, -0.00449156342074275, -0.0038222279399633408, -0.0030600796453654766, -0.002215886488556862, -0.0013021244667470455, -0.0003328003513161093, 0.0006767527083866298, 0.0017101096455007792, 0.0027500104624778032, 0.0037786380853503942, 0.004777912516146898, 0.005729795899242163, 0.006616603583097458, 0.00742131844162941, 0.008127897046506405, 0.00872157234698534, 0.00918913446366787, 0.009519201703369617, 0.009702449664473534, 0.009731831960380077, 0.009602753445506096, 0.009313204325735569, 0.008863864466547966, 0.008258151821792126, 0.007502238731831312, 0.006605003960430622, 0.0055779567919671535, 0.00443509966135025, 0.003192752366885543, 0.001869327505119145, 0.00048507083556614816, -0.0009382427670061588, -0.0023776430170983076, -0.0038093277253210545, -0.005209051538258791, -0.006552528589963913, -0.007815849967300892, -0.008975904434919357, -0.01001079473644495, -0.010900246910750866, -0.011626001447439194, -0.012172180227935314, -0.012525622732937336, -0.012676185928285122, -0.012617004103958607, -0.01234468910843134, -0.011859487742185593, -0.011165381409227848, -0.010270114988088608, -0.00918517354875803, -0.007925685495138168, -0.0065102712251245975, -0.004960815422236919, -0.0033021860290318727, -0.0015618917532265186, 0.0002303178480360657, 0.0020429007709026337, 0.00384301645681262, 0.005597055424004793, 0.007271201815456152, 0.008832015097141266, 0.010247021913528442, 0.011485322378575802, 0.012518170289695263, 0.013319556601345539, 0.013866754248738289, 0.01414082758128643, 0.014127098955214024, 0.0138155622407794, 0.013201221823692322, 0.012284372933208942, 0.011070797219872475, 0.009571869857609272, 0.007804586086422205, 0.00579149229452014, 0.003560517681762576, 0.0011447188444435596, -0.0014180770376697183, -0.00408571632578969, -0.006812254898250103, -0.009548571892082691, -0.012243065983057022, -0.014842413365840912, -0.017292387783527374, -0.01953873038291931, -0.02152804471552372, -0.023208724334836006, -0.02453189343214035, -0.025452325120568275, -0.025929363444447517, -0.025927789509296417, -0.02541865035891533, -0.0243800338357687, -0.02279774099588394, -0.020665884017944336, -0.017987392842769623, -0.014774380251765251, -0.0110483942553401, -0.006840552669018507, -0.0021915128454566, 0.0028486864175647497, 0.008220938965678215, 0.013857530429959297, 0.0196827482432127, 0.025613637641072273, 0.03156088665127754, 0.037429869174957275, 0.04312177002429962, 0.04853487387299538, 0.05356588959693909, 0.05811142921447754, 0.06206946447491646, 0.06534092873334885, 0.06783127039670944, 0.06945201754570007, 0.07012239843606949, 0.06977084279060364, 0.06833645701408386, 0.06577043235301971, 0.06203733757138252, 0.05711628124117851, 0.05100194737315178, 0.04370546340942383, 0.03525508567690849, 0.025696709752082825, 0.015094154514372349, 0.003529241308569908, -0.008898353204131126, -0.022071465849876404, -0.035856060683727264, -0.05010206624865532, -0.06464443355798721, -0.07930444180965424, -0.09389117360115051, -0.10820325464010239, -0.12203068286180496, -0.13515695929527283, -0.14736120402812958, -0.15842054784297943, -0.16811253130435944, -0.17621763050556183, -0.1825217306613922, -0.18681880831718445, -0.18891337513923645, -0.1886230707168579, -0.18578101694583893, -0.18023817241191864, -0.17186559736728668, -0.1605563908815384, -0.14622762799263, -0.12882187962532043, -0.10830871760845184, -0.084685780107975, -0.05797966569662094, -0.028246477246284485, 0.004427902866154909, 0.03992785885930061, 0.07810842990875244, 0.1187959536910057, 0.16178913414478302, 0.2068602591753006, 0.25375691056251526, 0.3022037744522095, 0.351904958486557, 0.4025461673736572, 0.4537975490093231, 0.5053165555000305, 0.5567508339881897, 0.6077414155006409, 0.6579260230064392, 0.7069425582885742, 0.7544320225715637, 0.8000423908233643, 0.8434317708015442, 0.8842718005180359, 0.9222503900527954, 0.9570752382278442, 0.9884766340255737, 1.0162094831466675, 1.0400569438934326, 1.0598310232162476, 1.0753757953643799, 1.0865682363510132, 1.0933194160461426, 1.0955758094787598, 1.0933194160461426, 1.0865682363510132, 1.0753757953643799, 1.0598310232162476, 1.0400569438934326, 1.0162094831466675, 0.9884766340255737, 0.9570752382278442, 0.9222503900527954, 0.8842718005180359, 0.8434317708015442, 0.8000423908233643, 0.7544320225715637, 0.7069425582885742, 0.6579260230064392, 0.6077414155006409, 0.5567508339881897, 0.5053165555000305, 0.4537975490093231, 0.4025461673736572, 0.351904958486557, 0.3022037744522095, 0.25375691056251526, 0.2068602591753006, 0.16178913414478302, 0.1187959536910057, 0.07810842990875244, 0.03992785885930061, 0.004427902866154909, -0.028246477246284485, -0.05797966569662094, -0.084685780107975, -0.10830871760845184, -0.12882187962532043, -0.14622762799263, -0.1605563908815384, -0.17186559736728668, -0.18023817241191864, -0.18578101694583893, -0.1886230707168579, -0.18891337513923645, -0.18681880831718445, -0.1825217306613922, -0.17621763050556183, -0.16811253130435944, -0.15842054784297943, -0.14736120402812958, -0.13515695929527283, -0.12203068286180496, -0.10820325464010239, -0.09389117360115051, -0.07930444180965424, -0.06464443355798721, -0.05010206624865532, -0.035856060683727264, -0.022071465849876404, -0.008898353204131126, 0.003529241308569908, 0.015094154514372349, 0.025696709752082825, 0.03525508567690849, 0.04370546340942383, 0.05100194737315178, 0.05711628124117851, 0.06203733757138252, 0.06577043235301971, 0.06833645701408386, 0.06977084279060364, 0.07012239843606949, 0.06945201754570007, 0.06783127039670944, 0.06534092873334885, 0.06206946447491646, 0.05811142921447754, 0.05356588959693909, 0.04853487387299538, 0.04312177002429962, 0.037429869174957275, 0.03156088665127754, 0.025613637641072273, 0.0196827482432127, 0.013857530429959297, 0.008220938965678215, 0.0028486864175647497, -0.0021915128454566, -0.006840552669018507, -0.0110483942553401, -0.014774380251765251, -0.017987392842769623, -0.020665884017944336, -0.02279774099588394, -0.0243800338357687, -0.02541865035891533, -0.025927789509296417, -0.025929363444447517, -0.025452325120568275, -0.02453189343214035, -0.023208724334836006, -0.02152804471552372, -0.01953873038291931, -0.017292387783527374, -0.014842413365840912, -0.012243065983057022, -0.009548571892082691, -0.006812254898250103, -0.00408571632578969, -0.0014180770376697183, 0.0011447188444435596, 0.003560517681762576, 0.00579149229452014, 0.007804586086422205, 0.009571869857609272, 0.011070797219872475, 0.012284372933208942, 0.013201221823692322, 0.0138155622407794, 0.014127098955214024, 0.01414082758128643, 0.013866754248738289, 0.013319556601345539, 0.012518170289695263, 0.011485322378575802, 0.010247021913528442, 0.008832015097141266, 0.007271201815456152, 0.005597055424004793, 0.00384301645681262, 0.0020429007709026337, 0.0002303178480360657, -0.0015618917532265186, -0.0033021860290318727, -0.004960815422236919, -0.0065102712251245975, -0.007925685495138168, -0.00918517354875803, -0.010270114988088608, -0.011165381409227848, -0.011859487742185593, -0.01234468910843134, -0.012617004103958607, -0.012676185928285122, -0.012525622732937336, -0.012172180227935314, -0.011626001447439194, -0.010900246910750866, -0.01001079473644495, -0.008975904434919357, -0.007815849967300892, -0.006552528589963913, -0.005209051538258791, -0.0038093277253210545, -0.0023776430170983076, -0.0009382427670061588, 0.00048507083556614816, 0.001869327505119145, 0.003192752366885543, 0.00443509966135025, 0.0055779567919671535, 0.006605003960430622, 0.007502238731831312, 0.008258151821792126, 0.008863864466547966, 0.009313204325735569, 0.009602753445506096, 0.009731831960380077, 0.009702449664473534, 0.009519201703369617, 0.00918913446366787, 0.00872157234698534, 0.008127897046506405, 0.00742131844162941, 0.006616603583097458, 0.005729795899242163, 0.004777912516146898, 0.0037786380853503942, 0.0027500104624778032, 0.0017101096455007792, 0.0006767527083866298, -0.0003328003513161093, -0.0013021244667470455, -0.002215886488556862, -0.0030600796453654766, -0.0038222279399633408, -0.00449156342074275, -0.0050591672770679, -0.005518079269677401, -0.005863370839506388, -0.00609218142926693, -0.006203720811754465, -0.006199236027896404, -0.006081941071897745, -0.00585692236199975, -0.005531006027013063, -0.005112603306770325, -0.004611533600836992, -0.004038823768496513, -0.003406490432098508, -0.0027273171581327915, -0.0020146139431744814, -0.001281979726627469, -0.0005430609453469515, 0.0001886837708298117, 0.0009002120932564139, 0.001579113770276308, 0.0022138122003525496, 0.0027937472332268953, 0.0033095369581133127, 0.003753115888684988, 0.0041178492829203606, 0.0043986183591187, 0.004591881297528744, 0.004695701878517866, 0.004709755070507526, 0.004635300021618605, 0.004475128371268511, 0.004233489278703928, 0.003915988374501467, 0.0035294643603265285, 0.0030818514060229063, 0.002582019893452525, 0.0020396066829562187, 0.0014648360665887594, 0.0008683310588821769, 0.00026092363987118006, -0.00034653593320399523, -0.0009433675440959632, -0.0015192425344139338, -0.0020643561147153378, -0.0025695885997265577, -0.0030266507528722286, -0.003428213531151414, -0.003768018214032054, -0.004040967673063278, -0.004243196453899145, -0.004372114781290293, -0.004426433704793453, -0.004406170453876257, -0.004312620498239994, -0.004148322157561779, -0.003916987683624029, -0.0036234252620488405, -0.003273436799645424, -0.0028737052343785763, -0.002431663451716304, -0.0019553573802113533, -0.0014532976783812046, -0.0009343072306364775, -0.0004073644813615829, 0.00011855199409183115, 0.0006346174632199109, 0.001132309902459383, 0.0016035503940656781, 0.0020408357959240675, 0.0024373563937842846, 0.002787103643640876, 0.003084958530962467, 0.0033267673570662737, 0.0035093959886580706, 0.00363076850771904, 0.003689886536449194, 0.003686828538775444, 0.003622733522206545, 0.003499762387946248, 0.0033210469409823418, 0.003090621205046773, 0.0028133359737694263, 0.0024947654455900192, 0.002141099190339446, 0.0017590256175026298, 0.001355610671453178, 0.0009381698328070343, 0.0005141382571309805, 9.094149572774768e-05, -0.00032413227017968893, -0.0007240556878969073, -0.001102179056033492, -0.001452339580282569, -0.001768959336914122, -0.0020471333991736174, -0.0022827039938420057, -0.002472320105880499, -0.002613484626635909, -0.0027045838069170713, -0.002744900994002819, -0.002734617330133915, -0.0026747938245534897, -0.0025673408526927233, -0.0024149713572114706, -0.0022211424075067043, -0.0019899848848581314, -0.001726221526041627, -0.0014350755373016, -0.0011221738532185555, -0.0007934428285807371, -0.00045500064152292907, -0.00011304874351480976, 0.00022623760742135346, 0.0005568165215663612, 0.0008728828397579491, 0.0011689659440889955, 0.0014400207437574863, 0.0016815096605569124, 0.001889475155621767, 0.002060601022094488, 0.0021922613959759474, 0.0022825580090284348, 0.0023303437046706676, 0.0023352329153567553, 0.0022975981701165438, 0.0022185551933944225, 0.0020999328698962927, 0.001944233081303537, 0.00175457913428545, 0.0015346533618867397, 0.001288626343011856, 0.0010210782056674361, 0.0007369148661382496, 0.00044127760338597, 0.00013945173122920096, -0.00016322718875017017, -0.00046146666863933206, -0.0007501086220145226, -0.001024217577651143, -0.0012791631743311882, -0.0015106976497918367, -0.0017150247003883123, -0.0018888602498918772, -0.002029482973739505, -0.0021347764413803816, -0.0022032568231225014, -0.00223409291356802, -0.0022271121852099895, -0.002182797761633992, -0.002102270256727934, -0.0019872633274644613, -0.0018400856060907245, -0.0016635744832456112, -0.0014610415091738105, -0.0012362092966213822, -0.0009931429522112012, -0.0007361756870523095, -0.00046983108040876687, -0.00019874305871780962, 7.242556603159755e-05, 0.0003390638157725334, 0.0005966915632598102, 0.0008410353329963982, 0.0010680995183065534, 0.0012742321705445647, 0.001456184429116547, 0.0016111615113914013, 0.0017368656117469072, 0.001831530244089663, 0.0018939441069960594, 0.001923466450534761, 0.0019200299866497517, 0.001884136931039393, 0.0018168427050113678, 0.001719731604680419, 0.0015948835061863065, 0.001444831257686019, 0.0012725124834105372, 0.001081213471479714, 0.0008745086379349232, 0.0006561947520822287, 0.00043022280442528427, 0.00020062789553776383, -2.8542050131363794e-05, -0.00025329645723104477, -0.00046977074816823006, -0.000674291979521513, -0.0008634405676275492, -0.001034106477163732, -0.001183540327474475, -0.0013093964662402868, -0.0014097696403041482, -0.0014832228189334273, -0.0015288072172552347, -0.0015460738213732839, -0.001535074203275144, -0.001496355514973402, -0.0014309450052678585, -0.0013403266202658415, -0.0012264101533219218, -0.0010914936428889632, -0.0009382189018651843, -0.0007695214007981122, -0.0005885763675905764, -0.00039874057983979583, -0.00020349177066236734, -6.3666839196230285e-06, 0.00018910133803728968, 0.00037944401265121996, 0.0005613181856460869, 0.0007315629045479, 0.0008872527978383005, 0.0010257466929033399, 0.0011447316501289606, 0.0012422589352354407, 0.001316775567829609, 0.0013671471970155835, 0.001392673933878541, 0.0013930981513112783, 0.0013686052989214659, 0.0013198157539591193, 0.0012477708514779806, 0.0011539097176864743, 0.0010400412138551474, 0.0009083086624741554, 0.00076114950934425, 0.0006012500962242484, 0.00043149650446139276, 0.0002549224882386625, 7.465542148565874e-05, -0.00010613910126267001, -0.00028431275859475136, -0.0004567889263853431, -0.0006206158432178199, -0.0007730165380053222, -0.0009114356944337487, -0.0010335820261389017, -0.0011374655878171325, -0.0012214303715154529, -0.0012841789284721017, -0.001324792392551899, -0.001342743169516325, -0.0013379001757130027, -0.0013105280231684446, -0.0012612780556082726, -0.0011911749606952071, -0.0011015943018719554, -0.0009942363249137998, -0.0008710930706001818, -0.0007344118785113096, -0.0005866534193046391, -0.0004304475151002407, -0.00026854590396396816, -0.00010377355647506192, 6.102106999605894e-05, 0.0002230155369034037, 0.0003794620861299336, 0.0005277346936054528, 0.0006653732270933688, 0.0007901248754933476, 0.0008999809506349266, 0.0009932097746059299, 0.0010683840373530984, 0.0011244025081396103, 0.0011605066247284412, 0.0011762897484004498, 0.0011717015877366066, 0.0011470455210655928, 0.0011029700981453061, 0.0010404543718323112, 0.0009607878746464849, 0.000865545473061502, 0.0007565573323518038, 0.0006358743412420154, 0.0005057309754192829, 0.0003685041447170079, 0.00022667089069727808, 8.276411972474307e-05, -6.0671900428133085e-05, -0.00020112606580369174, -0.00033616385189816356, -0.00046346907038241625, -0.0005808831192553043, -0.0006864414317533374, -0.0007784055778756738, -0.000855292018968612, -0.0009158953325822949, -0.0009593073045834899, -0.0009849293855950236, -0.000992481131106615, -0.0009820020059123635, -0.0009538476588204503, -0.0009086814243346453, -0.0008474597707390785, -0.0007714129751548171, -0.0006820216658525169, -0.000580988300498575, -0.00047020590864121914, -0.0003517230798024684, -0.0002277069870615378, -0.00010040452616522089, 2.7897762265638448e-05, 0.00015491397061850876, 0.0002783988311421126, 0.000396186689613387, 0.0005062286509200931, 0.0006066276691854, 0.0006956703145988286, 0.0007718554697930813, 0.0008339188643731177, 0.000880853331182152, 0.0009119244641624391, 0.0009266812703572214, 0.0009249618742614985, 0.0009068944491446018, 0.000872892327606678, 0.0008236448629759252, 0.000760103517677635, 0.0006834628875367343, 0.0005951383500359952, 0.0004967395798303187, 0.00039004109567031264, 0.0002769501297734678, 0.00015947222709655762, 3.9675844163866714e-05, -8.034439088078216e-05, -0.00019850426178891212, -0.00031276620575226843, -0.0004211743944324553, -0.0005218883161433041, -0.0006132138078100979, -0.0006936315330676734, -0.0007618220988661051, -0.0008166877087205648, -0.00085736921755597, -0.0008832597522996366, -0.0008940131519921124, -0.0008895481005311012, -0.0008700476610101759, -0.0008359538624063134, -0.0007879585609771311, -0.0007269890047609806, -0.0006541904876939952, -0.0005709041724912822, -0.000478643283713609, -0.00037906435318291187, -0.0002739383198786527, -0.00016511841386090964, -5.4507385357283056e-05, 5.597581184701994e-05, 0.00016442958440165967, 0.00026900257216766477, 0.0003679255023598671, 0.000459541188320145, 0.0005423325928859413, 0.0006149481050670147, 0.0006762238335795701, 0.0007252019713632762, 0.0007611466571688652, 0.0007835543365217745, 0.0007921610958874226, 0.0007869452238082886, 0.0007681258139200509, 0.0007361571188084781, 0.0006917186547070742, 0.0006357017555274069, 0.0005691923433914781, 0.0004934504977427423, 0.0004098870849702507, 0.0003200381179340184, 0.00022553681628778577, 0.0001280845026485622, 2.9420321880024858e-05, -6.870942888781428e-05, -0.00016458184109069407, -0.0002565272734500468, -0.00034295825753360987, -0.0004223964351695031, -0.000493497762363404, -0.0005550748901441693, -0.0006061167805455625, -0.000645805208478123, -0.0006735275965183973, -0.0006888860953040421, -0.0006917031132616103, -0.0006820228300057352, -0.0006601089844480157, -0.0006264383555389941, -0.0005816910415887833, -0.0005267373053357005, -0.0004626207228284329, -0.00039053894579410553, -0.0003118215245194733, -0.00022790575167164207, -0.00014031071623321623, -5.061026240582578e-05, 3.959502646466717e-05, 0.00012870597129222006, 0.00021515286061912775, 0.0002974226081278175, 0.0003740849206224084, 0.0004438168543856591, 0.0005054251523688436, 0.0005578662385232747, 0.0006002638256177306, 0.0006319226231426001, 0.0006523397751152515, 0.0006612123688682914, 0.000658441218547523, 0.0006441315053962171, 0.0006185896345414221, 0.0005823165411129594, 0.0005359978531487286, 0.00048049064935185015, 0.0004168073646724224, 0.0003460973675828427, 0.0002696258598007262, 0.00018875120440497994, 0.00010490053682588041, 1.9544562746887095e-05, -6.582839705515653e-05, -0.00014973845100030303, -0.00023073991178534925, -0.00030744620016776025, -0.000378553697373718, -0.0004428638785611838, -0.000499303569085896, -0.0005469428142532706, -0.0005850102170370519, -0.0006129052489995956, -0.0006302077672444284, -0.0006366842426359653, -0.0006322901463136077, -0.0006171701825223863, -0.0005916543304920197, -0.0005562505684792995, -0.0005116353277117014, -0.00045864054118283093, -0.0003982379275839776, -0.0003315214707981795, -0.0002596873673610389, -0.00018401266424916685, -0.00010583246330497786, -2.6516292564338073e-05, 5.2555955335265025e-05, 0.0001300181174883619, 0.00020454145851545036, 0.0002748575934674591, 0.00033978011924773455, 0.0003982248017564416, 0.00044922775123268366, 0.0004919614875689149, 0.0005257483571767807, 0.0005500713014043868, 0.0005645822384394705, 0.000569106312468648, 0.0005636443383991718, 0.0005483714048750699, 0.0005236326833255589, 0.0004899364430457354, 0.000447943719336763, 0.00039845608989708126, 0.00034240062814205885, 0.00028081293567083776, 0.00021481825388036668, 0.00014561125135514885, 7.44346616556868e-05, 2.557304014771944e-06, -6.874836981296539e-05, -0.00013822849723510444, -0.00020466963178478181, -0.00026691972743719816, -0.00032390793785452843, -0.0003746628062799573, -0.0004183286218903959, -0.000454179709777236, -0.0004816324799321592, -0.0005002544494345784, -0.0005097711109556258, -0.0005100697744637728, -0.0005012004403397441, -0.00048337405314669013, -0.00045695772860199213, -0.0004224675358273089, -0.00038055836921557784, -0.0003320119285490364, -0.0002777219342533499, -0.00021867817849852145, -0.00015594840806443244, -9.065923222806305e-05, -2.397605021542404e-05, 4.2917552491417155e-05, 0.00010884064977290109, 0.00017263562767766416, 0.0002331882860744372, 0.00028944716905243695, 0.0003404415328986943, 0.00038529798621311784, 0.00042325505637563765, 0.0004536760097835213, 0.00047605944564566016, 0.0004900469211861491, 0.0004954288597218692, 0.0004921471700072289, 0.0004802954790648073, 0.000460116658359766, 0.0004319978761486709, 0.00039646291406825185, 0.00035416235914453864, 0.000305861554807052, 0.0002524266019463539, 0.00019480873015709221, 0.0001340271846856922, 7.11511675035581e-05, 7.2808015829650685e-06, -5.6472126743756235e-05, -0.00011900366371264681, -0.00017923688574228436, -0.0002361404913244769, -0.00028874663985334337, -0.0003361673152539879, -0.0003776094818022102, -0.0004123882681597024, -0.00043993847793899477, -0.0004598235827870667, -0.0004717427073046565, -0.0004755351401399821, -0.0004711823130492121, -0.00045880721881985664, -0.000438671704614535, -0.0004111708840355277, -0.00037682565744034946, -0.00033627290395088494, -0.0002902536070905626, -0.00023959946702234447, -0.00018521783931646496, -0.0001280754804611206, -6.918134749867022e-05, -9.568802852299996e-06, 4.97225955768954e-05, 0.00010766521882032976, 0.00016326125478371978, 0.00021555990679189563, 0.0002636737481225282, 0.00030679383780807257, 0.000344203261192888, 0.00037528929533436894, 0.0003995534498244524, 0.0004166194121353328, 0.0004262389265932143, 0.0004282955778762698, 0.00042280578054487705, 0.0004099179641343653, 0.00038990899338386953, 0.00036317884223535657, 0.00033024264848791063, 0.0002917211677413434, 0.0002483293355908245, 0.00020086320000700653, 0.00015018542762845755, 9.72099878708832e-05, 4.28857711085584e-05, -1.182020605483558e-05, -6.59398065181449e-05, -0.00011852076568175107, -0.00016864323697518557, -0.0002154357935069129, -0.0002580903237685561, -0.00029587597236968577, -0.0003281514218542725, -0.0003543756320141256, -0.00037411690573208034, -0.00038705981569364667, -0.00039300997741520405, -0.000391897076042369, -0.0003837751573882997, -0.00036882137646898627, -0.00034733189386315644, -0.0003197163459844887, -0.0002864899579435587, -0.00024826396838761866, -0.00020573458459693938, -0.00015967019135132432, -0.00011089757754234597, -6.0287213273113593e-05, -8.737772077438422e-06, 4.2839772504521534e-05, 9.353812492918223e-05, 0.00014246955106500536, 0.0001887812977656722, 0.0002316703466931358, 0.0002703972568269819, 0.00030429873731918633, 0.0003327989252284169, 0.0003554190625436604, 0.0003717852814588696, 0.0003816347452811897, 0.0003848197520710528, 0.00038130953907966614, 0.0003711905737873167, 0.00035466422559693456, 0.0003320428659208119, 0.0003037437272723764, 0.0002702813071664423, 0.0002322577201994136, 0.00019035192963201553, 0.00014530742191709578, 9.79189935605973e-05, 4.9018559366231784e-05, -5.394830964178254e-07, -4.989328590454534e-05, -9.81886187219061e-05, -0.0001445937668904662, -0.00018831383204087615, -0.00022860453464090824, -0.0002647848741617054, -0.00029624876333400607, -0.00032247501076199114, -0.00034303637221455574, -0.0003576060989871621, -0.0003659635258372873, -0.0003679970686789602, -0.00036370588350109756, -0.0003531990514602512, -0.0003366934251971543, -0.000314509030431509, -0.0002870631287805736, -0.00025486235972493887, -0.00021849351469427347, -0.00017861278320197016, -0.00013593406765721738, -9.121614129981026e-05, -4.524919859250076e-05, 1.1590850590437185e-06, 4.7197758249239996e-05, 9.206677350448444e-05, 0.00013499089982360601, 0.0001752331154420972, 0.00021210734848864377, 0.0002449900784995407, 0.0002733310975600034, 0.00029666253249160945, 0.0003146067319903523, 0.00032688246574252844, 0.00033330911537632346, 0.000333809555741027, 0.00032841088250279427, 0.0003172433644067496, 0.00030053764930926263, 0.00027862031129188836, 0.0002519075642339885, 0.00022089749108999968, 0.00018616102170199156, 0.00014833149907644838, 0.00010809325613081455, 6.616944301640615e-05, 2.330912320758216e-05, -1.9725972379092127e-05, -6.217484042281285e-05, -0.00010329054202884436, -0.00014235323760658503, -0.0001786826178431511, -0.00021164970530662686, -0.00024068760103546083, -0.0002653011179063469, -0.0002850751334335655, -0.0002996815019287169, -0.0003088843368459493, -0.000312543852487579, -0.00031061822664923966, -0.0003031638916581869, -0.00029033434111624956, -0.00027237660833634436, -0.0002496268425602466, -0.0002225038333563134, -0.0001915014290716499, -0.00015717947098892182, -0.00012015370157314464, -8.108479960355908e-05, -4.066653491463512e-05, 3.8645302424811234e-07, 4.135130802751519e-05, 8.15096209407784e-05, 0.00012015997344860807, 0.00015663017984479666, 0.00019028884707950056, 0.00022055633598938584, 0.00024691459839232266, 0.00026891601737588644, 0.0002861908869817853, 0.0002984536695294082, 0.000305507390294224, 0.00030724695534445345, 0.00030366037390194833, 0.0002948288165498525, 0.00028092454886063933, 0.0002622076135594398, 0.00023902099928818643, 0.00021178422321099788, 0.00018098566215485334, 0.00014717374870087951, 0.00011094712681369856, 7.294399256352335e-05, 3.3830769098130986e-05, -5.7096235650533345e-06, -4.498978523770347e-05, -8.332983998116106e-05, -0.00012006928591290489, -0.00015457837434951216, -0.00018626906967256218, -0.0002146050101146102, -0.0002391107118455693, -0.0002593795652501285, -0.0002750805870164186, -0.00028596396441571414, -0.0002918649115599692, -0.00029270618688315153, -0.0002884991990868002, -0.0002793431340251118, -0.0002654230338521302, -0.00024700610083527863, -0.0002244366187369451, -0.00019812965183518827, -0.00016856340516824275, -0.00013627063890453428, -0.0001018290568026714, -6.585103255929425e-05, -2.8972743166377768e-05, 8.15704606793588e-06, 4.4888398406328633e-05, 8.05815652711317e-05, 0.00011461813119240105, 0.00014641167945228517, 0.0001754179975250736, 0.00020114428480155766, 0.00022315762180369347, 0.0002410921879345551, 0.00025465551880188286, 0.0002636329736560583, 0.0002678915043361485, 0.00026738137239590287, 0.0002621367166284472, 0.00025227447622455657, 0.0002379921788815409, 0.00021956390992272645, 0.00019733526278287172, 0.0001717169361654669, 0.0001431772980140522, 0.00011223383626202121, 7.94439620221965e-05, 4.539500150713138e-05, 1.0693815966078546e-05, -2.4043951270869002e-05, -5.8204685046803206e-05, -9.118755406234413e-05, -0.00012241497461218387, -0.0001513426541350782, -0.00017746897356119007, -0.00020034360932186246, -0.00021957520220894367, -0.00023483797849621624, -0.00024587722145952284, -0.0002525133895687759, -0.0002546449832152575, -0.00025224994169548154, -0.0002453858614899218, -0.00023418849741574377, -0.00021886915783397853, -0.0001997107028728351, -0.00017706227663438767, -0.00015133293345570564, -0.0001229842600878328, -9.25220301724039e-05, -6.048725845175795e-05, -2.7446523745311424e-05, 6.018019121256657e-06, 3.9318885683314875e-05, 7.187359005911276e-05, 0.00010311476944480091, 0.0001325001212535426, 0.0001595216745045036, 0.00018371471378486603, 0.00020466558635234833, 0.00022201875981409103, 0.00023548291937913746, 0.00024483565357513726, 0.00024992722319439054, 0.00025068281684070826, 0.0002471035113558173, 0.00023926608264446259, 0.00022732130310032517, 0.00021149097301531583, 0.00019206388969905674, 0.00016939039051067084, 0.00014387612463906407, 0.00011597463890211657, 8.617934508947656e-05, 5.5014716053847224e-05, 2.3027005227049813e-05, -9.225382200384047e-06, -4.118167998967692e-05, -7.228857430163771e-05, -0.00010200979886576533, -0.0001298354909522459, -0.0001552909379824996, -0.00017794467567000538, -0.0001974159968085587, -0.00021338123769965023, -0.00022557923512067646, -0.000233815677347593, -0.00023796616005711257, -0.00023797809262759984, -0.00023387132387142628, -0.00022573747264686972, -0.000213738065212965, -0.00019810131925623864, -0.00017911801114678383, -0.00015713601897004992, -0.00013255405065137893, -0.00010581450624158606, -7.739542343188077e-05, -4.780208837473765e-05, -1.7558053514221683e-05, 1.2804123798559885e-05, 4.275220271665603e-05, 7.176359940785915e-05, 9.933445107890293e-05, 0.00012498839350882918, 0.00014828475832473487, 0.00016882615454960614, 0.0001862652279669419, 0.00020031056192237884, 0.00021073146490380168, 0.00021736191411036998, 0.00022010301472619176, 0.0002189246006309986, 0.00021386540902312845, 0.00020503216364886612, 0.000192597319255583, 0.0001767959474818781, 0.00015792122576385736, 0.00013631914043799043, 0.0001123821348301135, 8.654213888803497e-05, 5.9262798458803445e-05, 3.103120980085805e-05, 2.3493046228395542e-06, -2.6275003619957715e-05, -5.4336749599315226e-05, -8.134276140481234e-05, -0.00010682025458663702, -0.00013032506103627384, -0.00015144924691412598, -0.00016982821398414671, -0.00018514688417781144, -0.00019714501104317605, -0.00020562158897519112, -0.0002104380982927978, -0.00021152078988961875, -0.00020886164566036314, -0.0002025183493969962, -0.0001926129771163687, -0.00017932969785761088, -0.00016291129577439278, -0.0001436546299373731, -0.00012190539564471692, -9.80517579591833e-05, -7.251749048009515e-05, -4.575438651954755e-05, -1.8234271919936873e-05, 9.559327736496925e-06, 3.713968544616364e-05, 6.402540748240426e-05, 8.974883530754596e-05, 0.00011386415280867368, 0.0001359551533823833, 0.00015564235218334943, 0.00017258957086596638, 0.0001865095691755414, 0.0001971689343918115, 0.00020439202489797026, 0.00020806373504456133, 0.00020813131413888186, 0.00020460515224840492, 0.00019755825633183122, 0.00018712478049565107, 0.0001734975230647251, 0.00015692427405156195, 0.00013770328951068223, 0.00011617794370977208, 9.273053728975356e-05, 6.777545786462724e-05, 4.175184221821837e-05, 1.5115842870727647e-05, -1.1667463695630431e-05, -3.8132191548356786e-05, -6.381978892022744e-05, -8.828705176711082e-05, -0.00011111376079497859, -0.00013190996833145618, -0.00015032269584480673, -0.00016604195116087794, -0.0001788059453247115, -0.00018840556731447577, -0.00019468777463771403, -0.0001975580380531028, -0.00019698182586580515, -0.00019298492406960577, -0.0001856527669588104, -0.00017512876365799457, -0.00016161144594661891, -0.00014535091759171337, -0.00012664421228691936, -0.00010582989489194006, -8.328202238772064e-05, -5.9403449995443225e-05, -3.461865344434045e-05, -9.366236554342322e-06, 1.5908812201814726e-05, 4.076293043908663e-05, 6.476174166891724e-05, 8.748762047616765e-05, 0.00010854696301976219, 0.00012757696094922721, 0.00014425182598643005, 0.0001582884433446452, 0.0001694510574452579, 0.00017755529552232474, 0.0001824711507651955, 0.00018412515055388212, 0.00018250133143737912, 0.0001776413555489853, 0.0001696435792837292, 0.000158661074237898, 0.00014489881868939847, 0.000128609812236391, 0.00011009055015165359, 8.967566100182012e-05, 6.773187487851828e-05, 4.465148595045321e-05, 2.084539482893888e-05, -3.2641632969898637e-06, -2.7251064238953404e-05, -5.069277904112823e-05, -7.317775452975184e-05, -9.431262878933921e-05, -0.00011372900189599022, -0.00013108988059684634, -0.0001460953790228814, -0.0001584879937581718, -0.00016805683844722807, -0.0001746412308420986, -0.00017813337035477161, -0.00017847998242359608, -0.00017568317707628012, -0.0001698001433396712, -0.00016094192687887698, -0.00014927145093679428, -0.00013500037312041968, -0.00011838525824714452, -9.972296538762748e-05, -7.934525638120249e-05, -5.7612949603935704e-05, -3.4909458918264136e-05, -1.1634022484940942e-05, 1.1805315807578154e-05, 3.499889498925768e-05, 5.754260200774297e-05, 7.904491940280423e-05, 9.913370740832761e-05, 0.00011746271775336936, 0.00013371747627388686, 0.00014762076898477972, 0.00015893721138127148, 0.00016747746849432588, 0.00017310115799773484, 0.00017571929492987692, 0.00017529564502183348, 0.00017184714670293033, 0.00016544348909519613, 0.00015620562771800905, 0.0001443036599084735, 0.00012995346332900226, 0.0001134129852289334, 9.497744031250477e-05, 7.497408660128713e-05, 5.3756408306071535e-05, 3.1697796657681465e-05, 9.185018825519364e-06, -1.3388643310463522e-05, -3.563024802133441e-05, -5.715408769901842e-05, -7.75883745518513e-05, -9.65817307587713e-05, -0.00011380920477677137, -0.00012897791748400778, -0.0001418320316588506, -0.0001521570811746642, -0.0001597836089786142, -0.0001645899610593915, -0.00016650420730002224, -0.00016550530563108623, -0.00016162316023837775, -0.00015493802493438125, -0.0001455789024475962, -0.00013372107059694827, -0.00011958286631852388, -0.00010342172026867047, -8.552950748708099e-05, -6.622732325922698e-05, -4.58597278338857e-05, -2.4788667360553518e-05, -3.3870473998831585e-06, 1.7967826352105476e-05, 3.890087464242242e-05, 5.904579666093923e-05, 7.805148925399408e-05, 9.558809688314795e-05, 0.00011135275417473167, 0.00012507480278145522, 0.00013652036432176828, 0.00014549640764016658, 0.00015185393567662686, 0.00015549043018836528, 0.0001563514961162582, 0.0001544317346997559, 0.00014977453975006938, 0.00014247128274291754, 0.00013265952293295413, 0.00012052038800902665, 0.00010627532174112275, 9.018206037580967e-05, 7.252994691953063e-05, 5.363481614040211e-05, 3.383332659723237e-05, 1.3477028005581815e-05, -7.0738828981120605e-06, -2.745687925198581e-05, -4.7313482355093583e-05, -6.62955135339871e-05, -8.407120185438544e-05, -0.00010033089347416535, -0.00011479244130896404, -0.00012720610538963228, -0.00013735871470998973, -0.00014507742889691144, -0.00015023253217805177, -0.00015273960889317095, -0.0001525609550299123, -0.00014970592746976763, -0.00014423084212467074, -0.00013623769336845726, -0.00012587230594363064, -0.00011332159920129925, -9.881024743663147e-05, -8.25965908006765e-05, -6.496801506727934e-05, -4.623587301466614e-05, -2.6729918317869306e-05, -6.7924975155619904e-06, 1.3227464478404727e-05, 3.298060255474411e-05, 5.212322139414027e-05, 7.032328721834347e-05, 8.72661912580952e-05, 0.0001026602039928548, 0.00011624152102740481, 0.00012777875235769898, 0.0001370769168715924, 0.0001439806801499799, 0.00014837700291536748, 0.00015019692364148796, 0.00014941672270651907, 0.00014605808246415108, 0.0001401876361342147, 0.0001319156144745648, 0.0001213938303408213, 0.00010881289199460298, 9.439867426408455e-05, 7.840833131922409e-05, 6.112568371463567e-05, 4.285615432308987e-05, 2.3921364117995836e-05, 4.653471023630118e-06, -1.4610689504479524e-05, -3.3535496186232194e-05, -5.1792409067275e-05, -6.906569615239277e-05, -8.505791629431769e-05, -9.949503873940557e-05, -0.0001121311797760427, -0.0001227527973242104, -0.00013118232891429216, -0.00013728121120948344, -0.00014095207734499127, -0.0001421404303982854, -0.00014083537098485976, -0.0001370697282254696, -0.00013091925939079374, -0.00012250123836565763, -0.00011197222193004563, -9.952519758371636e-05, -8.538610563846305e-05, -6.980972830206156e-05, -5.307517130859196e-05, -3.548086897353642e-05, -1.733931276248768e-05, 1.028490601129306e-06, 1.9298651750432327e-05, 3.7150097341509536e-05, 5.427018186310306e-05, 7.03601399436593e-05, 8.514027285855263e-05, 9.835480886977166e-05, 0.000109776301542297, 0.00011920950782950968, 0.0001264947495656088, 0.00013151053281035274, 0.00013417567242868245, 0.00013445048534777015, 0.00013233735808171332, 0.0001278806885238737, 0.00012116588186472654, 0.0001123177062254399, 0.00010149808076675981, 8.890304889064282e-05, 7.475927122868598e-05, 5.931995838182047e-05, 4.286035255063325e-05, 2.5672825358924456e-05, 8.061712833296042e-06, -9.662050615588669e-06, -2.7186413717572577e-05, -4.420366894919425e-05, -6.0415841289795935e-05, -7.553987961728126e-05, -8.931256161304191e-05, -0.00010149507579626516, -0.00011187710333615541, -0.00012028047058265656, -0.0001265621103812009, -0.00013061653589829803, -0.00013237750681582838, -0.0001318191789323464, -0.00012895636609755456, -0.00012384416186250746, -0.00011657694267341867, -0.00010728649067459628, -9.613967995392159e-05, -8.333541336469352e-05, -6.910104275448248e-05, -5.368833808461204e-05, -3.736900180228986e-05, -2.0429848518688232e-05, -3.1677589049650123e-06, 1.4115548765403219e-05, 3.1118805054575205e-05, 4.754646579385735e-05, 6.311385368462652e-05, 7.755209662718698e-05, 9.06128334463574e-05, 0.00010207243030890822, 0.00011173585517099127, 0.00011943999561481178, 0.00012505643826443702, 0.0001284935715375468, 0.00012969813542440534, 0.00012865595635958016, 0.00012539216550067067, 0.00011997057299595326, 0.00011249251110712066, 0.00010309486970072612, 9.194766607834026e-05, 7.925088721094653e-05, 6.523099727928638e-05, 5.013684130972251e-05, 3.4235235943924636e-05, 1.7806238247430883e-05, 1.1382376214896794e-06, -1.547714782645926e-05, -3.175016536260955e-05, -4.739798896480352e-05, -6.214965833351016e-05, -7.575075869681314e-05, -8.796786278253421e-05, -9.85924998531118e-05, -0.00010744477913249284, -0.00011437639477662742, -0.00011927317245863378, -0.00012205693201394752, -0.00012268676073290408, -0.0001211596027133055, -0.00011751019337680191, -0.00011181037552887574, -0.00010416765144327655, -9.472324018133804e-05, -8.364951645489782e-05, -7.114684558473527e-05, -5.74400182813406e-05, -4.277423431631178e-05, -2.7410738766775467e-05, -1.162219177786028e-05, 4.312134024075931e-06, 2.0111277990508825e-05, 3.5497520002536476e-05, 5.0201233534608036e-05, 6.396559183485806e-05, 7.655104855075479e-05, 8.773944864515215e-05, 9.73378264461644e-05, 0.00010518171620788053, 0.00011113791697425768, 0.000115106777229812, 0.00011702383199008182, 0.00011686082871165127, 0.00011462613474577665, 0.00011036446812795475, 0.00010415600263513625, 9.611492714611813e-05, 8.638726285425946e-05, 7.514828030252829e-05, 6.259929796215147e-05, 4.8964142479235306e-05, 3.448508869041689e-05)\n",
            "[3.44850887e-05 4.89641425e-05 6.25992980e-05 ... 6.25992980e-05\n",
            " 4.89641425e-05 3.44850887e-05]\n",
            "2816\n"
          ],
          "name": "stdout"
        },
        {
          "output_type": "display_data",
          "data": {
            "image/png": "[encoded data removed]",
            "text/plain": [
              "<Figure size 432x288 with 1 Axes>"
            ]
          },
          "metadata": {
            "tags": []
          }
        }
      ]
    },
    {
      "cell_type": "code",
      "metadata": {
        "id": "sVn8aoy4qP2Y",
        "colab_type": "code",
        "colab": {
          "base_uri": "https://localhost:8080/",
          "height": 1000
        },
        "outputId": "e91fd1ef-723e-47d7-c841-4da7253c440e"
      },
      "source": [
        "!apt update\n",
        "!apt dist-upgrade\n",
        "!apt-get install python-pyqt5\n"
      ],
      "execution_count": null,
      "outputs": [
        {
          "output_type": "stream",
          "text": [
            "\u001b[33m\r0% [Working]\u001b[0m\r            \rIgn:1 https://developer.download.nvidia.com/compute/cuda/repos/ubuntu1804/x86_64  InRelease\n",
            "\u001b[33m\r0% [Connecting to archive.ubuntu.com (91.189.88.24)] [Connecting to security.ub\u001b[0m\r                                                                               \rIgn:2 https://developer.download.nvidia.com/compute/machine-learning/repos/ubuntu1804/x86_64  InRelease\n",
            "\u001b[33m\r0% [Connecting to archive.ubuntu.com (91.189.88.24)] [Waiting for headers] [Con\u001b[0m\r                                                                               \rHit:3 https://developer.download.nvidia.com/compute/cuda/repos/ubuntu1804/x86_64  Release\n",
            "\u001b[33m\r0% [Waiting for headers] [Waiting for headers] [Connected to cloud.r-project.or\u001b[0m\u001b[33m\r0% [Release.gpg gpgv 564 B] [Waiting for headers] [Waiting for headers] [Connec\u001b[0m\r                                                                               \rHit:4 https://developer.download.nvidia.com/compute/machine-learning/repos/ubuntu1804/x86_64  Release\n",
            "\u001b[33m\r0% [Release.gpg gpgv 564 B] [Waiting for headers] [Waiting for headers] [Connec\u001b[0m\r                                                                               \rHit:5 http://ppa.launchpad.net/graphics-drivers/ppa/ubuntu bionic InRelease\n",
            "\u001b[33m\r0% [Release.gpg gpgv 564 B] [Waiting for headers] [Waiting for headers] [Connec\u001b[0m\r                                                                               \rHit:6 http://security.ubuntu.com/ubuntu bionic-security InRelease\n",
            "Hit:8 http://archive.ubuntu.com/ubuntu bionic InRelease\n",
            "Hit:10 http://archive.ubuntu.com/ubuntu bionic-updates InRelease\n",
            "Hit:11 http://ppa.launchpad.net/marutter/c2d4u3.5/ubuntu bionic InRelease\n",
            "Hit:12 https://cloud.r-project.org/bin/linux/ubuntu bionic-cran35/ InRelease\n",
            "Hit:13 http://archive.ubuntu.com/ubuntu bionic-backports InRelease\n",
            "Reading package lists... Done\n",
            "Building dependency tree       \n",
            "Reading state information... Done\n",
            "33 packages can be upgraded. Run 'apt list --upgradable' to see them.\n",
            "Reading package lists... Done\n",
            "Building dependency tree       \n",
            "Reading state information... Done\n",
            "Calculating upgrade... Done\n",
            "The following package was automatically installed and is no longer required:\n",
            "  libnvidia-common-430\n",
            "Use 'apt autoremove' to remove it.\n",
            "The following NEW packages will be installed:\n",
            "  cuda-license-10-2\n",
            "The following packages have been kept back:\n",
            "  libcudnn7 libcudnn7-dev libnccl-dev libnccl2\n",
            "The following packages will be upgraded:\n",
            "  git git-man libcublas-dev libcublas10 libdevmapper1.02.1 libnss3\n",
            "  libnvidia-cfg1-440 libnvidia-common-430 libnvidia-common-440\n",
            "  libnvidia-compute-440 libnvidia-decode-440 libnvidia-encode-440\n",
            "  libnvidia-fbc1-440 libnvidia-gl-440 libnvidia-ifr1-440 libpulse0\n",
            "  libsqlite3-0 libssh-gcrypt-4 nvidia-compute-utils-440 nvidia-dkms-440\n",
            "  nvidia-driver-440 nvidia-kernel-common-440 nvidia-kernel-source-440\n",
            "  nvidia-utils-440 r-cran-roxygen2 r-cran-rversions r-cran-survival\n",
            "  r-cran-testthat xserver-xorg-video-nvidia-440\n",
            "29 upgraded, 1 newly installed, 0 to remove and 4 not upgraded.\n",
            "Need to get 201 MB of archives.\n",
            "After this operation, 11.4 MB of additional disk space will be used.\n",
            "Get:1 https://developer.download.nvidia.com/compute/cuda/repos/ubuntu1804/x86_64  cuda-license-10-2 10.2.89-1 [16.4 kB]\n",
            "Get:2 https://developer.download.nvidia.com/compute/cuda/repos/ubuntu1804/x86_64  libcublas10 10.2.2.89-1 [42.2 MB]\n",
            "Get:3 http://archive.ubuntu.com/ubuntu bionic-updates/main amd64 libdevmapper1.02.1 amd64 2:1.02.145-4.1ubuntu3.18.04.2 [127 kB]\n",
            "Get:4 http://ppa.launchpad.net/graphics-drivers/ppa/ubuntu bionic/main amd64 libnvidia-common-440 all 440.44-0ubuntu0~0.18.04.1 [11.1 kB]\n",
            "Get:5 https://developer.download.nvidia.com/compute/cuda/repos/ubuntu1804/x86_64  libcublas-dev 10.2.2.89-1 [42.3 MB]\n",
            "Get:6 http://ppa.launchpad.net/graphics-drivers/ppa/ubuntu bionic/main amd64 nvidia-driver-440 amd64 440.44-0ubuntu0~0.18.04.1 [414 kB]\n",
            "Get:7 http://archive.ubuntu.com/ubuntu bionic-updates/main amd64 libsqlite3-0 amd64 3.22.0-1ubuntu0.2 [498 kB]\n",
            "Get:8 http://archive.ubuntu.com/ubuntu bionic-updates/main amd64 git-man all 1:2.17.1-1ubuntu0.5 [803 kB]\n",
            "Get:9 http://archive.ubuntu.com/ubuntu bionic-updates/main amd64 git amd64 1:2.17.1-1ubuntu0.5 [3,912 kB]\n",
            "Get:10 http://ppa.launchpad.net/graphics-drivers/ppa/ubuntu bionic/main amd64 libnvidia-decode-440 amd64 440.44-0ubuntu0~0.18.04.1 [1,027 kB]\n",
            "Get:11 http://archive.ubuntu.com/ubuntu bionic-updates/main amd64 libnss3 amd64 2:3.35-2ubuntu2.6 [1,136 kB]\n",
            "Get:12 http://archive.ubuntu.com/ubuntu bionic-updates/main amd64 libpulse0 amd64 1:11.1-1ubuntu7.4 [265 kB]\n",
            "Get:13 http://archive.ubuntu.com/ubuntu bionic-updates/main amd64 libssh-gcrypt-4 amd64 0.8.0~20170825.94fa1e38-1ubuntu0.5 [172 kB]\n",
            "Get:14 http://ppa.launchpad.net/graphics-drivers/ppa/ubuntu bionic/main amd64 libnvidia-compute-440 amd64 440.44-0ubuntu0~0.18.04.1 [20.9 MB]\n",
            "Get:15 http://ppa.launchpad.net/graphics-drivers/ppa/ubuntu bionic/main amd64 libnvidia-gl-440 amd64 440.44-0ubuntu0~0.18.04.1 [62.7 MB]\n",
            "Get:16 http://ppa.launchpad.net/graphics-drivers/ppa/ubuntu bionic/main amd64 nvidia-dkms-440 amd64 440.44-0ubuntu0~0.18.04.1 [27.4 kB]\n",
            "Get:17 http://ppa.launchpad.net/graphics-drivers/ppa/ubuntu bionic/main amd64 nvidia-kernel-source-440 amd64 440.44-0ubuntu0~0.18.04.1 [13.1 MB]\n",
            "Get:18 http://ppa.launchpad.net/graphics-drivers/ppa/ubuntu bionic/main amd64 nvidia-kernel-common-440 amd64 440.44-0ubuntu0~0.18.04.1 [11.0 kB]\n",
            "Get:19 http://ppa.launchpad.net/graphics-drivers/ppa/ubuntu bionic/main amd64 nvidia-compute-utils-440 amd64 440.44-0ubuntu0~0.18.04.1 [74.6 kB]\n",
            "Get:20 http://ppa.launchpad.net/graphics-drivers/ppa/ubuntu bionic/main amd64 libnvidia-encode-440 amd64 440.44-0ubuntu0~0.18.04.1 [38.9 kB]\n",
            "Get:21 http://ppa.launchpad.net/graphics-drivers/ppa/ubuntu bionic/main amd64 nvidia-utils-440 amd64 440.44-0ubuntu0~0.18.04.1 [347 kB]\n",
            "Get:22 http://ppa.launchpad.net/graphics-drivers/ppa/ubuntu bionic/main amd64 xserver-xorg-video-nvidia-440 amd64 440.44-0ubuntu0~0.18.04.1 [1,480 kB]\n",
            "Get:23 http://ppa.launchpad.net/graphics-drivers/ppa/ubuntu bionic/main amd64 libnvidia-ifr1-440 amd64 440.44-0ubuntu0~0.18.04.1 [69.8 kB]\n",
            "Get:24 http://ppa.launchpad.net/graphics-drivers/ppa/ubuntu bionic/main amd64 libnvidia-fbc1-440 amd64 440.44-0ubuntu0~0.18.04.1 [50.1 kB]\n",
            "Get:25 http://ppa.launchpad.net/graphics-drivers/ppa/ubuntu bionic/main amd64 libnvidia-cfg1-440 amd64 440.44-0ubuntu0~0.18.04.1 [72.4 kB]\n",
            "Get:26 http://ppa.launchpad.net/graphics-drivers/ppa/ubuntu bionic/main amd64 libnvidia-common-430 all 430.64-0ubuntu0~gpu18.04.1 [9,868 B]\n",
            "Get:27 http://ppa.launchpad.net/marutter/c2d4u3.5/ubuntu bionic/main amd64 r-cran-roxygen2 amd64 7.0.2-1cran1ppabionic0 [575 kB]\n",
            "Get:28 http://ppa.launchpad.net/marutter/c2d4u3.5/ubuntu bionic/main amd64 r-cran-rversions all 2.0.1-1cran1ppabionic0 [65.9 kB]\n",
            "Get:29 http://ppa.launchpad.net/marutter/c2d4u3.5/ubuntu bionic/main amd64 r-cran-survival amd64 3.1-8-1cran1ppabionic0 [7,420 kB]\n",
            "Get:30 http://ppa.launchpad.net/marutter/c2d4u3.5/ubuntu bionic/main amd64 r-cran-testthat amd64 2.3.1-1cran1ppabionic0 [1,024 kB]\n",
            "Fetched 201 MB in 39s (5,093 kB/s)\n",
            "(Reading database ... 157705 files and directories currently installed.)\n",
            "Preparing to unpack .../00-libdevmapper1.02.1_2%3a1.02.145-4.1ubuntu3.18.04.2_amd64.deb ...\n",
            "Unpacking libdevmapper1.02.1:amd64 (2:1.02.145-4.1ubuntu3.18.04.2) over (2:1.02.145-4.1ubuntu3.18.04.1) ...\n",
            "Preparing to unpack .../01-libsqlite3-0_3.22.0-1ubuntu0.2_amd64.deb ...\n",
            "Unpacking libsqlite3-0:amd64 (3.22.0-1ubuntu0.2) over (3.22.0-1ubuntu0.1) ...\n",
            "Selecting previously unselected package cuda-license-10-2.\n",
            "Preparing to unpack .../02-cuda-license-10-2_10.2.89-1_amd64.deb ...\n",
            "Unpacking cuda-license-10-2 (10.2.89-1) ...\n",
            "Preparing to unpack .../03-git-man_1%3a2.17.1-1ubuntu0.5_all.deb ...\n",
            "Unpacking git-man (1:2.17.1-1ubuntu0.5) over (1:2.17.1-1ubuntu0.4) ...\n",
            "Preparing to unpack .../04-git_1%3a2.17.1-1ubuntu0.5_amd64.deb ...\n",
            "Unpacking git (1:2.17.1-1ubuntu0.5) over (1:2.17.1-1ubuntu0.4) ...\n",
            "Preparing to unpack .../05-libcublas10_10.2.2.89-1_amd64.deb ...\n",
            "Unpacking libcublas10 (10.2.2.89-1) over (10.2.1.243-1) ...\n",
            "Preparing to unpack .../06-libcublas-dev_10.2.2.89-1_amd64.deb ...\n",
            "Unpacking libcublas-dev (10.2.2.89-1) over (10.2.1.243-1) ...\n",
            "Preparing to unpack .../07-libnss3_2%3a3.35-2ubuntu2.6_amd64.deb ...\n",
            "Unpacking libnss3:amd64 (2:3.35-2ubuntu2.6) over (2:3.35-2ubuntu2.5) ...\n",
            "Preparing to unpack .../08-libnvidia-common-440_440.44-0ubuntu0~0.18.04.1_all.deb ...\n",
            "Unpacking libnvidia-common-440 (440.44-0ubuntu0~0.18.04.1) over (440.36-0ubuntu0~0.18.04.1) ...\n",
            "Preparing to unpack .../09-nvidia-driver-440_440.44-0ubuntu0~0.18.04.1_amd64.deb ...\n",
            "Unpacking nvidia-driver-440 (440.44-0ubuntu0~0.18.04.1) over (440.36-0ubuntu0~0.18.04.1) ...\n",
            "Preparing to unpack .../10-libnvidia-decode-440_440.44-0ubuntu0~0.18.04.1_amd64.deb ...\n",
            "Unpacking libnvidia-decode-440:amd64 (440.44-0ubuntu0~0.18.04.1) over (440.36-0ubuntu0~0.18.04.1) ...\n",
            "Preparing to unpack .../11-libnvidia-compute-440_440.44-0ubuntu0~0.18.04.1_amd64.deb ...\n",
            "Unpacking libnvidia-compute-440:amd64 (440.44-0ubuntu0~0.18.04.1) over (440.36-0ubuntu0~0.18.04.1) ...\n",
            "Preparing to unpack .../12-libnvidia-gl-440_440.44-0ubuntu0~0.18.04.1_amd64.deb ...\n",
            "\u001b[1mdpkg-query:\u001b[0m no packages found matching libnvidia-gl-435\n",
            "Unpacking libnvidia-gl-440:amd64 (440.44-0ubuntu0~0.18.04.1) over (440.36-0ubuntu0~0.18.04.1) ...\n",
            "Preparing to unpack .../13-nvidia-dkms-440_440.44-0ubuntu0~0.18.04.1_amd64.deb ...\n",
            "Removing all DKMS Modules\n",
            "Done.\n",
            "Unpacking nvidia-dkms-440 (440.44-0ubuntu0~0.18.04.1) over (440.36-0ubuntu0~0.18.04.1) ...\n",
            "Preparing to unpack .../14-nvidia-kernel-source-440_440.44-0ubuntu0~0.18.04.1_amd64.deb ...\n",
            "Unpacking nvidia-kernel-source-440 (440.44-0ubuntu0~0.18.04.1) over (440.36-0ubuntu0~0.18.04.1) ...\n",
            "Preparing to unpack .../15-nvidia-kernel-common-440_440.44-0ubuntu0~0.18.04.1_amd64.deb ...\n",
            "Unpacking nvidia-kernel-common-440 (440.44-0ubuntu0~0.18.04.1) over (440.36-0ubuntu0~0.18.04.1) ...\n",
            "Preparing to unpack .../16-nvidia-compute-utils-440_440.44-0ubuntu0~0.18.04.1_amd64.deb ...\n",
            "System has not been booted with systemd as init system (PID 1). Can't operate.\n",
            "System has not been booted with systemd as init system (PID 1). Can't operate.\n",
            "Unpacking nvidia-compute-utils-440 (440.44-0ubuntu0~0.18.04.1) over (440.36-0ubuntu0~0.18.04.1) ...\n",
            "Preparing to unpack .../17-libnvidia-encode-440_440.44-0ubuntu0~0.18.04.1_amd64.deb ...\n",
            "Unpacking libnvidia-encode-440:amd64 (440.44-0ubuntu0~0.18.04.1) over (440.36-0ubuntu0~0.18.04.1) ...\n",
            "Preparing to unpack .../18-nvidia-utils-440_440.44-0ubuntu0~0.18.04.1_amd64.deb ...\n",
            "Unpacking nvidia-utils-440 (440.44-0ubuntu0~0.18.04.1) over (440.36-0ubuntu0~0.18.04.1) ...\n",
            "Preparing to unpack .../19-xserver-xorg-video-nvidia-440_440.44-0ubuntu0~0.18.04.1_amd64.deb ...\n",
            "Unpacking xserver-xorg-video-nvidia-440 (440.44-0ubuntu0~0.18.04.1) over (440.36-0ubuntu0~0.18.04.1) ...\n",
            "Preparing to unpack .../20-libnvidia-ifr1-440_440.44-0ubuntu0~0.18.04.1_amd64.deb ...\n",
            "Unpacking libnvidia-ifr1-440:amd64 (440.44-0ubuntu0~0.18.04.1) over (440.36-0ubuntu0~0.18.04.1) ...\n",
            "Preparing to unpack .../21-libnvidia-fbc1-440_440.44-0ubuntu0~0.18.04.1_amd64.deb ...\n",
            "Unpacking libnvidia-fbc1-440:amd64 (440.44-0ubuntu0~0.18.04.1) over (440.36-0ubuntu0~0.18.04.1) ...\n",
            "Preparing to unpack .../22-libnvidia-cfg1-440_440.44-0ubuntu0~0.18.04.1_amd64.deb ...\n",
            "Unpacking libnvidia-cfg1-440:amd64 (440.44-0ubuntu0~0.18.04.1) over (440.36-0ubuntu0~0.18.04.1) ...\n",
            "Preparing to unpack .../23-libnvidia-common-430_430.64-0ubuntu0~gpu18.04.1_all.deb ...\n",
            "Unpacking libnvidia-common-430 (430.64-0ubuntu0~gpu18.04.1) over (430.50-0ubuntu0.18.04.2) ...\n",
            "Preparing to unpack .../24-libpulse0_1%3a11.1-1ubuntu7.4_amd64.deb ...\n",
            "Unpacking libpulse0:amd64 (1:11.1-1ubuntu7.4) over (1:11.1-1ubuntu7.2) ...\n",
            "Preparing to unpack .../25-libssh-gcrypt-4_0.8.0~20170825.94fa1e38-1ubuntu0.5_amd64.deb ...\n",
            "Unpacking libssh-gcrypt-4:amd64 (0.8.0~20170825.94fa1e38-1ubuntu0.5) over (0.8.0~20170825.94fa1e38-1ubuntu0.2) ...\n",
            "Preparing to unpack .../26-r-cran-roxygen2_7.0.2-1cran1ppabionic0_amd64.deb ...\n",
            "Unpacking r-cran-roxygen2 (7.0.2-1cran1ppabionic0) over (7.0.1-1cran1ppabionic0) ...\n",
            "Preparing to unpack .../27-r-cran-rversions_2.0.1-1cran1ppabionic0_all.deb ...\n",
            "Unpacking r-cran-rversions (2.0.1-1cran1ppabionic0) over (2.0.0-1cran1ppabionic0) ...\n",
            "Preparing to unpack .../28-r-cran-survival_3.1-8-1cran1ppabionic0_amd64.deb ...\n",
            "Unpacking r-cran-survival (3.1-8-1cran1ppabionic0) over (3.1-7-1cran1ppabionic0) ...\n",
            "Preparing to unpack .../29-r-cran-testthat_2.3.1-1cran1ppabionic0_amd64.deb ...\n",
            "Unpacking r-cran-testthat (2.3.1-1cran1ppabionic0) over (2.3.0-1cran1ppabionic0) ...\n",
            "Setting up git-man (1:2.17.1-1ubuntu0.5) ...\n",
            "Setting up libnvidia-common-440 (440.44-0ubuntu0~0.18.04.1) ...\n",
            "Setting up libnvidia-fbc1-440:amd64 (440.44-0ubuntu0~0.18.04.1) ...\n",
            "Setting up libssh-gcrypt-4:amd64 (0.8.0~20170825.94fa1e38-1ubuntu0.5) ...\n",
            "Setting up cuda-license-10-2 (10.2.89-1) ...\n",
            "*** LICENSE AGREEMENT ***\n",
            "By using this software you agree to fully comply with the terms and \n",
            "conditions of the EULA (End User License Agreement). The EULA is located\n",
            "at /usr/local/cuda-10.2/doc/EULA.txt. The EULA can also be found at\n",
            "http://docs.nvidia.com/cuda/eula/index.html. If you do not agree to the\n",
            "terms and conditions of the EULA, do not use the software.\n",
            "\n",
            "Setting up libnvidia-common-430 (430.64-0ubuntu0~gpu18.04.1) ...\n",
            "Setting up libnvidia-compute-440:amd64 (440.44-0ubuntu0~0.18.04.1) ...\n",
            "Setting up libdevmapper1.02.1:amd64 (2:1.02.145-4.1ubuntu3.18.04.2) ...\n",
            "Setting up libpulse0:amd64 (1:11.1-1ubuntu7.4) ...\n",
            "Setting up nvidia-utils-440 (440.44-0ubuntu0~0.18.04.1) ...\n",
            "Setting up nvidia-kernel-common-440 (440.44-0ubuntu0~0.18.04.1) ...\n",
            "Setting up libnvidia-cfg1-440:amd64 (440.44-0ubuntu0~0.18.04.1) ...\n",
            "Setting up libcublas10 (10.2.2.89-1) ...\n",
            "Setting up libcublas-dev (10.2.2.89-1) ...\n",
            "Setting up r-cran-rversions (2.0.1-1cran1ppabionic0) ...\n",
            "Setting up libsqlite3-0:amd64 (3.22.0-1ubuntu0.2) ...\n",
            "Setting up r-cran-roxygen2 (7.0.2-1cran1ppabionic0) ...\n",
            "Setting up r-cran-testthat (2.3.1-1cran1ppabionic0) ...\n",
            "Setting up libnvidia-decode-440:amd64 (440.44-0ubuntu0~0.18.04.1) ...\n",
            "Setting up r-cran-survival (3.1-8-1cran1ppabionic0) ...\n",
            "Setting up nvidia-compute-utils-440 (440.44-0ubuntu0~0.18.04.1) ...\n",
            "Setting up libnvidia-encode-440:amd64 (440.44-0ubuntu0~0.18.04.1) ...\n",
            "Setting up nvidia-kernel-source-440 (440.44-0ubuntu0~0.18.04.1) ...\n",
            "Setting up xserver-xorg-video-nvidia-440 (440.44-0ubuntu0~0.18.04.1) ...\n",
            "Setting up git (1:2.17.1-1ubuntu0.5) ...\n",
            "Setting up libnvidia-gl-440:amd64 (440.44-0ubuntu0~0.18.04.1) ...\n",
            "Setting up libnss3:amd64 (2:3.35-2ubuntu2.6) ...\n",
            "Setting up nvidia-dkms-440 (440.44-0ubuntu0~0.18.04.1) ...\n",
            "Loading new nvidia-440.44 DKMS files...\n",
            "It is likely that 4.14.137+ belongs to a chroot's host\n",
            "Building for 4.15.0-72-generic\n",
            "Building for architecture x86_64\n",
            "Building initial module for 4.15.0-72-generic\n",
            "Done.\n",
            "\n",
            "nvidia:\n",
            "Running module version sanity check.\n",
            " - Original module\n",
            "   - No original module exists within this kernel\n",
            " - Installation\n",
            "   - Installing to /lib/modules/4.15.0-72-generic/updates/dkms/\n",
            "\n",
            "nvidia-modeset.ko:\n",
            "Running module version sanity check.\n",
            " - Original module\n",
            "   - No original module exists within this kernel\n",
            " - Installation\n",
            "   - Installing to /lib/modules/4.15.0-72-generic/updates/dkms/\n",
            "\n",
            "nvidia-drm.ko:\n",
            "Running module version sanity check.\n",
            " - Original module\n",
            "   - No original module exists within this kernel\n",
            " - Installation\n",
            "   - Installing to /lib/modules/4.15.0-72-generic/updates/dkms/\n",
            "\n",
            "nvidia-uvm.ko:\n",
            "Running module version sanity check.\n",
            " - Original module\n",
            "   - No original module exists within this kernel\n",
            " - Installation\n",
            "   - Installing to /lib/modules/4.15.0-72-generic/updates/dkms/\n",
            "\n",
            "depmod...\n",
            "\n",
            "DKMS: install completed.\n",
            "Setting up libnvidia-ifr1-440:amd64 (440.44-0ubuntu0~0.18.04.1) ...\n",
            "Setting up nvidia-driver-440 (440.44-0ubuntu0~0.18.04.1) ...\n",
            "Processing triggers for libc-bin (2.27-3ubuntu1) ...\n",
            "Processing triggers for man-db (2.8.3-2ubuntu0.1) ...\n",
            "Reading package lists... Done\n",
            "Building dependency tree       \n",
            "Reading state information... Done\n",
            "python-pyqt5 is already the newest version (5.10.1+dfsg-1ubuntu2).\n",
            "python-pyqt5 set to manually installed.\n",
            "The following package was automatically installed and is no longer required:\n",
            "  libnvidia-common-430\n",
            "Use 'apt autoremove' to remove it.\n",
            "0 upgraded, 0 newly installed, 0 to remove and 4 not upgraded.\n"
          ],
          "name": "stdout"
        }
      ]
    },
    {
      "cell_type": "code",
      "metadata": {
        "id": "hfPQlFMjsdhX",
        "colab_type": "code",
        "colab": {
          "base_uri": "https://localhost:8080/",
          "height": 797
        },
        "outputId": "b8e6a723-406c-49ce-ed72-b0ae8d0cda15"
      },
      "source": [
        "!apt update\n",
        "!apt dist-upgrade\n",
        "!apt-get install gr-gsm"
      ],
      "execution_count": null,
      "outputs": [
        {
          "output_type": "stream",
          "text": [
            "\u001b[33m\r0% [Working]\u001b[0m\r            \rHit:1 https://cloud.r-project.org/bin/linux/ubuntu bionic-cran35/ InRelease\n",
            "\u001b[33m\r0% [Connecting to archive.ubuntu.com (91.189.88.31)] [Connecting to security.ub\u001b[0m\u001b[33m\r0% [1 InRelease gpgv 3,626 B] [Connecting to archive.ubuntu.com (91.189.88.31)]\u001b[0m\u001b[33m\r0% [Connecting to archive.ubuntu.com (91.189.88.31)] [Connecting to security.ub\u001b[0m\r                                                                               \rIgn:2 https://developer.download.nvidia.com/compute/cuda/repos/ubuntu1804/x86_64  InRelease\n",
            "\u001b[33m\r0% [Connecting to archive.ubuntu.com (91.189.88.31)] [Connecting to security.ub\u001b[0m\r                                                                               \rIgn:3 https://developer.download.nvidia.com/compute/machine-learning/repos/ubuntu1804/x86_64  InRelease\n",
            "\u001b[33m\r                                                                               \r0% [Waiting for headers] [Waiting for headers] [Waiting for headers]\u001b[0m\r                                                                    \rHit:4 https://developer.download.nvidia.com/compute/cuda/repos/ubuntu1804/x86_64  Release\n",
            "\u001b[33m\r0% [Waiting for headers] [Waiting for headers] [Waiting for headers]\u001b[0m\u001b[33m\r0% [Release.gpg gpgv 564 B] [Waiting for headers] [Waiting for headers] [Waitin\u001b[0m\r                                                                               \rHit:5 https://developer.download.nvidia.com/compute/machine-learning/repos/ubuntu1804/x86_64  Release\n",
            "\u001b[33m\r0% [Release.gpg gpgv 564 B] [Waiting for headers] [Waiting for headers] [Waitin\u001b[0m\r                                                                               \rHit:6 http://security.ubuntu.com/ubuntu bionic-security InRelease\n",
            "\u001b[33m\r                                                                               \r0% [Release.gpg gpgv 564 B] [Waiting for headers] [Waiting for headers]\u001b[0m\r                                                                       \rHit:7 http://archive.ubuntu.com/ubuntu bionic InRelease\n",
            "\u001b[33m\r                                                                       \r0% [Release.gpg gpgv 564 B] [Waiting for headers]\u001b[0m\r                                                 \rHit:8 http://ppa.launchpad.net/graphics-drivers/ppa/ubuntu bionic InRelease\n",
            "\u001b[33m\r0% [Release.gpg gpgv 564 B] [Waiting for headers]\u001b[0m\u001b[33m\r0% [Waiting for headers] [Connecting to ppa.launchpad.net (91.189.95.83)]\u001b[0m\u001b[33m\r0% [Release.gpg gpgv 564 B] [Waiting for headers] [Connecting to ppa.launchpad.\u001b[0m\u001b[33m\r                                                                               \r0% [Waiting for headers] [Connecting to ppa.launchpad.net (91.189.95.83)]\u001b[0m\u001b[33m\r0% [6 InRelease gpgv 88.7 kB] [Waiting for headers] [Connecting to ppa.launchpa\u001b[0m\r                                                                               \rHit:11 http://archive.ubuntu.com/ubuntu bionic-updates InRelease\n",
            "\u001b[33m\r                                                                               \r0% [6 InRelease gpgv 88.7 kB] [Waiting for headers] [Waiting for headers]\u001b[0m\u001b[33m\r                                                                         \r0% [Waiting for headers] [Waiting for headers]\u001b[0m\u001b[33m\r0% [7 InRelease gpgv 242 kB] [Waiting for headers] [Waiting for headers]\u001b[0m\r                                                                        \rHit:12 http://ppa.launchpad.net/marutter/c2d4u3.5/ubuntu bionic InRelease\n",
            "Hit:13 http://archive.ubuntu.com/ubuntu bionic-backports InRelease\n",
            "Reading package lists... Done\n",
            "Building dependency tree       \n",
            "Reading state information... Done\n",
            "4 packages can be upgraded. Run 'apt list --upgradable' to see them.\n",
            "Reading package lists... Done\n",
            "Building dependency tree       \n",
            "Reading state information... Done\n",
            "Calculating upgrade... Done\n",
            "The following packages were automatically installed and are no longer required:\n",
            "  cuda-cufft-10-1 cuda-cufft-dev-10-1 cuda-curand-10-1 cuda-curand-dev-10-1\n",
            "  cuda-cusolver-10-1 cuda-cusolver-dev-10-1 cuda-cusparse-10-1\n",
            "  cuda-cusparse-dev-10-1 cuda-npp-10-1 cuda-npp-dev-10-1 cuda-nsight-10-1\n",
            "  cuda-nsight-compute-10-1 cuda-nsight-systems-10-1 cuda-nvgraph-10-1\n",
            "  cuda-nvgraph-dev-10-1 cuda-nvjpeg-10-1 cuda-nvjpeg-dev-10-1 cuda-nvrtc-10-1\n",
            "  cuda-nvrtc-dev-10-1 cuda-nvvp-10-1 libnvidia-common-430\n",
            "  nsight-compute-2019.5.0 nsight-systems-2019.5.2\n",
            "Use 'apt autoremove' to remove them.\n",
            "The following packages have been kept back:\n",
            "  libcudnn7 libcudnn7-dev libnccl-dev libnccl2\n",
            "0 upgraded, 0 newly installed, 0 to remove and 4 not upgraded.\n",
            "Reading package lists... Done\n",
            "Building dependency tree       \n",
            "Reading state information... Done\n",
            "gr-gsm is already the newest version (0.41.2-1).\n",
            "The following packages were automatically installed and are no longer required:\n",
            "  cuda-cufft-10-1 cuda-cufft-dev-10-1 cuda-curand-10-1 cuda-curand-dev-10-1\n",
            "  cuda-cusolver-10-1 cuda-cusolver-dev-10-1 cuda-cusparse-10-1\n",
            "  cuda-cusparse-dev-10-1 cuda-npp-10-1 cuda-npp-dev-10-1 cuda-nsight-10-1\n",
            "  cuda-nsight-compute-10-1 cuda-nsight-systems-10-1 cuda-nvgraph-10-1\n",
            "  cuda-nvgraph-dev-10-1 cuda-nvjpeg-10-1 cuda-nvjpeg-dev-10-1 cuda-nvrtc-10-1\n",
            "  cuda-nvrtc-dev-10-1 cuda-nvvp-10-1 libnvidia-common-430\n",
            "  nsight-compute-2019.5.0 nsight-systems-2019.5.2\n",
            "Use 'apt autoremove' to remove them.\n",
            "0 upgraded, 0 newly installed, 0 to remove and 4 not upgraded.\n"
          ],
          "name": "stdout"
        }
      ]
    },
    {
      "cell_type": "code",
      "metadata": {
        "id": "uDNfpAi8_fMZ",
        "colab_type": "code",
        "colab": {
          "base_uri": "https://localhost:8080/",
          "height": 322
        },
        "outputId": "cbceb025-dd96-429d-fe04-11f9a04abe4e"
      },
      "source": [
        "#!/usr/bin/env python2\n",
        "# -*- coding: utf-8 -*-\n",
        "##################################################\n",
        "# GNU Radio Python Flow Graph\n",
        "# Title: Top Block\n",
        "# Generated: Tue Dec 10 17:21:03 2019\n",
        "##################################################\n",
        "\n",
        "if __name__ == '__main__':\n",
        "    import ctypes\n",
        "    import sys\n",
        "    if sys.platform.startswith('linux'):\n",
        "        try:\n",
        "            x11 = ctypes.cdll.LoadLibrary('libX11.so')\n",
        "            x11.XInitThreads()\n",
        "        except:\n",
        "            print(\"Warning: failed to XInitThreads()\")\n",
        "\n",
        "from PyQt5 import Qt, QtCore, QtWidgets\n",
        "#from PyQt4 import Qt\n",
        "from gnuradio import analog\n",
        "from gnuradio import blocks\n",
        "from gnuradio import digital\n",
        "from gnuradio import eng_notation\n",
        "from gnuradio import filter\n",
        "from gnuradio import gr\n",
        "#from gnuradio import qtgui\n",
        "from gnuradio.eng_option import eng_option\n",
        "from gnuradio.filter import firdes\n",
        "from optparse import OptionParser\n",
        "import sip\n",
        "import sys\n",
        "\n",
        "\n",
        "class top_block(gr.top_block, Qt.QWidget):\n",
        "\n",
        "    def __init__(self):\n",
        "        gr.top_block.__init__(self, \"Top Block\")\n",
        "        Qt.QWidget.__init__(self)\n",
        "        self.setWindowTitle(\"Top Block\")\n",
        "        try:\n",
        "            self.setWindowIcon(Qt.QIcon.fromTheme('gnuradio-grc'))\n",
        "        except:\n",
        "            pass\n",
        "        self.top_scroll_layout = Qt.QVBoxLayout()\n",
        "        self.setLayout(self.top_scroll_layout)\n",
        "        self.top_scroll = Qt.QScrollArea()\n",
        "        self.top_scroll.setFrameStyle(Qt.QFrame.NoFrame)\n",
        "        self.top_scroll_layout.addWidget(self.top_scroll)\n",
        "        self.top_scroll.setWidgetResizable(True)\n",
        "        self.top_widget = Qt.QWidget()\n",
        "        self.top_scroll.setWidget(self.top_widget)\n",
        "        self.top_layout = Qt.QVBoxLayout(self.top_widget)\n",
        "        self.top_grid_layout = Qt.QGridLayout()\n",
        "        self.top_layout.addLayout(self.top_grid_layout)\n",
        "\n",
        "        self.settings = Qt.QSettings(\"GNU Radio\", \"top_block\")\n",
        "        self.restoreGeometry(self.settings.value(\"geometry\").toByteArray())\n",
        "\n",
        "        ##################################################\n",
        "        # Variables\n",
        "        ##################################################\n",
        "        self.samp_rate = samp_rate = 8000\n",
        "\n",
        "        ##################################################\n",
        "        # Blocks\n",
        "        ##################################################\n",
        "        self.rational_resampler_xxx_0 = filter.rational_resampler_ccc(\n",
        "                interpolation=1,\n",
        "                decimation=8,\n",
        "                taps=(810, ),\n",
        "                fractional_bw=0.499,\n",
        "        )\n",
        "        self.qtgui_const_sink_x_1 = qtgui.const_sink_c(\n",
        "        \t1024, #size\n",
        "        \t\"\", #name\n",
        "        \t1 #number of inputs\n",
        "        )\n",
        "        self.qtgui_const_sink_x_1.set_update_time(0.10)\n",
        "        self.qtgui_const_sink_x_1.set_y_axis(-2, 2)\n",
        "        self.qtgui_const_sink_x_1.set_x_axis(-2, 2)\n",
        "        self.qtgui_const_sink_x_1.set_trigger_mode(qtgui.TRIG_MODE_FREE, qtgui.TRIG_SLOPE_POS, 0.0, 0, \"\")\n",
        "        self.qtgui_const_sink_x_1.enable_autoscale(True)\n",
        "        self.qtgui_const_sink_x_1.enable_grid(True)\n",
        "        self.qtgui_const_sink_x_1.enable_axis_labels(True)\n",
        "        \n",
        "        if not True:\n",
        "          self.qtgui_const_sink_x_1.disable_legend()\n",
        "        \n",
        "        labels = ['', '', '', '', '',\n",
        "                  '', '', '', '', '']\n",
        "        widths = [1, 1, 1, 1, 1,\n",
        "                  1, 1, 1, 1, 1]\n",
        "        colors = [\"blue\", \"red\", \"red\", \"red\", \"red\",\n",
        "                  \"red\", \"red\", \"red\", \"red\", \"red\"]\n",
        "        styles = [0, 0, 0, 0, 0,\n",
        "                  0, 0, 0, 0, 0]\n",
        "        markers = [0, 0, 0, 0, 0,\n",
        "                   0, 0, 0, 0, 0]\n",
        "        alphas = [1.0, 1.0, 1.0, 1.0, 1.0,\n",
        "                  1.0, 1.0, 1.0, 1.0, 1.0]\n",
        "        for i in xrange(1):\n",
        "            if len(labels[i]) == 0:\n",
        "                self.qtgui_const_sink_x_1.set_line_label(i, \"Data {0}\".format(i))\n",
        "            else:\n",
        "                self.qtgui_const_sink_x_1.set_line_label(i, labels[i])\n",
        "            self.qtgui_const_sink_x_1.set_line_width(i, widths[i])\n",
        "            self.qtgui_const_sink_x_1.set_line_color(i, colors[i])\n",
        "            self.qtgui_const_sink_x_1.set_line_style(i, styles[i])\n",
        "            self.qtgui_const_sink_x_1.set_line_marker(i, markers[i])\n",
        "            self.qtgui_const_sink_x_1.set_line_alpha(i, alphas[i])\n",
        "        \n",
        "        self._qtgui_const_sink_x_1_win = sip.wrapinstance(self.qtgui_const_sink_x_1.pyqwidget(), Qt.QWidget)\n",
        "        self.top_layout.addWidget(self._qtgui_const_sink_x_1_win)\n",
        "        self.digital_psk_mod_0 = digital.psk.psk_mod(\n",
        "          constellation_points=4,\n",
        "          mod_code=\"gray\",\n",
        "          differential=True,\n",
        "          samples_per_symbol=8,\n",
        "          excess_bw=.35,\n",
        "          verbose=False,\n",
        "          log=False,\n",
        "          )\n",
        "        self.blocks_throttle_0 = blocks.throttle(gr.sizeof_char*1, samp_rate,True)\n",
        "        self.analog_random_uniform_source_x_0 = analog.random_uniform_source_b(0, 256, 0)\n",
        "\n",
        "        ##################################################\n",
        "        # Connections\n",
        "        ##################################################\n",
        "        self.connect((self.analog_random_uniform_source_x_0, 0), (self.blocks_throttle_0, 0))    \n",
        "        self.connect((self.blocks_throttle_0, 0), (self.digital_psk_mod_0, 0))    \n",
        "        self.connect((self.digital_psk_mod_0, 0), (self.rational_resampler_xxx_0, 0))    \n",
        "        self.connect((self.rational_resampler_xxx_0, 0), (self.qtgui_const_sink_x_1, 0))    \n",
        "\n",
        "    def closeEvent(self, event):\n",
        "        self.settings = Qt.QSettings(\"GNU Radio\", \"top_block\")\n",
        "        self.settings.setValue(\"geometry\", self.saveGeometry())\n",
        "        event.accept()\n",
        "\n",
        "    def get_samp_rate(self):\n",
        "        return self.samp_rate\n",
        "\n",
        "    def set_samp_rate(self, samp_rate):\n",
        "        self.samp_rate = samp_rate\n",
        "        self.blocks_throttle_0.set_sample_rate(self.samp_rate)\n",
        "\n",
        "\n",
        "def main(top_block_cls=top_block, options=None):\n",
        "\n",
        "    from distutils.version import StrictVersion\n",
        "    if StrictVersion(Qt.qVersion()) >= StrictVersion(\"4.5.0\"):\n",
        "        style = gr.prefs().get_string('qtgui', 'style', 'raster')\n",
        "        Qt.QApplication.setGraphicsSystem(style)\n",
        "    qapp = Qt.QApplication(sys.argv)\n",
        "\n",
        "    tb = top_block_cls()\n",
        "    tb.start()\n",
        "    tb.show()\n",
        "\n",
        "    def quitting():\n",
        "        tb.stop()\n",
        "        tb.wait()\n",
        "    qapp.connect(qapp, Qt.SIGNAL(\"aboutToQuit()\"), quitting)\n",
        "    qapp.exec_()\n",
        "\n",
        "\n",
        "if __name__ == '__main__':\n",
        "    main()\n"
      ],
      "execution_count": null,
      "outputs": [
        {
          "output_type": "error",
          "ename": "AttributeError",
          "evalue": "ignored",
          "traceback": [
            "\u001b[0;31m\u001b[0m",
            "\u001b[0;31mAttributeError\u001b[0mTraceback (most recent call last)",
            "\u001b[0;32m<ipython-input-1-47f0563ad997>\u001b[0m in \u001b[0;36m<module>\u001b[0;34m()\u001b[0m\n\u001b[1;32m    159\u001b[0m \u001b[0;34m\u001b[0m\u001b[0m\n\u001b[1;32m    160\u001b[0m \u001b[0;32mif\u001b[0m \u001b[0m__name__\u001b[0m \u001b[0;34m==\u001b[0m \u001b[0;34m'__main__'\u001b[0m\u001b[0;34m:\u001b[0m\u001b[0;34m\u001b[0m\u001b[0;34m\u001b[0m\u001b[0m\n\u001b[0;32m--> 161\u001b[0;31m     \u001b[0mmain\u001b[0m\u001b[0;34m(\u001b[0m\u001b[0;34m)\u001b[0m\u001b[0;34m\u001b[0m\u001b[0;34m\u001b[0m\u001b[0m\n\u001b[0m",
            "\u001b[0;32m<ipython-input-1-47f0563ad997>\u001b[0m in \u001b[0;36mmain\u001b[0;34m(top_block_cls, options)\u001b[0m\n\u001b[1;32m    144\u001b[0m     \u001b[0;32mif\u001b[0m \u001b[0mStrictVersion\u001b[0m\u001b[0;34m(\u001b[0m\u001b[0mQt\u001b[0m\u001b[0;34m.\u001b[0m\u001b[0mqVersion\u001b[0m\u001b[0;34m(\u001b[0m\u001b[0;34m)\u001b[0m\u001b[0;34m)\u001b[0m \u001b[0;34m>=\u001b[0m \u001b[0mStrictVersion\u001b[0m\u001b[0;34m(\u001b[0m\u001b[0;34m\"4.5.0\"\u001b[0m\u001b[0;34m)\u001b[0m\u001b[0;34m:\u001b[0m\u001b[0;34m\u001b[0m\u001b[0;34m\u001b[0m\u001b[0m\n\u001b[1;32m    145\u001b[0m         \u001b[0mstyle\u001b[0m \u001b[0;34m=\u001b[0m \u001b[0mgr\u001b[0m\u001b[0;34m.\u001b[0m\u001b[0mprefs\u001b[0m\u001b[0;34m(\u001b[0m\u001b[0;34m)\u001b[0m\u001b[0;34m.\u001b[0m\u001b[0mget_string\u001b[0m\u001b[0;34m(\u001b[0m\u001b[0;34m'qtgui'\u001b[0m\u001b[0;34m,\u001b[0m \u001b[0;34m'style'\u001b[0m\u001b[0;34m,\u001b[0m \u001b[0;34m'raster'\u001b[0m\u001b[0;34m)\u001b[0m\u001b[0;34m\u001b[0m\u001b[0;34m\u001b[0m\u001b[0m\n\u001b[0;32m--> 146\u001b[0;31m         \u001b[0mQt\u001b[0m\u001b[0;34m.\u001b[0m\u001b[0mQApplication\u001b[0m\u001b[0;34m.\u001b[0m\u001b[0msetGraphicsSystem\u001b[0m\u001b[0;34m(\u001b[0m\u001b[0mstyle\u001b[0m\u001b[0;34m)\u001b[0m\u001b[0;34m\u001b[0m\u001b[0;34m\u001b[0m\u001b[0m\n\u001b[0m\u001b[1;32m    147\u001b[0m     \u001b[0mqapp\u001b[0m \u001b[0;34m=\u001b[0m \u001b[0mQt\u001b[0m\u001b[0;34m.\u001b[0m\u001b[0mQApplication\u001b[0m\u001b[0;34m(\u001b[0m\u001b[0msys\u001b[0m\u001b[0;34m.\u001b[0m\u001b[0margv\u001b[0m\u001b[0;34m)\u001b[0m\u001b[0;34m\u001b[0m\u001b[0;34m\u001b[0m\u001b[0m\n\u001b[1;32m    148\u001b[0m \u001b[0;34m\u001b[0m\u001b[0m\n",
            "\u001b[0;31mAttributeError\u001b[0m: type object 'QApplication' has no attribute 'setGraphicsSystem'"
          ]
        }
      ]
    },
    {
      "cell_type": "code",
      "metadata": {
        "id": "XxEKjZWiEZr2",
        "colab_type": "code",
        "colab": {
          "base_uri": "https://localhost:8080/",
          "height": 87
        },
        "outputId": "6fee7729-2b45-4cb9-ff4c-29bc1c46b213"
      },
      "source": [
        "!apt install PyQt5"
      ],
      "execution_count": null,
      "outputs": [
        {
          "output_type": "stream",
          "text": [
            "\rReading package lists... 0%\r\rReading package lists... 0%\r\rReading package lists... 0%\r\rReading package lists... 7%\r\rReading package lists... 7%\r\rReading package lists... 7%\r\rReading package lists... 7%\r\rReading package lists... 65%\r\rReading package lists... 65%\r\rReading package lists... 66%\r\rReading package lists... 66%\r\rReading package lists... 73%\r\rReading package lists... 73%\r\rReading package lists... 73%\r\rReading package lists... 73%\r\rReading package lists... 82%\r\rReading package lists... 82%\r\rReading package lists... 82%\r\rReading package lists... 82%\r\rReading package lists... 82%\r\rReading package lists... 82%\r\rReading package lists... 82%\r\rReading package lists... 82%\r\rReading package lists... 87%\r\rReading package lists... 87%\r\rReading package lists... 87%\r\rReading package lists... 87%\r\rReading package lists... 93%\r\rReading package lists... 93%\r\rReading package lists... 93%\r\rReading package lists... 93%\r\rReading package lists... 93%\r\rReading package lists... 93%\r\rReading package lists... 94%\r\rReading package lists... 94%\r\rReading package lists... 94%\r\rReading package lists... 94%\r\rReading package lists... 95%\r\rReading package lists... 98%\r\rReading package lists... 98%\r\rReading package lists... 98%\r\rReading package lists... 98%\r\rReading package lists... Done\r\n",
            "\rBuilding dependency tree... 0%\r\rBuilding dependency tree... 0%\r\rBuilding dependency tree... 50%\r\rBuilding dependency tree... 50%\r\rBuilding dependency tree       \r\n",
            "\rReading state information... 0%\r\rReading state information... 0%\r\rReading state information... Done\r\n",
            "E: Unable to locate package PyQt5\n"
          ],
          "name": "stdout"
        }
      ]
    },
    {
      "cell_type": "code",
      "metadata": {
        "id": "lU5vzdWOigCQ",
        "colab_type": "code",
        "colab": {}
      },
      "source": [
        "import sys\n",
        "import signal\n",
        "from argparse import ArgumentParser\n",
        "from gnuradio.eng_arg import eng_float, intx\n",
        "from gnuradio import eng_notation\n",
        "from gnuradio import qtgui"
      ],
      "execution_count": null,
      "outputs": []
    },
    {
      "cell_type": "code",
      "metadata": {
        "id": "lhfcviqG6JlI",
        "colab_type": "code",
        "colab": {}
      },
      "source": [
        "#!/usr/bin/env python2\n",
        "# -*- coding: utf-8 -*-\n",
        "\n",
        "#\n",
        "# SPDX-License-Identifier: GPL-3.0\n",
        "#\n",
        "# GNU Radio Python Flow Graph\n",
        "# Title: Not titled yet\n",
        "# GNU Radio version: 3.8.0.0\n",
        "\n",
        "from distutils.version import StrictVersion\n",
        "\n",
        "if __name__ == '__main__':\n",
        "    import ctypes\n",
        "    import sys\n",
        "    if sys.platform.startswith('linux'):\n",
        "        try:\n",
        "            x11 = ctypes.cdll.LoadLibrary('libX11.so')\n",
        "            x11.XInitThreads()\n",
        "        except:\n",
        "            print(\"Warning: failed to XInitThreads()\")\n",
        "\n",
        "from PyQt5 import Qt\n",
        "from gnuradio import qtgui\n",
        "import sip\n",
        "from gnuradio import blocks\n",
        "import numpy\n",
        "from gnuradio import digital\n",
        "from gnuradio import filter\n",
        "from gnuradio.filter import firdes\n",
        "from gnuradio import gr\n",
        "import sys\n",
        "import signal\n",
        "from argparse import ArgumentParser\n",
        "from gnuradio.eng_arg import eng_float, intx\n",
        "from gnuradio import eng_notation\n",
        "from gnuradio import qtgui\n",
        "\n",
        "class psk23(gr.top_block, Qt.QWidget):\n",
        "\n",
        "    def __init__(self):\n",
        "        gr.top_block.__init__(self, \"Not titled yet\")\n",
        "        Qt.QWidget.__init__(self)\n",
        "        self.setWindowTitle(\"Not titled yet\")\n",
        "        qtgui.util.check_set_qss()\n",
        "        try:\n",
        "            self.setWindowIcon(Qt.QIcon.fromTheme('gnuradio-grc'))\n",
        "        except:\n",
        "            pass\n",
        "        self.top_scroll_layout = Qt.QVBoxLayout()\n",
        "        self.setLayout(self.top_scroll_layout)\n",
        "        self.top_scroll = Qt.QScrollArea()\n",
        "        self.top_scroll.setFrameStyle(Qt.QFrame.NoFrame)\n",
        "        self.top_scroll_layout.addWidget(self.top_scroll)\n",
        "        self.top_scroll.setWidgetResizable(True)\n",
        "        self.top_widget = Qt.QWidget()\n",
        "        self.top_scroll.setWidget(self.top_widget)\n",
        "        self.top_layout = Qt.QVBoxLayout(self.top_widget)\n",
        "        self.top_grid_layout = Qt.QGridLayout()\n",
        "        self.top_layout.addLayout(self.top_grid_layout)\n",
        "\n",
        "        self.settings = Qt.QSettings(\"GNU Radio\", \"psk23\")\n",
        "\n",
        "        try:\n",
        "            if StrictVersion(Qt.qVersion()) < StrictVersion(\"5.0.0\"):\n",
        "                self.restoreGeometry(self.settings.value(\"geometry\").toByteArray())\n",
        "            else:\n",
        "                self.restoreGeometry(self.settings.value(\"geometry\"))\n",
        "        except:\n",
        "            pass\n",
        "\n",
        "        ##################################################\n",
        "        # Variables\n",
        "        ##################################################\n",
        "        self.samp_rate = samp_rate = 32000\n",
        "        self.variable_rrc_filter_taps_0 = variable_rrc_filter_taps_0 = firdes.root_raised_cosine(1.0, samp_rate,4000, 0.35, 8)\n",
        "\n",
        "        ##################################################\n",
        "        # Blocks\n",
        "        ##################################################\n",
        "        self.qtgui_const_sink_x_0 = qtgui.const_sink_c(\n",
        "            1024, #size\n",
        "            \"\", #name\n",
        "            1 #number of inputs\n",
        "        )\n",
        "        self.qtgui_const_sink_x_0.set_update_time(0.10)\n",
        "        self.qtgui_const_sink_x_0.set_y_axis(-2, 2)\n",
        "        self.qtgui_const_sink_x_0.set_x_axis(-2, 2)\n",
        "        self.qtgui_const_sink_x_0.set_trigger_mode(qtgui.TRIG_MODE_FREE, qtgui.TRIG_SLOPE_POS, 0.0, 0, \"\")\n",
        "        self.qtgui_const_sink_x_0.enable_autoscale(False)\n",
        "        self.qtgui_const_sink_x_0.enable_grid(False)\n",
        "        self.qtgui_const_sink_x_0.enable_axis_labels(True)\n",
        "\n",
        "\n",
        "        labels = ['', '', '', '', '',\n",
        "            '', '', '', '', '']\n",
        "        widths = [1, 1, 1, 1, 1,\n",
        "            1, 1, 1, 1, 1]\n",
        "        colors = [\"blue\", \"red\", \"red\", \"red\", \"red\",\n",
        "            \"red\", \"red\", \"red\", \"red\", \"red\"]\n",
        "        styles = [0, 0, 0, 0, 0,\n",
        "            0, 0, 0, 0, 0]\n",
        "        markers = [0, 0, 0, 0, 0,\n",
        "            0, 0, 0, 0, 0]\n",
        "        alphas = [1.0, 1.0, 1.0, 1.0, 1.0,\n",
        "            1.0, 1.0, 1.0, 1.0, 1.0]\n",
        "\n",
        "        for i in range(1):\n",
        "            if len(labels[i]) == 0:\n",
        "                self.qtgui_const_sink_x_0.set_line_label(i, \"Data {0}\".format(i))\n",
        "            else:\n",
        "                self.qtgui_const_sink_x_0.set_line_label(i, labels[i])\n",
        "            self.qtgui_const_sink_x_0.set_line_width(i, widths[i])\n",
        "            self.qtgui_const_sink_x_0.set_line_color(i, colors[i])\n",
        "            self.qtgui_const_sink_x_0.set_line_style(i, styles[i])\n",
        "            self.qtgui_const_sink_x_0.set_line_marker(i, markers[i])\n",
        "            self.qtgui_const_sink_x_0.set_line_alpha(i, alphas[i])\n",
        "\n",
        "        self._qtgui_const_sink_x_0_win = sip.wrapinstance(self.qtgui_const_sink_x_0.pyqwidget(), Qt.QWidget)\n",
        "        self.top_grid_layout.addWidget(self._qtgui_const_sink_x_0_win)\n",
        "        self.fir_filter_xxx_0 = filter.fir_filter_ccc(8, variable_rrc_filter_taps_0)\n",
        "        self.fir_filter_xxx_0.declare_sample_delay(0)\n",
        "        self.digital_psk_mod_0 = digital.psk.psk_mod(\n",
        "            constellation_points=4,\n",
        "            mod_code=\"gray\",\n",
        "            differential=True,\n",
        "            samples_per_symbol=8,\n",
        "            excess_bw=0.35,\n",
        "            verbose=False,\n",
        "            log=False)\n",
        "        self.analog_random_source_x_0 = blocks.vector_source_b(list(map(int, numpy.random.randint(0, 2, 1000))), True)\n",
        "\n",
        "\n",
        "\n",
        "        ##################################################\n",
        "        # Connections\n",
        "        ##################################################\n",
        "        self.connect((self.analog_random_source_x_0, 0), (self.digital_psk_mod_0, 0))\n",
        "        self.connect((self.digital_psk_mod_0, 0), (self.fir_filter_xxx_0, 0))\n",
        "        last=self.fir_filter_xxx_0\n",
        "        raw_output_vector = np.array(last)\n",
        "        dataset = np.real(raw_output_vector)\n",
        "\n",
        "    def closeEvent(self, event):\n",
        "        self.settings = Qt.QSettings(\"GNU Radio\", \"psk23\")\n",
        "        self.settings.setValue(\"geometry\", self.saveGeometry())\n",
        "        event.accept()\n",
        "\n",
        "    def get_samp_rate(self):\n",
        "        return self.samp_rate\n",
        "\n",
        "    def set_samp_rate(self, samp_rate):\n",
        "        self.samp_rate = samp_rate\n",
        "\n",
        "    def get_variable_rrc_filter_taps_0(self):\n",
        "        return self.variable_rrc_filter_taps_0\n",
        "\n",
        "    def set_variable_rrc_filter_taps_0(self, variable_rrc_filter_taps_0):\n",
        "        self.variable_rrc_filter_taps_0 = variable_rrc_filter_taps_0\n",
        "        self.fir_filter_xxx_0.set_taps(self.variable_rrc_filter_taps_0)\n",
        "\n",
        "\n",
        "\n",
        "def main(top_block_cls=psk23, options=None):\n",
        "\n",
        "    if StrictVersion(\"4.5.0\") <= StrictVersion(Qt.qVersion()) < StrictVersion(\"5.0.0\"):\n",
        "        style = gr.prefs().get_string('qtgui', 'style', 'raster')\n",
        "        Qt.QApplication.setGraphicsSystem(style)\n",
        "    qapp = Qt.QApplication(sys.argv)\n",
        "\n",
        "    tb = top_block_cls()\n",
        "    tb.start()\n",
        "    tb.show()\n",
        "\n",
        "    def sig_handler(sig=None, frame=None):\n",
        "        Qt.QApplication.quit()\n",
        "\n",
        "    signal.signal(signal.SIGINT, sig_handler)\n",
        "    signal.signal(signal.SIGTERM, sig_handler)\n",
        "\n",
        "    timer = Qt.QTimer()\n",
        "    timer.start(500)\n",
        "    timer.timeout.connect(lambda: None)\n",
        "\n",
        "    def quitting():\n",
        "        tb.stop()\n",
        "        tb.wait()\n",
        "    qapp.aboutToQuit.connect(quitting)\n",
        "    qapp.exec_()\n",
        "\n",
        "\n",
        "if __name__ == '__main__':\n",
        "    main()\n"
      ],
      "execution_count": null,
      "outputs": []
    },
    {
      "cell_type": "code",
      "metadata": {
        "id": "SCqnHMA9SWEQ",
        "colab_type": "code",
        "colab": {}
      },
      "source": [
        "import pickle\n",
        "import sys\n",
        "import pandas as pd \n",
        "import numpy as np"
      ],
      "execution_count": null,
      "outputs": []
    },
    {
      "cell_type": "code",
      "metadata": {
        "id": "Woys-IMVSWj2",
        "colab_type": "code",
        "colab": {
          "base_uri": "https://localhost:8080/",
          "height": 381
        },
        "outputId": "5cf83ca0-fd2e-437d-83ad-474d82342025"
      },
      "source": [
        "with open('/content/time.dat') as f:\n",
        "    data = pickle.load(f)\n",
        "#print(data)\n",
        "\n",
        "print(type(data))\n",
        "print((data.keys()))"
      ],
      "execution_count": null,
      "outputs": [
        {
          "output_type": "error",
          "ename": "KeyError",
          "evalue": "ignored",
          "traceback": [
            "\u001b[0;31m\u001b[0m",
            "\u001b[0;31mKeyError\u001b[0mTraceback (most recent call last)",
            "\u001b[0;32m<ipython-input-4-a89e0fa9fc66>\u001b[0m in \u001b[0;36m<module>\u001b[0;34m()\u001b[0m\n\u001b[1;32m      1\u001b[0m \u001b[0;32mwith\u001b[0m \u001b[0mopen\u001b[0m\u001b[0;34m(\u001b[0m\u001b[0;34m'/content/time.dat'\u001b[0m\u001b[0;34m)\u001b[0m \u001b[0;32mas\u001b[0m \u001b[0mf\u001b[0m\u001b[0;34m:\u001b[0m\u001b[0;34m\u001b[0m\u001b[0;34m\u001b[0m\u001b[0m\n\u001b[0;32m----> 2\u001b[0;31m     \u001b[0mdata\u001b[0m \u001b[0;34m=\u001b[0m \u001b[0mpickle\u001b[0m\u001b[0;34m.\u001b[0m\u001b[0mload\u001b[0m\u001b[0;34m(\u001b[0m\u001b[0mf\u001b[0m\u001b[0;34m)\u001b[0m\u001b[0;34m\u001b[0m\u001b[0;34m\u001b[0m\u001b[0m\n\u001b[0m\u001b[1;32m      3\u001b[0m \u001b[0;31m#print(data)\u001b[0m\u001b[0;34m\u001b[0m\u001b[0;34m\u001b[0m\u001b[0;34m\u001b[0m\u001b[0m\n\u001b[1;32m      4\u001b[0m \u001b[0;34m\u001b[0m\u001b[0m\n\u001b[1;32m      5\u001b[0m \u001b[0;32mprint\u001b[0m\u001b[0;34m(\u001b[0m\u001b[0mtype\u001b[0m\u001b[0;34m(\u001b[0m\u001b[0mdata\u001b[0m\u001b[0;34m)\u001b[0m\u001b[0;34m)\u001b[0m\u001b[0;34m\u001b[0m\u001b[0;34m\u001b[0m\u001b[0m\n",
            "\u001b[0;32m/usr/lib/python2.7/pickle.pyc\u001b[0m in \u001b[0;36mload\u001b[0;34m(file)\u001b[0m\n\u001b[1;32m   1382\u001b[0m \u001b[0;34m\u001b[0m\u001b[0m\n\u001b[1;32m   1383\u001b[0m \u001b[0;32mdef\u001b[0m \u001b[0mload\u001b[0m\u001b[0;34m(\u001b[0m\u001b[0mfile\u001b[0m\u001b[0;34m)\u001b[0m\u001b[0;34m:\u001b[0m\u001b[0;34m\u001b[0m\u001b[0;34m\u001b[0m\u001b[0m\n\u001b[0;32m-> 1384\u001b[0;31m     \u001b[0;32mreturn\u001b[0m \u001b[0mUnpickler\u001b[0m\u001b[0;34m(\u001b[0m\u001b[0mfile\u001b[0m\u001b[0;34m)\u001b[0m\u001b[0;34m.\u001b[0m\u001b[0mload\u001b[0m\u001b[0;34m(\u001b[0m\u001b[0;34m)\u001b[0m\u001b[0;34m\u001b[0m\u001b[0;34m\u001b[0m\u001b[0m\n\u001b[0m\u001b[1;32m   1385\u001b[0m \u001b[0;34m\u001b[0m\u001b[0m\n\u001b[1;32m   1386\u001b[0m \u001b[0;32mdef\u001b[0m \u001b[0mloads\u001b[0m\u001b[0;34m(\u001b[0m\u001b[0mstr\u001b[0m\u001b[0;34m)\u001b[0m\u001b[0;34m:\u001b[0m\u001b[0;34m\u001b[0m\u001b[0;34m\u001b[0m\u001b[0m\n",
            "\u001b[0;32m/usr/lib/python2.7/pickle.pyc\u001b[0m in \u001b[0;36mload\u001b[0;34m(self)\u001b[0m\n\u001b[1;32m    862\u001b[0m             \u001b[0;32mwhile\u001b[0m \u001b[0;36m1\u001b[0m\u001b[0;34m:\u001b[0m\u001b[0;34m\u001b[0m\u001b[0;34m\u001b[0m\u001b[0m\n\u001b[1;32m    863\u001b[0m                 \u001b[0mkey\u001b[0m \u001b[0;34m=\u001b[0m \u001b[0mread\u001b[0m\u001b[0;34m(\u001b[0m\u001b[0;36m1\u001b[0m\u001b[0;34m)\u001b[0m\u001b[0;34m\u001b[0m\u001b[0;34m\u001b[0m\u001b[0m\n\u001b[0;32m--> 864\u001b[0;31m                 \u001b[0mdispatch\u001b[0m\u001b[0;34m[\u001b[0m\u001b[0mkey\u001b[0m\u001b[0;34m]\u001b[0m\u001b[0;34m(\u001b[0m\u001b[0mself\u001b[0m\u001b[0;34m)\u001b[0m\u001b[0;34m\u001b[0m\u001b[0;34m\u001b[0m\u001b[0m\n\u001b[0m\u001b[1;32m    865\u001b[0m         \u001b[0;32mexcept\u001b[0m \u001b[0m_Stop\u001b[0m\u001b[0;34m,\u001b[0m \u001b[0mstopinst\u001b[0m\u001b[0;34m:\u001b[0m\u001b[0;34m\u001b[0m\u001b[0;34m\u001b[0m\u001b[0m\n\u001b[1;32m    866\u001b[0m             \u001b[0;32mreturn\u001b[0m \u001b[0mstopinst\u001b[0m\u001b[0;34m.\u001b[0m\u001b[0mvalue\u001b[0m\u001b[0;34m\u001b[0m\u001b[0;34m\u001b[0m\u001b[0m\n",
            "\u001b[0;31mKeyError\u001b[0m: '\\t'"
          ]
        }
      ]
    },
    {
      "cell_type": "code",
      "metadata": {
        "id": "ii9dDVvdS6yC",
        "colab_type": "code",
        "colab": {
          "base_uri": "https://localhost:8080/",
          "height": 35
        },
        "outputId": "79293812-ad19-4c62-c2b7-6e066e9789cf"
      },
      "source": [
        "!python /content/drive/My \\Drive/dataset-master/generate_RML2016.10a.py"
      ],
      "execution_count": null,
      "outputs": [
        {
          "output_type": "stream",
          "text": [
            "python2: can't open file '/content/drive/My': [Errno 2] No such file or directory\n"
          ],
          "name": "stdout"
        }
      ]
    },
    {
      "cell_type": "code",
      "metadata": {
        "id": "5p1xRPmmsoA7",
        "colab_type": "code",
        "colab": {}
      },
      "source": [
        ""
      ],
      "execution_count": null,
      "outputs": []
    }
  ]
}